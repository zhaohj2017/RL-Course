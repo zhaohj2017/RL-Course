{
 "metadata": {
  "language_info": {
   "codemirror_mode": {
    "name": "ipython",
    "version": 3
   },
   "file_extension": ".py",
   "mimetype": "text/x-python",
   "name": "python",
   "nbconvert_exporter": "python",
   "pygments_lexer": "ipython3",
   "version": "3.7.6-final"
  },
  "orig_nbformat": 2,
  "kernelspec": {
   "name": "python3",
   "display_name": "Python 3.7.6 64-bit",
   "metadata": {
    "interpreter": {
     "hash": "aee8b7b246df8f9039afb4144a1f6fd8d2ca17a180786b69acc140d282b71a49"
    }
   }
  }
 },
 "nbformat": 4,
 "nbformat_minor": 2,
 "cells": [
  {
   "source": [
    "## Package"
   ],
   "cell_type": "markdown",
   "metadata": {}
  },
  {
   "cell_type": "code",
   "execution_count": 21,
   "metadata": {},
   "outputs": [],
   "source": [
    "import torch\n",
    "import torch.nn as nn\n",
    "from torchvision import datasets\n",
    "from torchvision import transforms\n",
    "import numpy as np\n",
    "import matplotlib.pyplot as plt\n",
    "from torch.utils.tensorboard import SummaryWriter\n",
    "import torch.optim as optim"
   ]
  },
  {
   "source": [
    "## Data set"
   ],
   "cell_type": "markdown",
   "metadata": {}
  },
  {
   "cell_type": "code",
   "execution_count": 22,
   "metadata": {},
   "outputs": [
    {
     "output_type": "execute_result",
     "data": {
      "text/plain": [
       "60000"
      ]
     },
     "metadata": {},
     "execution_count": 22
    }
   ],
   "source": [
    "traindata = datasets.MNIST('data/mnist_train', train=True, download=False, transform=transforms.ToTensor()) # download = True to download\n",
    "\n",
    "len(traindata)"
   ]
  },
  {
   "source": [
    "## Sample"
   ],
   "cell_type": "markdown",
   "metadata": {}
  },
  {
   "source": [
    "img, label = traindata[np.random.randint(0,60000-1)]\n",
    "print(label)"
   ],
   "cell_type": "code",
   "metadata": {},
   "execution_count": 23,
   "outputs": [
    {
     "output_type": "stream",
     "name": "stdout",
     "text": [
      "5\n"
     ]
    }
   ]
  },
  {
   "cell_type": "code",
   "execution_count": 24,
   "metadata": {},
   "outputs": [
    {
     "output_type": "stream",
     "name": "stdout",
     "text": [
      "tensor([[[0.0000, 0.0000, 0.0000, 0.0000, 0.0000, 0.0000, 0.0000, 0.0000,\n          0.0000, 0.0000, 0.0000, 0.0000, 0.0000, 0.0000, 0.0000, 0.0000,\n          0.0000, 0.0000, 0.0000, 0.0000, 0.0000, 0.0000, 0.0000, 0.0000,\n          0.0000, 0.0000, 0.0000, 0.0000],\n         [0.0000, 0.0000, 0.0000, 0.0000, 0.0000, 0.0000, 0.0000, 0.0000,\n          0.0000, 0.0000, 0.0000, 0.0000, 0.0000, 0.0000, 0.0000, 0.0000,\n          0.0000, 0.0000, 0.0000, 0.0000, 0.0000, 0.0000, 0.0000, 0.0000,\n          0.0000, 0.0000, 0.0000, 0.0000],\n         [0.0000, 0.0000, 0.0000, 0.0000, 0.0000, 0.0000, 0.0000, 0.0000,\n          0.0000, 0.0000, 0.0000, 0.0000, 0.0000, 0.0000, 0.0000, 0.0000,\n          0.0000, 0.0000, 0.0000, 0.0000, 0.0000, 0.0000, 0.0000, 0.0000,\n          0.0000, 0.0000, 0.0000, 0.0000],\n         [0.0000, 0.0000, 0.0000, 0.0000, 0.0000, 0.0000, 0.0000, 0.0000,\n          0.0000, 0.0000, 0.0000, 0.0000, 0.0000, 0.0000, 0.0000, 0.0000,\n          0.0000, 0.0000, 0.0000, 0.0000, 0.0000, 0.0000, 0.0000, 0.0000,\n          0.0000, 0.0000, 0.0000, 0.0000],\n         [0.0000, 0.0000, 0.0000, 0.0000, 0.0000, 0.0000, 0.0000, 0.0000,\n          0.0000, 0.0000, 0.0000, 0.0000, 0.0000, 0.0000, 0.0000, 0.0000,\n          0.0000, 0.0000, 0.0000, 0.0000, 0.0000, 0.0000, 0.0000, 0.0000,\n          0.0000, 0.0000, 0.0000, 0.0000],\n         [0.0000, 0.0000, 0.0000, 0.0000, 0.0000, 0.0000, 0.0000, 0.0000,\n          0.0000, 0.0000, 0.0000, 0.0000, 0.0000, 0.0000, 0.0000, 0.0000,\n          0.0000, 0.0000, 0.0000, 0.0000, 0.0000, 0.0000, 0.0000, 0.0000,\n          0.0000, 0.0000, 0.0000, 0.0000],\n         [0.0000, 0.0000, 0.0000, 0.0000, 0.0000, 0.0000, 0.0000, 0.0000,\n          0.0000, 0.0000, 0.0000, 0.0000, 0.0000, 0.0000, 0.0000, 0.0000,\n          0.0000, 0.0000, 0.0000, 0.0000, 0.0000, 0.0000, 0.0000, 0.0000,\n          0.0000, 0.0000, 0.0000, 0.0000],\n         [0.0000, 0.0000, 0.0000, 0.0000, 0.0000, 0.0000, 0.0000, 0.0000,\n          0.0000, 0.0000, 0.0000, 0.0275, 0.2196, 0.5216, 0.2196, 0.2196,\n          0.2196, 0.2196, 0.2196, 0.2196, 0.2549, 0.6039, 0.6588, 0.9961,\n          1.0000, 0.5333, 0.0000, 0.0000],\n         [0.0000, 0.0000, 0.0000, 0.0000, 0.0000, 0.0000, 0.0000, 0.0000,\n          0.0275, 0.3804, 0.5451, 0.8431, 0.9922, 0.9922, 0.9922, 0.9922,\n          0.9922, 0.9922, 0.9922, 0.9922, 0.9922, 0.9922, 0.7647, 0.4275,\n          0.5490, 0.4118, 0.0000, 0.0000],\n         [0.0000, 0.0000, 0.0000, 0.0000, 0.0000, 0.0000, 0.0000, 0.2275,\n          0.8706, 0.9922, 0.9922, 0.8941, 0.9922, 0.8549, 0.7373, 0.9882,\n          0.9922, 0.8353, 0.7373, 0.7373, 0.7373, 0.4667, 0.1647, 0.0000,\n          0.0000, 0.0000, 0.0000, 0.0000],\n         [0.0000, 0.0000, 0.0000, 0.0000, 0.0000, 0.0000, 0.1333, 0.9020,\n          0.9451, 0.7294, 0.4118, 0.0824, 0.1333, 0.0627, 0.0000, 0.1333,\n          0.1333, 0.0510, 0.0000, 0.0000, 0.0000, 0.0000, 0.0000, 0.0000,\n          0.0000, 0.0000, 0.0000, 0.0000],\n         [0.0000, 0.0000, 0.0000, 0.0000, 0.0000, 0.0000, 0.6039, 0.8118,\n          0.1098, 0.0000, 0.0000, 0.0000, 0.0000, 0.0000, 0.0000, 0.0000,\n          0.0000, 0.0000, 0.0000, 0.0000, 0.0000, 0.0000, 0.0000, 0.0000,\n          0.0000, 0.0000, 0.0000, 0.0000],\n         [0.0000, 0.0000, 0.0000, 0.0000, 0.0000, 0.0000, 0.6039, 0.6000,\n          0.0000, 0.0000, 0.0000, 0.0000, 0.0000, 0.0000, 0.0000, 0.0000,\n          0.0000, 0.0000, 0.0000, 0.0000, 0.0000, 0.0000, 0.0000, 0.0000,\n          0.0000, 0.0000, 0.0000, 0.0000],\n         [0.0000, 0.0000, 0.0000, 0.0000, 0.0000, 0.0000, 0.7373, 0.4118,\n          0.0000, 0.0000, 0.0000, 0.0000, 0.0000, 0.0000, 0.0000, 0.0000,\n          0.0000, 0.0000, 0.0000, 0.0000, 0.0000, 0.0000, 0.0000, 0.0000,\n          0.0000, 0.0000, 0.0000, 0.0000],\n         [0.0000, 0.0000, 0.0000, 0.0000, 0.0000, 0.0000, 0.7255, 0.1020,\n          0.0000, 0.2627, 0.5451, 0.5451, 0.5451, 0.3333, 0.1020, 0.0000,\n          0.0000, 0.0000, 0.0000, 0.0000, 0.0000, 0.0000, 0.0000, 0.0000,\n          0.0000, 0.0000, 0.0000, 0.0000],\n         [0.0000, 0.0000, 0.0000, 0.0000, 0.0000, 0.0000, 0.6275, 0.2941,\n          0.1020, 0.8235, 0.9922, 0.9922, 0.9922, 0.9922, 0.9059, 0.3059,\n          0.0000, 0.0000, 0.0000, 0.0000, 0.0000, 0.0000, 0.0000, 0.0000,\n          0.0000, 0.0000, 0.0000, 0.0000],\n         [0.0000, 0.0000, 0.0000, 0.0000, 0.0000, 0.0000, 0.7647, 0.9922,\n          0.7490, 0.3765, 0.0157, 0.0157, 0.0157, 0.2353, 0.5529, 0.9882,\n          0.5725, 0.0000, 0.0000, 0.0000, 0.0000, 0.0000, 0.0000, 0.0000,\n          0.0000, 0.0000, 0.0000, 0.0000],\n         [0.0000, 0.0000, 0.0000, 0.0000, 0.0000, 0.0000, 0.1176, 0.3490,\n          0.0706, 0.0000, 0.0000, 0.0000, 0.0000, 0.0000, 0.0000, 0.6549,\n          0.8980, 0.0157, 0.0000, 0.0000, 0.0000, 0.0000, 0.0000, 0.0000,\n          0.0000, 0.0000, 0.0000, 0.0000],\n         [0.0000, 0.0000, 0.0000, 0.0000, 0.0000, 0.0000, 0.0000, 0.0000,\n          0.0000, 0.0000, 0.0000, 0.0000, 0.0000, 0.0000, 0.0000, 0.1529,\n          0.8549, 0.7569, 0.0000, 0.0000, 0.0000, 0.0000, 0.0000, 0.0000,\n          0.0000, 0.0000, 0.0000, 0.0000],\n         [0.0000, 0.0000, 0.0000, 0.0000, 0.0000, 0.0000, 0.0000, 0.0000,\n          0.0000, 0.0000, 0.0000, 0.0000, 0.0000, 0.0000, 0.0000, 0.0000,\n          0.5843, 0.7490, 0.0118, 0.0000, 0.0000, 0.0000, 0.0000, 0.0000,\n          0.0000, 0.0000, 0.0000, 0.0000],\n         [0.0000, 0.0000, 0.0000, 0.0000, 0.0000, 0.0000, 0.0000, 0.0000,\n          0.0000, 0.0000, 0.0000, 0.0000, 0.0000, 0.0000, 0.0000, 0.0000,\n          0.7961, 0.4549, 0.0510, 0.0000, 0.0000, 0.0000, 0.0000, 0.0000,\n          0.0000, 0.0000, 0.0000, 0.0000],\n         [0.0000, 0.0000, 0.0000, 0.0000, 0.0000, 0.0000, 0.0000, 0.0000,\n          0.0000, 0.0000, 0.0000, 0.0000, 0.0000, 0.0000, 0.0000, 0.0000,\n          0.6078, 0.5608, 0.0000, 0.0000, 0.0000, 0.0000, 0.0000, 0.0000,\n          0.0000, 0.0000, 0.0000, 0.0000],\n         [0.0000, 0.0000, 0.0000, 0.0000, 0.0000, 0.0000, 0.0000, 0.0000,\n          0.0000, 0.0000, 0.0000, 0.0000, 0.0000, 0.0000, 0.0000, 0.0000,\n          0.4118, 0.4863, 0.0000, 0.0000, 0.0000, 0.0000, 0.0000, 0.0000,\n          0.0000, 0.0000, 0.0000, 0.0000],\n         [0.0000, 0.0000, 0.0000, 0.0000, 0.0000, 0.0000, 0.0000, 0.0000,\n          0.1373, 0.5020, 0.0431, 0.0000, 0.0000, 0.0000, 0.0000, 0.1608,\n          0.8549, 0.0314, 0.0000, 0.0000, 0.0000, 0.0000, 0.0000, 0.0000,\n          0.0000, 0.0000, 0.0000, 0.0000],\n         [0.0000, 0.0000, 0.0000, 0.0000, 0.0000, 0.0000, 0.0000, 0.0000,\n          0.0667, 0.7569, 0.8196, 0.3922, 0.0980, 0.1961, 0.5020, 0.8902,\n          0.9725, 0.0000, 0.0000, 0.0000, 0.0000, 0.0000, 0.0000, 0.0000,\n          0.0000, 0.0000, 0.0000, 0.0000],\n         [0.0000, 0.0000, 0.0000, 0.0000, 0.0000, 0.0000, 0.0000, 0.0000,\n          0.0000, 0.0510, 0.7490, 0.8549, 0.9686, 0.9490, 0.8157, 0.4353,\n          0.4196, 0.0000, 0.0000, 0.0000, 0.0000, 0.0000, 0.0000, 0.0000,\n          0.0000, 0.0000, 0.0000, 0.0000],\n         [0.0000, 0.0000, 0.0000, 0.0000, 0.0000, 0.0000, 0.0000, 0.0000,\n          0.0000, 0.0000, 0.0627, 0.0941, 0.3216, 0.1804, 0.0000, 0.0000,\n          0.0000, 0.0000, 0.0000, 0.0000, 0.0000, 0.0000, 0.0000, 0.0000,\n          0.0000, 0.0000, 0.0000, 0.0000],\n         [0.0000, 0.0000, 0.0000, 0.0000, 0.0000, 0.0000, 0.0000, 0.0000,\n          0.0000, 0.0000, 0.0000, 0.0000, 0.0000, 0.0000, 0.0000, 0.0000,\n          0.0000, 0.0000, 0.0000, 0.0000, 0.0000, 0.0000, 0.0000, 0.0000,\n          0.0000, 0.0000, 0.0000, 0.0000]]])\n"
     ]
    }
   ],
   "source": [
    "print(img)"
   ]
  },
  {
   "cell_type": "code",
   "execution_count": 25,
   "metadata": {},
   "outputs": [
    {
     "output_type": "execute_result",
     "data": {
      "text/plain": [
       "torch.Size([1, 28, 28])"
      ]
     },
     "metadata": {},
     "execution_count": 25
    }
   ],
   "source": [
    "img.size()"
   ]
  },
  {
   "cell_type": "code",
   "execution_count": 26,
   "metadata": {},
   "outputs": [
    {
     "output_type": "execute_result",
     "data": {
      "text/plain": [
       "<matplotlib.image.AxesImage at 0x1302fa050>"
      ]
     },
     "metadata": {},
     "execution_count": 26
    },
    {
     "output_type": "display_data",
     "data": {
      "text/plain": "<Figure size 432x288 with 1 Axes>",
      "image/svg+xml": "<?xml version=\"1.0\" encoding=\"utf-8\" standalone=\"no\"?>\n<!DOCTYPE svg PUBLIC \"-//W3C//DTD SVG 1.1//EN\"\n  \"http://www.w3.org/Graphics/SVG/1.1/DTD/svg11.dtd\">\n<!-- Created with matplotlib (https://matplotlib.org/) -->\n<svg height=\"248.518125pt\" version=\"1.1\" viewBox=\"0 0 251.565 248.518125\" width=\"251.565pt\" xmlns=\"http://www.w3.org/2000/svg\" xmlns:xlink=\"http://www.w3.org/1999/xlink\">\n <defs>\n  <style type=\"text/css\">\n*{stroke-linecap:butt;stroke-linejoin:round;}\n  </style>\n </defs>\n <g id=\"figure_1\">\n  <g id=\"patch_1\">\n   <path d=\"M 0 248.518125 \nL 251.565 248.518125 \nL 251.565 0 \nL 0 0 \nz\n\" style=\"fill:none;\"/>\n  </g>\n  <g id=\"axes_1\">\n   <g id=\"patch_2\">\n    <path d=\"M 26.925 224.64 \nL 244.365 224.64 \nL 244.365 7.2 \nL 26.925 7.2 \nz\n\" style=\"fill:#ffffff;\"/>\n   </g>\n   <g clip-path=\"url(#p35f2541557)\">\n    <image height=\"218\" id=\"imageb763d46c25\" transform=\"scale(1 -1)translate(0 -218)\" width=\"218\" x=\"26.925\" xlink:href=\"data:image/png;base64,\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\" y=\"-6.64\"/>\n   </g>\n   <g id=\"matplotlib.axis_1\">\n    <g id=\"xtick_1\">\n     <g id=\"line2d_1\">\n      <defs>\n       <path d=\"M 0 0 \nL 0 3.5 \n\" id=\"mc0ab32bc38\" style=\"stroke:#000000;stroke-width:0.8;\"/>\n      </defs>\n      <g>\n       <use style=\"stroke:#000000;stroke-width:0.8;\" x=\"30.807857\" xlink:href=\"#mc0ab32bc38\" y=\"224.64\"/>\n      </g>\n     </g>\n     <g id=\"text_1\">\n      <!-- 0 -->\n      <defs>\n       <path d=\"M 31.78125 66.40625 \nQ 24.171875 66.40625 20.328125 58.90625 \nQ 16.5 51.421875 16.5 36.375 \nQ 16.5 21.390625 20.328125 13.890625 \nQ 24.171875 6.390625 31.78125 6.390625 \nQ 39.453125 6.390625 43.28125 13.890625 \nQ 47.125 21.390625 47.125 36.375 \nQ 47.125 51.421875 43.28125 58.90625 \nQ 39.453125 66.40625 31.78125 66.40625 \nz\nM 31.78125 74.21875 \nQ 44.046875 74.21875 50.515625 64.515625 \nQ 56.984375 54.828125 56.984375 36.375 \nQ 56.984375 17.96875 50.515625 8.265625 \nQ 44.046875 -1.421875 31.78125 -1.421875 \nQ 19.53125 -1.421875 13.0625 8.265625 \nQ 6.59375 17.96875 6.59375 36.375 \nQ 6.59375 54.828125 13.0625 64.515625 \nQ 19.53125 74.21875 31.78125 74.21875 \nz\n\" id=\"DejaVuSans-48\"/>\n      </defs>\n      <g transform=\"translate(27.626607 239.238437)scale(0.1 -0.1)\">\n       <use xlink:href=\"#DejaVuSans-48\"/>\n      </g>\n     </g>\n    </g>\n    <g id=\"xtick_2\">\n     <g id=\"line2d_2\">\n      <g>\n       <use style=\"stroke:#000000;stroke-width:0.8;\" x=\"69.636429\" xlink:href=\"#mc0ab32bc38\" y=\"224.64\"/>\n      </g>\n     </g>\n     <g id=\"text_2\">\n      <!-- 5 -->\n      <defs>\n       <path d=\"M 10.796875 72.90625 \nL 49.515625 72.90625 \nL 49.515625 64.59375 \nL 19.828125 64.59375 \nL 19.828125 46.734375 \nQ 21.96875 47.46875 24.109375 47.828125 \nQ 26.265625 48.1875 28.421875 48.1875 \nQ 40.625 48.1875 47.75 41.5 \nQ 54.890625 34.8125 54.890625 23.390625 \nQ 54.890625 11.625 47.5625 5.09375 \nQ 40.234375 -1.421875 26.90625 -1.421875 \nQ 22.3125 -1.421875 17.546875 -0.640625 \nQ 12.796875 0.140625 7.71875 1.703125 \nL 7.71875 11.625 \nQ 12.109375 9.234375 16.796875 8.0625 \nQ 21.484375 6.890625 26.703125 6.890625 \nQ 35.15625 6.890625 40.078125 11.328125 \nQ 45.015625 15.765625 45.015625 23.390625 \nQ 45.015625 31 40.078125 35.4375 \nQ 35.15625 39.890625 26.703125 39.890625 \nQ 22.75 39.890625 18.8125 39.015625 \nQ 14.890625 38.140625 10.796875 36.28125 \nz\n\" id=\"DejaVuSans-53\"/>\n      </defs>\n      <g transform=\"translate(66.455179 239.238437)scale(0.1 -0.1)\">\n       <use xlink:href=\"#DejaVuSans-53\"/>\n      </g>\n     </g>\n    </g>\n    <g id=\"xtick_3\">\n     <g id=\"line2d_3\">\n      <g>\n       <use style=\"stroke:#000000;stroke-width:0.8;\" x=\"108.465\" xlink:href=\"#mc0ab32bc38\" y=\"224.64\"/>\n      </g>\n     </g>\n     <g id=\"text_3\">\n      <!-- 10 -->\n      <defs>\n       <path d=\"M 12.40625 8.296875 \nL 28.515625 8.296875 \nL 28.515625 63.921875 \nL 10.984375 60.40625 \nL 10.984375 69.390625 \nL 28.421875 72.90625 \nL 38.28125 72.90625 \nL 38.28125 8.296875 \nL 54.390625 8.296875 \nL 54.390625 0 \nL 12.40625 0 \nz\n\" id=\"DejaVuSans-49\"/>\n      </defs>\n      <g transform=\"translate(102.1025 239.238437)scale(0.1 -0.1)\">\n       <use xlink:href=\"#DejaVuSans-49\"/>\n       <use x=\"63.623047\" xlink:href=\"#DejaVuSans-48\"/>\n      </g>\n     </g>\n    </g>\n    <g id=\"xtick_4\">\n     <g id=\"line2d_4\">\n      <g>\n       <use style=\"stroke:#000000;stroke-width:0.8;\" x=\"147.293571\" xlink:href=\"#mc0ab32bc38\" y=\"224.64\"/>\n      </g>\n     </g>\n     <g id=\"text_4\">\n      <!-- 15 -->\n      <g transform=\"translate(140.931071 239.238437)scale(0.1 -0.1)\">\n       <use xlink:href=\"#DejaVuSans-49\"/>\n       <use x=\"63.623047\" xlink:href=\"#DejaVuSans-53\"/>\n      </g>\n     </g>\n    </g>\n    <g id=\"xtick_5\">\n     <g id=\"line2d_5\">\n      <g>\n       <use style=\"stroke:#000000;stroke-width:0.8;\" x=\"186.122143\" xlink:href=\"#mc0ab32bc38\" y=\"224.64\"/>\n      </g>\n     </g>\n     <g id=\"text_5\">\n      <!-- 20 -->\n      <defs>\n       <path d=\"M 19.1875 8.296875 \nL 53.609375 8.296875 \nL 53.609375 0 \nL 7.328125 0 \nL 7.328125 8.296875 \nQ 12.9375 14.109375 22.625 23.890625 \nQ 32.328125 33.6875 34.8125 36.53125 \nQ 39.546875 41.84375 41.421875 45.53125 \nQ 43.3125 49.21875 43.3125 52.78125 \nQ 43.3125 58.59375 39.234375 62.25 \nQ 35.15625 65.921875 28.609375 65.921875 \nQ 23.96875 65.921875 18.8125 64.3125 \nQ 13.671875 62.703125 7.8125 59.421875 \nL 7.8125 69.390625 \nQ 13.765625 71.78125 18.9375 73 \nQ 24.125 74.21875 28.421875 74.21875 \nQ 39.75 74.21875 46.484375 68.546875 \nQ 53.21875 62.890625 53.21875 53.421875 \nQ 53.21875 48.921875 51.53125 44.890625 \nQ 49.859375 40.875 45.40625 35.40625 \nQ 44.1875 33.984375 37.640625 27.21875 \nQ 31.109375 20.453125 19.1875 8.296875 \nz\n\" id=\"DejaVuSans-50\"/>\n      </defs>\n      <g transform=\"translate(179.759643 239.238437)scale(0.1 -0.1)\">\n       <use xlink:href=\"#DejaVuSans-50\"/>\n       <use x=\"63.623047\" xlink:href=\"#DejaVuSans-48\"/>\n      </g>\n     </g>\n    </g>\n    <g id=\"xtick_6\">\n     <g id=\"line2d_6\">\n      <g>\n       <use style=\"stroke:#000000;stroke-width:0.8;\" x=\"224.950714\" xlink:href=\"#mc0ab32bc38\" y=\"224.64\"/>\n      </g>\n     </g>\n     <g id=\"text_6\">\n      <!-- 25 -->\n      <g transform=\"translate(218.588214 239.238437)scale(0.1 -0.1)\">\n       <use xlink:href=\"#DejaVuSans-50\"/>\n       <use x=\"63.623047\" xlink:href=\"#DejaVuSans-53\"/>\n      </g>\n     </g>\n    </g>\n   </g>\n   <g id=\"matplotlib.axis_2\">\n    <g id=\"ytick_1\">\n     <g id=\"line2d_7\">\n      <defs>\n       <path d=\"M 0 0 \nL -3.5 0 \n\" id=\"m8c5f5c5bec\" style=\"stroke:#000000;stroke-width:0.8;\"/>\n      </defs>\n      <g>\n       <use style=\"stroke:#000000;stroke-width:0.8;\" x=\"26.925\" xlink:href=\"#m8c5f5c5bec\" y=\"11.082857\"/>\n      </g>\n     </g>\n     <g id=\"text_7\">\n      <!-- 0 -->\n      <g transform=\"translate(13.5625 14.882076)scale(0.1 -0.1)\">\n       <use xlink:href=\"#DejaVuSans-48\"/>\n      </g>\n     </g>\n    </g>\n    <g id=\"ytick_2\">\n     <g id=\"line2d_8\">\n      <g>\n       <use style=\"stroke:#000000;stroke-width:0.8;\" x=\"26.925\" xlink:href=\"#m8c5f5c5bec\" y=\"49.911429\"/>\n      </g>\n     </g>\n     <g id=\"text_8\">\n      <!-- 5 -->\n      <g transform=\"translate(13.5625 53.710647)scale(0.1 -0.1)\">\n       <use xlink:href=\"#DejaVuSans-53\"/>\n      </g>\n     </g>\n    </g>\n    <g id=\"ytick_3\">\n     <g id=\"line2d_9\">\n      <g>\n       <use style=\"stroke:#000000;stroke-width:0.8;\" x=\"26.925\" xlink:href=\"#m8c5f5c5bec\" y=\"88.74\"/>\n      </g>\n     </g>\n     <g id=\"text_9\">\n      <!-- 10 -->\n      <g transform=\"translate(7.2 92.539219)scale(0.1 -0.1)\">\n       <use xlink:href=\"#DejaVuSans-49\"/>\n       <use x=\"63.623047\" xlink:href=\"#DejaVuSans-48\"/>\n      </g>\n     </g>\n    </g>\n    <g id=\"ytick_4\">\n     <g id=\"line2d_10\">\n      <g>\n       <use style=\"stroke:#000000;stroke-width:0.8;\" x=\"26.925\" xlink:href=\"#m8c5f5c5bec\" y=\"127.568571\"/>\n      </g>\n     </g>\n     <g id=\"text_10\">\n      <!-- 15 -->\n      <g transform=\"translate(7.2 131.36779)scale(0.1 -0.1)\">\n       <use xlink:href=\"#DejaVuSans-49\"/>\n       <use x=\"63.623047\" xlink:href=\"#DejaVuSans-53\"/>\n      </g>\n     </g>\n    </g>\n    <g id=\"ytick_5\">\n     <g id=\"line2d_11\">\n      <g>\n       <use style=\"stroke:#000000;stroke-width:0.8;\" x=\"26.925\" xlink:href=\"#m8c5f5c5bec\" y=\"166.397143\"/>\n      </g>\n     </g>\n     <g id=\"text_11\">\n      <!-- 20 -->\n      <g transform=\"translate(7.2 170.196362)scale(0.1 -0.1)\">\n       <use xlink:href=\"#DejaVuSans-50\"/>\n       <use x=\"63.623047\" xlink:href=\"#DejaVuSans-48\"/>\n      </g>\n     </g>\n    </g>\n    <g id=\"ytick_6\">\n     <g id=\"line2d_12\">\n      <g>\n       <use style=\"stroke:#000000;stroke-width:0.8;\" x=\"26.925\" xlink:href=\"#m8c5f5c5bec\" y=\"205.225714\"/>\n      </g>\n     </g>\n     <g id=\"text_12\">\n      <!-- 25 -->\n      <g transform=\"translate(7.2 209.024933)scale(0.1 -0.1)\">\n       <use xlink:href=\"#DejaVuSans-50\"/>\n       <use x=\"63.623047\" xlink:href=\"#DejaVuSans-53\"/>\n      </g>\n     </g>\n    </g>\n   </g>\n   <g id=\"patch_3\">\n    <path d=\"M 26.925 224.64 \nL 26.925 7.2 \n\" style=\"fill:none;stroke:#000000;stroke-linecap:square;stroke-linejoin:miter;stroke-width:0.8;\"/>\n   </g>\n   <g id=\"patch_4\">\n    <path d=\"M 244.365 224.64 \nL 244.365 7.2 \n\" style=\"fill:none;stroke:#000000;stroke-linecap:square;stroke-linejoin:miter;stroke-width:0.8;\"/>\n   </g>\n   <g id=\"patch_5\">\n    <path d=\"M 26.925 224.64 \nL 244.365 224.64 \n\" style=\"fill:none;stroke:#000000;stroke-linecap:square;stroke-linejoin:miter;stroke-width:0.8;\"/>\n   </g>\n   <g id=\"patch_6\">\n    <path d=\"M 26.925 7.2 \nL 244.365 7.2 \n\" style=\"fill:none;stroke:#000000;stroke-linecap:square;stroke-linejoin:miter;stroke-width:0.8;\"/>\n   </g>\n  </g>\n </g>\n <defs>\n  <clipPath id=\"p35f2541557\">\n   <rect height=\"217.44\" width=\"217.44\" x=\"26.925\" y=\"7.2\"/>\n  </clipPath>\n </defs>\n</svg>\n",
      "image/png": "[encoded data removed]"
     },
     "metadata": {
      "needs_background": "light"
     }
    }
   ],
   "source": [
    "plt.imshow(img.reshape(28,28), cmap='gray')"
   ]
  },
  {
   "cell_type": "code",
   "execution_count": 27,
   "metadata": {},
   "outputs": [
    {
     "output_type": "execute_result",
     "data": {
      "text/plain": [
       "torch.Size([1, 784])"
      ]
     },
     "metadata": {},
     "execution_count": 27
    }
   ],
   "source": [
    "\n",
    "img_train = img.view(-1).unsqueeze(0)\n",
    "img_train.size()"
   ]
  },
  {
   "source": [
    "## Model"
   ],
   "cell_type": "markdown",
   "metadata": {}
  },
  {
   "cell_type": "code",
   "execution_count": 28,
   "metadata": {},
   "outputs": [],
   "source": [
    "\n",
    "model = nn.Sequential(\n",
    "        nn.Linear(784, 100),\n",
    "        nn.ReLU(),\n",
    "        nn.Linear(100, 10),\n",
    "        nn.ReLU(),\n",
    "        nn.Softmax(dim=1))\n",
    "\n"
   ]
  },
  {
   "cell_type": "code",
   "execution_count": 29,
   "metadata": {},
   "outputs": [
    {
     "output_type": "stream",
     "name": "stdout",
     "text": [
      "tensor([[0.0942, 0.0942, 0.1109, 0.0942, 0.1076, 0.1074, 0.0942, 0.0957, 0.1073,\n         0.0942]], grad_fn=<SoftmaxBackward>)\n"
     ]
    },
    {
     "output_type": "execute_result",
     "data": {
      "text/plain": [
       "torch.Size([1, 10])"
      ]
     },
     "metadata": {},
     "execution_count": 29
    }
   ],
   "source": [
    "predict = model(img_train)\n",
    "\n",
    "print(predict)\n",
    "\n",
    "predict.size()"
   ]
  },
  {
   "source": [
    "## Loss"
   ],
   "cell_type": "markdown",
   "metadata": {}
  },
  {
   "source": [
    "### one-hot encoding"
   ],
   "cell_type": "markdown",
   "metadata": {}
  },
  {
   "cell_type": "code",
   "execution_count": 30,
   "metadata": {},
   "outputs": [
    {
     "output_type": "execute_result",
     "data": {
      "text/plain": [
       "(5, tensor([[0., 0., 0., 0., 0., 1., 0., 0., 0., 0.]]), torch.Size([1, 10]))"
      ]
     },
     "metadata": {},
     "execution_count": 30
    }
   ],
   "source": [
    "label_one_hot = torch.zeros(10).scatter_(0, torch.tensor(label), 1.0).unsqueeze(0)\n",
    "\n",
    "label, label_one_hot, label_one_hot.size()"
   ]
  },
  {
   "source": [
    "### Mean square loss"
   ],
   "cell_type": "markdown",
   "metadata": {}
  },
  {
   "cell_type": "code",
   "execution_count": 31,
   "metadata": {},
   "outputs": [
    {
     "output_type": "execute_result",
     "data": {
      "text/plain": [
       "tensor(0.0886, grad_fn=<MseLossBackward>)"
      ]
     },
     "metadata": {},
     "execution_count": 31
    }
   ],
   "source": [
    "loss = torch.nn.MSELoss()\n",
    "\n",
    "loss(predict, label_one_hot)"
   ]
  },
  {
   "source": [
    "## Train"
   ],
   "cell_type": "markdown",
   "metadata": {}
  },
  {
   "source": [
    "### Data loader"
   ],
   "cell_type": "markdown",
   "metadata": {}
  },
  {
   "cell_type": "code",
   "execution_count": 32,
   "metadata": {},
   "outputs": [],
   "source": [
    "batch_sz = 600\n",
    "train_loader = torch.utils.data.DataLoader(traindata, batch_size=batch_sz, shuffle=True)\n",
    "\n",
    "#img, label = next(iter(train_loader))"
   ]
  },
  {
   "source": [
    "### Learn rate"
   ],
   "cell_type": "markdown",
   "metadata": {}
  },
  {
   "cell_type": "code",
   "execution_count": 33,
   "metadata": {},
   "outputs": [],
   "source": [
    "learning_rate = 0.5"
   ]
  },
  {
   "source": [
    "### Optimizer"
   ],
   "cell_type": "markdown",
   "metadata": {}
  },
  {
   "cell_type": "code",
   "execution_count": 34,
   "metadata": {},
   "outputs": [],
   "source": [
    "optimizer = optim.SGD(model.parameters(), lr=learning_rate)"
   ]
  },
  {
   "source": [
    "### Batch training"
   ],
   "cell_type": "markdown",
   "metadata": {}
  },
  {
   "cell_type": "code",
   "execution_count": 35,
   "metadata": {},
   "outputs": [
    {
     "output_type": "stream",
     "name": "stdout",
     "text": [
      "Epoch: 0, Loss: 8.939519\n",
      "Epoch: 1, Loss: 8.664326\n",
      "Epoch: 2, Loss: 7.841406\n",
      "Epoch: 3, Loss: 6.464038\n",
      "Epoch: 4, Loss: 5.480286\n",
      "Epoch: 5, Loss: 4.893155\n",
      "Epoch: 6, Loss: 4.501796\n",
      "Epoch: 7, Loss: 4.206457\n",
      "Epoch: 8, Loss: 3.975031\n",
      "Epoch: 9, Loss: 3.798136\n",
      "Epoch: 10, Loss: 3.663821\n",
      "Epoch: 11, Loss: 3.559754\n",
      "Epoch: 12, Loss: 3.476654\n",
      "Epoch: 13, Loss: 3.408957\n",
      "Epoch: 14, Loss: 3.351359\n",
      "Epoch: 15, Loss: 3.303032\n",
      "Epoch: 16, Loss: 3.260561\n",
      "Epoch: 17, Loss: 3.222843\n",
      "Epoch: 18, Loss: 3.189832\n",
      "Epoch: 19, Loss: 3.158930\n",
      "Epoch: 20, Loss: 3.131469\n",
      "Epoch: 21, Loss: 3.106125\n",
      "Epoch: 22, Loss: 3.083165\n",
      "Epoch: 23, Loss: 3.061072\n",
      "Epoch: 24, Loss: 3.041526\n",
      "Epoch: 25, Loss: 3.022264\n",
      "Epoch: 26, Loss: 3.004128\n",
      "Epoch: 27, Loss: 2.987443\n",
      "Epoch: 28, Loss: 2.971765\n",
      "Epoch: 29, Loss: 2.956441\n",
      "Epoch: 30, Loss: 2.942180\n",
      "Epoch: 31, Loss: 2.927774\n",
      "Epoch: 32, Loss: 2.914768\n",
      "Epoch: 33, Loss: 2.902103\n",
      "Epoch: 34, Loss: 2.889466\n",
      "Epoch: 35, Loss: 2.877917\n",
      "Epoch: 36, Loss: 2.866618\n",
      "Epoch: 37, Loss: 2.855318\n",
      "Epoch: 38, Loss: 2.844512\n",
      "Epoch: 39, Loss: 2.834364\n",
      "Epoch: 40, Loss: 2.824338\n",
      "Epoch: 41, Loss: 2.814522\n",
      "Epoch: 42, Loss: 2.804951\n",
      "Epoch: 43, Loss: 2.795579\n",
      "Epoch: 44, Loss: 2.786818\n",
      "Epoch: 45, Loss: 2.778034\n",
      "Epoch: 46, Loss: 2.769276\n",
      "Epoch: 47, Loss: 2.760984\n",
      "Epoch: 48, Loss: 2.752556\n",
      "Epoch: 49, Loss: 2.744536\n",
      "Epoch: 50, Loss: 2.736909\n",
      "Epoch: 51, Loss: 2.728736\n",
      "Epoch: 52, Loss: 2.721068\n",
      "Epoch: 53, Loss: 2.713877\n",
      "Epoch: 54, Loss: 2.706473\n",
      "Epoch: 55, Loss: 2.699327\n",
      "Epoch: 56, Loss: 2.691981\n",
      "Epoch: 57, Loss: 2.685173\n",
      "Epoch: 58, Loss: 2.678697\n",
      "Epoch: 59, Loss: 2.671666\n",
      "Epoch: 60, Loss: 2.664857\n",
      "Epoch: 61, Loss: 2.658249\n",
      "Epoch: 62, Loss: 2.652112\n",
      "Epoch: 63, Loss: 2.645426\n",
      "Epoch: 64, Loss: 2.638910\n",
      "Epoch: 65, Loss: 2.633293\n",
      "Epoch: 66, Loss: 2.627028\n",
      "Epoch: 67, Loss: 2.621195\n",
      "Epoch: 68, Loss: 2.614912\n",
      "Epoch: 69, Loss: 2.609251\n",
      "Epoch: 70, Loss: 2.603401\n",
      "Epoch: 71, Loss: 2.597636\n",
      "Epoch: 72, Loss: 2.592280\n",
      "Epoch: 73, Loss: 2.586378\n",
      "Epoch: 74, Loss: 2.581115\n",
      "Epoch: 75, Loss: 2.575522\n",
      "Epoch: 76, Loss: 2.570400\n",
      "Epoch: 77, Loss: 2.565134\n",
      "Epoch: 78, Loss: 2.560083\n",
      "Epoch: 79, Loss: 2.554763\n",
      "Epoch: 80, Loss: 2.549979\n",
      "Epoch: 81, Loss: 2.545153\n",
      "Epoch: 82, Loss: 2.540074\n",
      "Epoch: 83, Loss: 2.535156\n",
      "Epoch: 84, Loss: 2.530509\n",
      "Epoch: 85, Loss: 2.525545\n",
      "Epoch: 86, Loss: 2.521127\n",
      "Epoch: 87, Loss: 2.516445\n",
      "Epoch: 88, Loss: 2.512395\n",
      "Epoch: 89, Loss: 2.507614\n",
      "Epoch: 90, Loss: 2.503634\n",
      "Epoch: 91, Loss: 2.498832\n",
      "Epoch: 92, Loss: 2.494437\n",
      "Epoch: 93, Loss: 2.490308\n",
      "Epoch: 94, Loss: 2.486338\n",
      "Epoch: 95, Loss: 2.481966\n",
      "Epoch: 96, Loss: 2.478137\n",
      "Epoch: 97, Loss: 2.473782\n",
      "Epoch: 98, Loss: 2.469997\n",
      "Epoch: 99, Loss: 2.466130\n"
     ]
    }
   ],
   "source": [
    "n_epochs = 100\n",
    "for epoch in range(n_epochs):\n",
    "    epoch_loss = 0\n",
    "    for img, label in train_loader:\n",
    "        label_one_hot = torch.zeros(batch_sz, 10).scatter_(1, label.view(batch_sz,1), 1.0)\n",
    "        predict = model(img.view(batch_sz, -1))\n",
    "        curr_loss = loss(predict, label_one_hot)\n",
    "    \n",
    "        optimizer.zero_grad()\n",
    "        curr_loss.backward()\n",
    "        optimizer.step()\n",
    "        \n",
    "        epoch_loss += curr_loss\n",
    "    print(\"Epoch: %d, Loss: %f\" % (epoch, float(epoch_loss)))"
   ]
  },
  {
   "source": [
    "## Test accuracy"
   ],
   "cell_type": "markdown",
   "metadata": {}
  },
  {
   "source": [
    "### Test set"
   ],
   "cell_type": "markdown",
   "metadata": {}
  },
  {
   "cell_type": "code",
   "execution_count": 50,
   "metadata": {},
   "outputs": [
    {
     "output_type": "stream",
     "name": "stdout",
     "text": [
      "0\n"
     ]
    },
    {
     "output_type": "execute_result",
     "data": {
      "text/plain": [
       "<matplotlib.image.AxesImage at 0x126fbea10>"
      ]
     },
     "metadata": {},
     "execution_count": 50
    },
    {
     "output_type": "display_data",
     "data": {
      "text/plain": "<Figure size 432x288 with 1 Axes>",
      "image/svg+xml": "<?xml version=\"1.0\" encoding=\"utf-8\" standalone=\"no\"?>\n<!DOCTYPE svg PUBLIC \"-//W3C//DTD SVG 1.1//EN\"\n  \"http://www.w3.org/Graphics/SVG/1.1/DTD/svg11.dtd\">\n<!-- Created with matplotlib (https://matplotlib.org/) -->\n<svg height=\"248.518125pt\" version=\"1.1\" viewBox=\"0 0 251.565 248.518125\" width=\"251.565pt\" xmlns=\"http://www.w3.org/2000/svg\" xmlns:xlink=\"http://www.w3.org/1999/xlink\">\n <defs>\n  <style type=\"text/css\">\n*{stroke-linecap:butt;stroke-linejoin:round;}\n  </style>\n </defs>\n <g id=\"figure_1\">\n  <g id=\"patch_1\">\n   <path d=\"M 0 248.518125 \nL 251.565 248.518125 \nL 251.565 0 \nL 0 0 \nz\n\" style=\"fill:none;\"/>\n  </g>\n  <g id=\"axes_1\">\n   <g id=\"patch_2\">\n    <path d=\"M 26.925 224.64 \nL 244.365 224.64 \nL 244.365 7.2 \nL 26.925 7.2 \nz\n\" style=\"fill:#ffffff;\"/>\n   </g>\n   <g clip-path=\"url(#pb15f3278e7)\">\n    <image height=\"218\" id=\"imagec772429429\" transform=\"scale(1 -1)translate(0 -218)\" width=\"218\" x=\"26.925\" xlink:href=\"data:image/png;base64,\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\" y=\"-6.64\"/>\n   </g>\n   <g id=\"matplotlib.axis_1\">\n    <g id=\"xtick_1\">\n     <g id=\"line2d_1\">\n      <defs>\n       <path d=\"M 0 0 \nL 0 3.5 \n\" id=\"ma30d935cad\" style=\"stroke:#000000;stroke-width:0.8;\"/>\n      </defs>\n      <g>\n       <use style=\"stroke:#000000;stroke-width:0.8;\" x=\"30.807857\" xlink:href=\"#ma30d935cad\" y=\"224.64\"/>\n      </g>\n     </g>\n     <g id=\"text_1\">\n      <!-- 0 -->\n      <defs>\n       <path d=\"M 31.78125 66.40625 \nQ 24.171875 66.40625 20.328125 58.90625 \nQ 16.5 51.421875 16.5 36.375 \nQ 16.5 21.390625 20.328125 13.890625 \nQ 24.171875 6.390625 31.78125 6.390625 \nQ 39.453125 6.390625 43.28125 13.890625 \nQ 47.125 21.390625 47.125 36.375 \nQ 47.125 51.421875 43.28125 58.90625 \nQ 39.453125 66.40625 31.78125 66.40625 \nz\nM 31.78125 74.21875 \nQ 44.046875 74.21875 50.515625 64.515625 \nQ 56.984375 54.828125 56.984375 36.375 \nQ 56.984375 17.96875 50.515625 8.265625 \nQ 44.046875 -1.421875 31.78125 -1.421875 \nQ 19.53125 -1.421875 13.0625 8.265625 \nQ 6.59375 17.96875 6.59375 36.375 \nQ 6.59375 54.828125 13.0625 64.515625 \nQ 19.53125 74.21875 31.78125 74.21875 \nz\n\" id=\"DejaVuSans-48\"/>\n      </defs>\n      <g transform=\"translate(27.626607 239.238437)scale(0.1 -0.1)\">\n       <use xlink:href=\"#DejaVuSans-48\"/>\n      </g>\n     </g>\n    </g>\n    <g id=\"xtick_2\">\n     <g id=\"line2d_2\">\n      <g>\n       <use style=\"stroke:#000000;stroke-width:0.8;\" x=\"69.636429\" xlink:href=\"#ma30d935cad\" y=\"224.64\"/>\n      </g>\n     </g>\n     <g id=\"text_2\">\n      <!-- 5 -->\n      <defs>\n       <path d=\"M 10.796875 72.90625 \nL 49.515625 72.90625 \nL 49.515625 64.59375 \nL 19.828125 64.59375 \nL 19.828125 46.734375 \nQ 21.96875 47.46875 24.109375 47.828125 \nQ 26.265625 48.1875 28.421875 48.1875 \nQ 40.625 48.1875 47.75 41.5 \nQ 54.890625 34.8125 54.890625 23.390625 \nQ 54.890625 11.625 47.5625 5.09375 \nQ 40.234375 -1.421875 26.90625 -1.421875 \nQ 22.3125 -1.421875 17.546875 -0.640625 \nQ 12.796875 0.140625 7.71875 1.703125 \nL 7.71875 11.625 \nQ 12.109375 9.234375 16.796875 8.0625 \nQ 21.484375 6.890625 26.703125 6.890625 \nQ 35.15625 6.890625 40.078125 11.328125 \nQ 45.015625 15.765625 45.015625 23.390625 \nQ 45.015625 31 40.078125 35.4375 \nQ 35.15625 39.890625 26.703125 39.890625 \nQ 22.75 39.890625 18.8125 39.015625 \nQ 14.890625 38.140625 10.796875 36.28125 \nz\n\" id=\"DejaVuSans-53\"/>\n      </defs>\n      <g transform=\"translate(66.455179 239.238437)scale(0.1 -0.1)\">\n       <use xlink:href=\"#DejaVuSans-53\"/>\n      </g>\n     </g>\n    </g>\n    <g id=\"xtick_3\">\n     <g id=\"line2d_3\">\n      <g>\n       <use style=\"stroke:#000000;stroke-width:0.8;\" x=\"108.465\" xlink:href=\"#ma30d935cad\" y=\"224.64\"/>\n      </g>\n     </g>\n     <g id=\"text_3\">\n      <!-- 10 -->\n      <defs>\n       <path d=\"M 12.40625 8.296875 \nL 28.515625 8.296875 \nL 28.515625 63.921875 \nL 10.984375 60.40625 \nL 10.984375 69.390625 \nL 28.421875 72.90625 \nL 38.28125 72.90625 \nL 38.28125 8.296875 \nL 54.390625 8.296875 \nL 54.390625 0 \nL 12.40625 0 \nz\n\" id=\"DejaVuSans-49\"/>\n      </defs>\n      <g transform=\"translate(102.1025 239.238437)scale(0.1 -0.1)\">\n       <use xlink:href=\"#DejaVuSans-49\"/>\n       <use x=\"63.623047\" xlink:href=\"#DejaVuSans-48\"/>\n      </g>\n     </g>\n    </g>\n    <g id=\"xtick_4\">\n     <g id=\"line2d_4\">\n      <g>\n       <use style=\"stroke:#000000;stroke-width:0.8;\" x=\"147.293571\" xlink:href=\"#ma30d935cad\" y=\"224.64\"/>\n      </g>\n     </g>\n     <g id=\"text_4\">\n      <!-- 15 -->\n      <g transform=\"translate(140.931071 239.238437)scale(0.1 -0.1)\">\n       <use xlink:href=\"#DejaVuSans-49\"/>\n       <use x=\"63.623047\" xlink:href=\"#DejaVuSans-53\"/>\n      </g>\n     </g>\n    </g>\n    <g id=\"xtick_5\">\n     <g id=\"line2d_5\">\n      <g>\n       <use style=\"stroke:#000000;stroke-width:0.8;\" x=\"186.122143\" xlink:href=\"#ma30d935cad\" y=\"224.64\"/>\n      </g>\n     </g>\n     <g id=\"text_5\">\n      <!-- 20 -->\n      <defs>\n       <path d=\"M 19.1875 8.296875 \nL 53.609375 8.296875 \nL 53.609375 0 \nL 7.328125 0 \nL 7.328125 8.296875 \nQ 12.9375 14.109375 22.625 23.890625 \nQ 32.328125 33.6875 34.8125 36.53125 \nQ 39.546875 41.84375 41.421875 45.53125 \nQ 43.3125 49.21875 43.3125 52.78125 \nQ 43.3125 58.59375 39.234375 62.25 \nQ 35.15625 65.921875 28.609375 65.921875 \nQ 23.96875 65.921875 18.8125 64.3125 \nQ 13.671875 62.703125 7.8125 59.421875 \nL 7.8125 69.390625 \nQ 13.765625 71.78125 18.9375 73 \nQ 24.125 74.21875 28.421875 74.21875 \nQ 39.75 74.21875 46.484375 68.546875 \nQ 53.21875 62.890625 53.21875 53.421875 \nQ 53.21875 48.921875 51.53125 44.890625 \nQ 49.859375 40.875 45.40625 35.40625 \nQ 44.1875 33.984375 37.640625 27.21875 \nQ 31.109375 20.453125 19.1875 8.296875 \nz\n\" id=\"DejaVuSans-50\"/>\n      </defs>\n      <g transform=\"translate(179.759643 239.238437)scale(0.1 -0.1)\">\n       <use xlink:href=\"#DejaVuSans-50\"/>\n       <use x=\"63.623047\" xlink:href=\"#DejaVuSans-48\"/>\n      </g>\n     </g>\n    </g>\n    <g id=\"xtick_6\">\n     <g id=\"line2d_6\">\n      <g>\n       <use style=\"stroke:#000000;stroke-width:0.8;\" x=\"224.950714\" xlink:href=\"#ma30d935cad\" y=\"224.64\"/>\n      </g>\n     </g>\n     <g id=\"text_6\">\n      <!-- 25 -->\n      <g transform=\"translate(218.588214 239.238437)scale(0.1 -0.1)\">\n       <use xlink:href=\"#DejaVuSans-50\"/>\n       <use x=\"63.623047\" xlink:href=\"#DejaVuSans-53\"/>\n      </g>\n     </g>\n    </g>\n   </g>\n   <g id=\"matplotlib.axis_2\">\n    <g id=\"ytick_1\">\n     <g id=\"line2d_7\">\n      <defs>\n       <path d=\"M 0 0 \nL -3.5 0 \n\" id=\"mfd59786c3b\" style=\"stroke:#000000;stroke-width:0.8;\"/>\n      </defs>\n      <g>\n       <use style=\"stroke:#000000;stroke-width:0.8;\" x=\"26.925\" xlink:href=\"#mfd59786c3b\" y=\"11.082857\"/>\n      </g>\n     </g>\n     <g id=\"text_7\">\n      <!-- 0 -->\n      <g transform=\"translate(13.5625 14.882076)scale(0.1 -0.1)\">\n       <use xlink:href=\"#DejaVuSans-48\"/>\n      </g>\n     </g>\n    </g>\n    <g id=\"ytick_2\">\n     <g id=\"line2d_8\">\n      <g>\n       <use style=\"stroke:#000000;stroke-width:0.8;\" x=\"26.925\" xlink:href=\"#mfd59786c3b\" y=\"49.911429\"/>\n      </g>\n     </g>\n     <g id=\"text_8\">\n      <!-- 5 -->\n      <g transform=\"translate(13.5625 53.710647)scale(0.1 -0.1)\">\n       <use xlink:href=\"#DejaVuSans-53\"/>\n      </g>\n     </g>\n    </g>\n    <g id=\"ytick_3\">\n     <g id=\"line2d_9\">\n      <g>\n       <use style=\"stroke:#000000;stroke-width:0.8;\" x=\"26.925\" xlink:href=\"#mfd59786c3b\" y=\"88.74\"/>\n      </g>\n     </g>\n     <g id=\"text_9\">\n      <!-- 10 -->\n      <g transform=\"translate(7.2 92.539219)scale(0.1 -0.1)\">\n       <use xlink:href=\"#DejaVuSans-49\"/>\n       <use x=\"63.623047\" xlink:href=\"#DejaVuSans-48\"/>\n      </g>\n     </g>\n    </g>\n    <g id=\"ytick_4\">\n     <g id=\"line2d_10\">\n      <g>\n       <use style=\"stroke:#000000;stroke-width:0.8;\" x=\"26.925\" xlink:href=\"#mfd59786c3b\" y=\"127.568571\"/>\n      </g>\n     </g>\n     <g id=\"text_10\">\n      <!-- 15 -->\n      <g transform=\"translate(7.2 131.36779)scale(0.1 -0.1)\">\n       <use xlink:href=\"#DejaVuSans-49\"/>\n       <use x=\"63.623047\" xlink:href=\"#DejaVuSans-53\"/>\n      </g>\n     </g>\n    </g>\n    <g id=\"ytick_5\">\n     <g id=\"line2d_11\">\n      <g>\n       <use style=\"stroke:#000000;stroke-width:0.8;\" x=\"26.925\" xlink:href=\"#mfd59786c3b\" y=\"166.397143\"/>\n      </g>\n     </g>\n     <g id=\"text_11\">\n      <!-- 20 -->\n      <g transform=\"translate(7.2 170.196362)scale(0.1 -0.1)\">\n       <use xlink:href=\"#DejaVuSans-50\"/>\n       <use x=\"63.623047\" xlink:href=\"#DejaVuSans-48\"/>\n      </g>\n     </g>\n    </g>\n    <g id=\"ytick_6\">\n     <g id=\"line2d_12\">\n      <g>\n       <use style=\"stroke:#000000;stroke-width:0.8;\" x=\"26.925\" xlink:href=\"#mfd59786c3b\" y=\"205.225714\"/>\n      </g>\n     </g>\n     <g id=\"text_12\">\n      <!-- 25 -->\n      <g transform=\"translate(7.2 209.024933)scale(0.1 -0.1)\">\n       <use xlink:href=\"#DejaVuSans-50\"/>\n       <use x=\"63.623047\" xlink:href=\"#DejaVuSans-53\"/>\n      </g>\n     </g>\n    </g>\n   </g>\n   <g id=\"patch_3\">\n    <path d=\"M 26.925 224.64 \nL 26.925 7.2 \n\" style=\"fill:none;stroke:#000000;stroke-linecap:square;stroke-linejoin:miter;stroke-width:0.8;\"/>\n   </g>\n   <g id=\"patch_4\">\n    <path d=\"M 244.365 224.64 \nL 244.365 7.2 \n\" style=\"fill:none;stroke:#000000;stroke-linecap:square;stroke-linejoin:miter;stroke-width:0.8;\"/>\n   </g>\n   <g id=\"patch_5\">\n    <path d=\"M 26.925 224.64 \nL 244.365 224.64 \n\" style=\"fill:none;stroke:#000000;stroke-linecap:square;stroke-linejoin:miter;stroke-width:0.8;\"/>\n   </g>\n   <g id=\"patch_6\">\n    <path d=\"M 26.925 7.2 \nL 244.365 7.2 \n\" style=\"fill:none;stroke:#000000;stroke-linecap:square;stroke-linejoin:miter;stroke-width:0.8;\"/>\n   </g>\n  </g>\n </g>\n <defs>\n  <clipPath id=\"pb15f3278e7\">\n   <rect height=\"217.44\" width=\"217.44\" x=\"26.925\" y=\"7.2\"/>\n  </clipPath>\n </defs>\n</svg>\n",
      "image/png": "[encoded data removed]"
     },
     "metadata": {
      "needs_background": "light"
     }
    }
   ],
   "source": [
    "testdata = datasets.MNIST('data/mnist_test', train=False, download=False, transform=transforms.ToTensor()) # download=True to download, train=False means test set\n",
    "\n",
    "test_loader = torch.utils.data.DataLoader(testdata, batch_size=1, shuffle=True)\n",
    "\n",
    "img, label = next(iter(test_loader))\n",
    "\n",
    "predict = model(img.view(-1).unsqueeze(0))\n",
    "\n",
    "_, predicted_label = torch.max(predict, dim=1)\n",
    "\n",
    "print(predicted_label.item())\n",
    "\n",
    "plt.imshow(img.reshape(28,28), cmap='gray')\n",
    "\n",
    "# correct = 0\n",
    "# total = 0\n",
    "# with torch.no_grad():\n",
    "# for imgs, labels in val_loader:\n",
    "# batch_size = imgs.shape[0]\n",
    "# outputs = model(imgs.view(batch_size, -1))\n",
    "# _, predicted = torch.max(outputs, dim=1)\n",
    "# total += labels.shape[0]\n",
    "# correct += int((predicted == labels).sum())\n",
    "# print(\"Accuracy: %f\", correct / total)\n",
    "# Accuracy: 0.794000"
   ]
  },
  {
   "source": [
    "## Visualization"
   ],
   "cell_type": "markdown",
   "metadata": {}
  },
  {
   "cell_type": "code",
   "execution_count": 64,
   "metadata": {},
   "outputs": [],
   "source": [
    "!rm -rf runs\n",
    "writer = SummaryWriter('runs/mnist')"
   ]
  },
  {
   "source": [
    "### add loss"
   ],
   "cell_type": "markdown",
   "metadata": {}
  },
  {
   "cell_type": "code",
   "execution_count": 65,
   "metadata": {},
   "outputs": [
    {
     "output_type": "stream",
     "name": "stdout",
     "text": [
      "Epoch: 0, Loss: 2.392365\n",
      "Epoch: 1, Loss: 2.389013\n",
      "Epoch: 2, Loss: 2.386089\n",
      "Epoch: 3, Loss: 2.383407\n",
      "Epoch: 4, Loss: 2.379947\n",
      "Epoch: 5, Loss: 2.377138\n",
      "Epoch: 6, Loss: 2.374565\n",
      "Epoch: 7, Loss: 2.371121\n",
      "Epoch: 8, Loss: 2.368360\n",
      "Epoch: 9, Loss: 2.365289\n"
     ]
    }
   ],
   "source": [
    "n_epochs = 10\n",
    "learning_rate = 0.1\n",
    "for epoch in range(n_epochs):\n",
    "    epoch_loss = 0\n",
    "    for img, label in train_loader:\n",
    "        label_one_hot = torch.zeros(batch_sz, 10).scatter_(1, label.view(batch_sz,1), 1.0)\n",
    "        predict = model(img.view(batch_sz, -1))\n",
    "        curr_loss = loss(predict, label_one_hot)\n",
    "    \n",
    "        optimizer.zero_grad()\n",
    "        curr_loss.backward()\n",
    "        optimizer.step()\n",
    "        \n",
    "        epoch_loss += curr_loss\n",
    "    \n",
    "    writer.add_scalar(\"Loss/train\", epoch_loss, epoch)\n",
    "    print(\"Epoch: %d, Loss: %f\" % (epoch, float(epoch_loss)))"
   ]
  },
  {
   "source": [
    "### add model"
   ],
   "cell_type": "markdown",
   "metadata": {}
  },
  {
   "cell_type": "code",
   "execution_count": 66,
   "metadata": {},
   "outputs": [],
   "source": [
    "img, _ = next(iter(train_loader))\n",
    "writer.add_graph(model, img.view(batch_sz,-1))"
   ]
  },
  {
   "cell_type": "code",
   "execution_count": 67,
   "metadata": {},
   "outputs": [],
   "source": [
    "writer.flush()\n",
    "writer.close()"
   ]
  },
  {
   "cell_type": "code",
   "execution_count": 62,
   "metadata": {},
   "outputs": [
    {
     "output_type": "stream",
     "name": "stdout",
     "text": [
      "TensorFlow installation not found - running with reduced feature set.\n",
      "Serving TensorBoard on localhost; to expose to the network, use a proxy or pass --bind_all\n",
      "TensorBoard 2.4.0 at http://localhost:6006/ (Press CTRL+C to quit)\n",
      "^C\n"
     ]
    }
   ],
   "source": [
    "!tensorboard --logdir=runs/mnist"
   ]
  },
  {
   "cell_type": "code",
   "execution_count": null,
   "metadata": {},
   "outputs": [],
   "source": []
  }
 ]
}