{
 "metadata": {
  "language_info": {
   "codemirror_mode": {
    "name": "ipython",
    "version": 3
   },
   "file_extension": ".py",
   "mimetype": "text/x-python",
   "name": "python",
   "nbconvert_exporter": "python",
   "pygments_lexer": "ipython3",
   "version": "3.7.6-final"
  },
  "orig_nbformat": 2,
  "kernelspec": {
   "name": "python3",
   "display_name": "Python 3.7.6 64-bit",
   "metadata": {
    "interpreter": {
     "hash": "aee8b7b246df8f9039afb4144a1f6fd8d2ca17a180786b69acc140d282b71a49"
    }
   }
  }
 },
 "nbformat": 4,
 "nbformat_minor": 2,
 "cells": [
  {
   "source": [
    "# CIFAR10"
   ],
   "cell_type": "markdown",
   "metadata": {}
  },
  {
   "source": [
    "## Package"
   ],
   "cell_type": "markdown",
   "metadata": {}
  },
  {
   "cell_type": "code",
   "execution_count": 1,
   "metadata": {},
   "outputs": [],
   "source": [
    "import torch\n",
    "import torch.nn as nn\n",
    "import torch.optim as optim\n",
    "from torchvision import datasets\n",
    "from torchvision import transforms\n",
    "from torch.utils.tensorboard import SummaryWriter\n",
    "import numpy as np\n",
    "import matplotlib.pyplot as plt\n",
    "\n"
   ]
  },
  {
   "source": [
    "## Data set"
   ],
   "cell_type": "markdown",
   "metadata": {}
  },
  {
   "cell_type": "code",
   "execution_count": 2,
   "metadata": {
    "tags": []
   },
   "outputs": [
    {
     "output_type": "stream",
     "name": "stdout",
     "text": [
      "50000\n"
     ]
    }
   ],
   "source": [
    "trainset = datasets.CIFAR10(root='data/cifar10_train', train=True, download=False, transform=transforms.ToTensor())\n",
    "trainloader = torch.utils.data.DataLoader(trainset, batch_size=1, shuffle=True)\n",
    "\n",
    "print(len(trainset))\n",
    "\n",
    "classes = ('plane', 'car', 'bird', 'cat', 'deer', 'dog', 'frog', 'horse', 'ship', 'truck')"
   ]
  },
  {
   "source": [
    "## Sample"
   ],
   "cell_type": "markdown",
   "metadata": {}
  },
  {
   "source": [
    "#img, label = trainset[np.random.randint(0, len(trainset)-1)]\n",
    "img, label = next(iter(trainloader))\n",
    "\n",
    "label"
   ],
   "cell_type": "code",
   "metadata": {},
   "execution_count": 8,
   "outputs": [
    {
     "output_type": "execute_result",
     "data": {
      "text/plain": [
       "tensor([5])"
      ]
     },
     "metadata": {},
     "execution_count": 8
    }
   ]
  },
  {
   "cell_type": "code",
   "execution_count": 9,
   "metadata": {},
   "outputs": [
    {
     "output_type": "execute_result",
     "data": {
      "text/plain": [
       "'dog'"
      ]
     },
     "metadata": {},
     "execution_count": 9
    }
   ],
   "source": [
    "classes[label.item()]"
   ]
  },
  {
   "cell_type": "code",
   "execution_count": 10,
   "metadata": {},
   "outputs": [
    {
     "output_type": "execute_result",
     "data": {
      "text/plain": [
       "torch.Size([1, 3, 32, 32])"
      ]
     },
     "metadata": {},
     "execution_count": 10
    }
   ],
   "source": [
    "img.size()"
   ]
  },
  {
   "cell_type": "code",
   "execution_count": 11,
   "metadata": {},
   "outputs": [
    {
     "output_type": "execute_result",
     "data": {
      "text/plain": [
       "<matplotlib.image.AxesImage at 0x136323210>"
      ]
     },
     "metadata": {},
     "execution_count": 11
    },
    {
     "output_type": "display_data",
     "data": {
      "text/plain": "<Figure size 432x288 with 1 Axes>",
      "image/svg+xml": "<?xml version=\"1.0\" encoding=\"utf-8\" standalone=\"no\"?>\n<!DOCTYPE svg PUBLIC \"-//W3C//DTD SVG 1.1//EN\"\n  \"http://www.w3.org/Graphics/SVG/1.1/DTD/svg11.dtd\">\n<!-- Created with matplotlib (https://matplotlib.org/) -->\n<svg height=\"248.919844pt\" version=\"1.1\" viewBox=\"0 0 251.565 248.919844\" width=\"251.565pt\" xmlns=\"http://www.w3.org/2000/svg\" xmlns:xlink=\"http://www.w3.org/1999/xlink\">\n <defs>\n  <style type=\"text/css\">\n*{stroke-linecap:butt;stroke-linejoin:round;}\n  </style>\n </defs>\n <g id=\"figure_1\">\n  <g id=\"patch_1\">\n   <path d=\"M 0 248.919844 \nL 251.565 248.919844 \nL 251.565 0 \nL 0 0 \nz\n\" style=\"fill:none;\"/>\n  </g>\n  <g id=\"axes_1\">\n   <g id=\"patch_2\">\n    <path d=\"M 26.925 225.041719 \nL 244.365 225.041719 \nL 244.365 7.601719 \nL 26.925 7.601719 \nz\n\" style=\"fill:#ffffff;\"/>\n   </g>\n   <g clip-path=\"url(#p816590216c)\">\n    <image height=\"218\" id=\"image6b854f02df\" transform=\"scale(1 -1)translate(0 -218)\" width=\"218\" x=\"26.925\" xlink:href=\"data:image/png;base64,\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\" y=\"-7.041719\"/>\n   </g>\n   <g id=\"matplotlib.axis_1\">\n    <g id=\"xtick_1\">\n     <g id=\"line2d_1\">\n      <defs>\n       <path d=\"M 0 0 \nL 0 3.5 \n\" id=\"md499ecea41\" style=\"stroke:#000000;stroke-width:0.8;\"/>\n      </defs>\n      <g>\n       <use style=\"stroke:#000000;stroke-width:0.8;\" x=\"30.3225\" xlink:href=\"#md499ecea41\" y=\"225.041719\"/>\n      </g>\n     </g>\n     <g id=\"text_1\">\n      <!-- 0 -->\n      <defs>\n       <path d=\"M 31.78125 66.40625 \nQ 24.171875 66.40625 20.328125 58.90625 \nQ 16.5 51.421875 16.5 36.375 \nQ 16.5 21.390625 20.328125 13.890625 \nQ 24.171875 6.390625 31.78125 6.390625 \nQ 39.453125 6.390625 43.28125 13.890625 \nQ 47.125 21.390625 47.125 36.375 \nQ 47.125 51.421875 43.28125 58.90625 \nQ 39.453125 66.40625 31.78125 66.40625 \nz\nM 31.78125 74.21875 \nQ 44.046875 74.21875 50.515625 64.515625 \nQ 56.984375 54.828125 56.984375 36.375 \nQ 56.984375 17.96875 50.515625 8.265625 \nQ 44.046875 -1.421875 31.78125 -1.421875 \nQ 19.53125 -1.421875 13.0625 8.265625 \nQ 6.59375 17.96875 6.59375 36.375 \nQ 6.59375 54.828125 13.0625 64.515625 \nQ 19.53125 74.21875 31.78125 74.21875 \nz\n\" id=\"DejaVuSans-48\"/>\n      </defs>\n      <g transform=\"translate(27.14125 239.640156)scale(0.1 -0.1)\">\n       <use xlink:href=\"#DejaVuSans-48\"/>\n      </g>\n     </g>\n    </g>\n    <g id=\"xtick_2\">\n     <g id=\"line2d_2\">\n      <g>\n       <use style=\"stroke:#000000;stroke-width:0.8;\" x=\"64.2975\" xlink:href=\"#md499ecea41\" y=\"225.041719\"/>\n      </g>\n     </g>\n     <g id=\"text_2\">\n      <!-- 5 -->\n      <defs>\n       <path d=\"M 10.796875 72.90625 \nL 49.515625 72.90625 \nL 49.515625 64.59375 \nL 19.828125 64.59375 \nL 19.828125 46.734375 \nQ 21.96875 47.46875 24.109375 47.828125 \nQ 26.265625 48.1875 28.421875 48.1875 \nQ 40.625 48.1875 47.75 41.5 \nQ 54.890625 34.8125 54.890625 23.390625 \nQ 54.890625 11.625 47.5625 5.09375 \nQ 40.234375 -1.421875 26.90625 -1.421875 \nQ 22.3125 -1.421875 17.546875 -0.640625 \nQ 12.796875 0.140625 7.71875 1.703125 \nL 7.71875 11.625 \nQ 12.109375 9.234375 16.796875 8.0625 \nQ 21.484375 6.890625 26.703125 6.890625 \nQ 35.15625 6.890625 40.078125 11.328125 \nQ 45.015625 15.765625 45.015625 23.390625 \nQ 45.015625 31 40.078125 35.4375 \nQ 35.15625 39.890625 26.703125 39.890625 \nQ 22.75 39.890625 18.8125 39.015625 \nQ 14.890625 38.140625 10.796875 36.28125 \nz\n\" id=\"DejaVuSans-53\"/>\n      </defs>\n      <g transform=\"translate(61.11625 239.640156)scale(0.1 -0.1)\">\n       <use xlink:href=\"#DejaVuSans-53\"/>\n      </g>\n     </g>\n    </g>\n    <g id=\"xtick_3\">\n     <g id=\"line2d_3\">\n      <g>\n       <use style=\"stroke:#000000;stroke-width:0.8;\" x=\"98.2725\" xlink:href=\"#md499ecea41\" y=\"225.041719\"/>\n      </g>\n     </g>\n     <g id=\"text_3\">\n      <!-- 10 -->\n      <defs>\n       <path d=\"M 12.40625 8.296875 \nL 28.515625 8.296875 \nL 28.515625 63.921875 \nL 10.984375 60.40625 \nL 10.984375 69.390625 \nL 28.421875 72.90625 \nL 38.28125 72.90625 \nL 38.28125 8.296875 \nL 54.390625 8.296875 \nL 54.390625 0 \nL 12.40625 0 \nz\n\" id=\"DejaVuSans-49\"/>\n      </defs>\n      <g transform=\"translate(91.91 239.640156)scale(0.1 -0.1)\">\n       <use xlink:href=\"#DejaVuSans-49\"/>\n       <use x=\"63.623047\" xlink:href=\"#DejaVuSans-48\"/>\n      </g>\n     </g>\n    </g>\n    <g id=\"xtick_4\">\n     <g id=\"line2d_4\">\n      <g>\n       <use style=\"stroke:#000000;stroke-width:0.8;\" x=\"132.2475\" xlink:href=\"#md499ecea41\" y=\"225.041719\"/>\n      </g>\n     </g>\n     <g id=\"text_4\">\n      <!-- 15 -->\n      <g transform=\"translate(125.885 239.640156)scale(0.1 -0.1)\">\n       <use xlink:href=\"#DejaVuSans-49\"/>\n       <use x=\"63.623047\" xlink:href=\"#DejaVuSans-53\"/>\n      </g>\n     </g>\n    </g>\n    <g id=\"xtick_5\">\n     <g id=\"line2d_5\">\n      <g>\n       <use style=\"stroke:#000000;stroke-width:0.8;\" x=\"166.2225\" xlink:href=\"#md499ecea41\" y=\"225.041719\"/>\n      </g>\n     </g>\n     <g id=\"text_5\">\n      <!-- 20 -->\n      <defs>\n       <path d=\"M 19.1875 8.296875 \nL 53.609375 8.296875 \nL 53.609375 0 \nL 7.328125 0 \nL 7.328125 8.296875 \nQ 12.9375 14.109375 22.625 23.890625 \nQ 32.328125 33.6875 34.8125 36.53125 \nQ 39.546875 41.84375 41.421875 45.53125 \nQ 43.3125 49.21875 43.3125 52.78125 \nQ 43.3125 58.59375 39.234375 62.25 \nQ 35.15625 65.921875 28.609375 65.921875 \nQ 23.96875 65.921875 18.8125 64.3125 \nQ 13.671875 62.703125 7.8125 59.421875 \nL 7.8125 69.390625 \nQ 13.765625 71.78125 18.9375 73 \nQ 24.125 74.21875 28.421875 74.21875 \nQ 39.75 74.21875 46.484375 68.546875 \nQ 53.21875 62.890625 53.21875 53.421875 \nQ 53.21875 48.921875 51.53125 44.890625 \nQ 49.859375 40.875 45.40625 35.40625 \nQ 44.1875 33.984375 37.640625 27.21875 \nQ 31.109375 20.453125 19.1875 8.296875 \nz\n\" id=\"DejaVuSans-50\"/>\n      </defs>\n      <g transform=\"translate(159.86 239.640156)scale(0.1 -0.1)\">\n       <use xlink:href=\"#DejaVuSans-50\"/>\n       <use x=\"63.623047\" xlink:href=\"#DejaVuSans-48\"/>\n      </g>\n     </g>\n    </g>\n    <g id=\"xtick_6\">\n     <g id=\"line2d_6\">\n      <g>\n       <use style=\"stroke:#000000;stroke-width:0.8;\" x=\"200.1975\" xlink:href=\"#md499ecea41\" y=\"225.041719\"/>\n      </g>\n     </g>\n     <g id=\"text_6\">\n      <!-- 25 -->\n      <g transform=\"translate(193.835 239.640156)scale(0.1 -0.1)\">\n       <use xlink:href=\"#DejaVuSans-50\"/>\n       <use x=\"63.623047\" xlink:href=\"#DejaVuSans-53\"/>\n      </g>\n     </g>\n    </g>\n    <g id=\"xtick_7\">\n     <g id=\"line2d_7\">\n      <g>\n       <use style=\"stroke:#000000;stroke-width:0.8;\" x=\"234.1725\" xlink:href=\"#md499ecea41\" y=\"225.041719\"/>\n      </g>\n     </g>\n     <g id=\"text_7\">\n      <!-- 30 -->\n      <defs>\n       <path d=\"M 40.578125 39.3125 \nQ 47.65625 37.796875 51.625 33 \nQ 55.609375 28.21875 55.609375 21.1875 \nQ 55.609375 10.40625 48.1875 4.484375 \nQ 40.765625 -1.421875 27.09375 -1.421875 \nQ 22.515625 -1.421875 17.65625 -0.515625 \nQ 12.796875 0.390625 7.625 2.203125 \nL 7.625 11.71875 \nQ 11.71875 9.328125 16.59375 8.109375 \nQ 21.484375 6.890625 26.8125 6.890625 \nQ 36.078125 6.890625 40.9375 10.546875 \nQ 45.796875 14.203125 45.796875 21.1875 \nQ 45.796875 27.640625 41.28125 31.265625 \nQ 36.765625 34.90625 28.71875 34.90625 \nL 20.21875 34.90625 \nL 20.21875 43.015625 \nL 29.109375 43.015625 \nQ 36.375 43.015625 40.234375 45.921875 \nQ 44.09375 48.828125 44.09375 54.296875 \nQ 44.09375 59.90625 40.109375 62.90625 \nQ 36.140625 65.921875 28.71875 65.921875 \nQ 24.65625 65.921875 20.015625 65.03125 \nQ 15.375 64.15625 9.8125 62.3125 \nL 9.8125 71.09375 \nQ 15.4375 72.65625 20.34375 73.4375 \nQ 25.25 74.21875 29.59375 74.21875 \nQ 40.828125 74.21875 47.359375 69.109375 \nQ 53.90625 64.015625 53.90625 55.328125 \nQ 53.90625 49.265625 50.4375 45.09375 \nQ 46.96875 40.921875 40.578125 39.3125 \nz\n\" id=\"DejaVuSans-51\"/>\n      </defs>\n      <g transform=\"translate(227.81 239.640156)scale(0.1 -0.1)\">\n       <use xlink:href=\"#DejaVuSans-51\"/>\n       <use x=\"63.623047\" xlink:href=\"#DejaVuSans-48\"/>\n      </g>\n     </g>\n    </g>\n   </g>\n   <g id=\"matplotlib.axis_2\">\n    <g id=\"ytick_1\">\n     <g id=\"line2d_8\">\n      <defs>\n       <path d=\"M 0 0 \nL -3.5 0 \n\" id=\"m24fa7017ef\" style=\"stroke:#000000;stroke-width:0.8;\"/>\n      </defs>\n      <g>\n       <use style=\"stroke:#000000;stroke-width:0.8;\" x=\"26.925\" xlink:href=\"#m24fa7017ef\" y=\"10.999219\"/>\n      </g>\n     </g>\n     <g id=\"text_8\">\n      <!-- 0 -->\n      <g transform=\"translate(13.5625 14.798437)scale(0.1 -0.1)\">\n       <use xlink:href=\"#DejaVuSans-48\"/>\n      </g>\n     </g>\n    </g>\n    <g id=\"ytick_2\">\n     <g id=\"line2d_9\">\n      <g>\n       <use style=\"stroke:#000000;stroke-width:0.8;\" x=\"26.925\" xlink:href=\"#m24fa7017ef\" y=\"44.974219\"/>\n      </g>\n     </g>\n     <g id=\"text_9\">\n      <!-- 5 -->\n      <g transform=\"translate(13.5625 48.773437)scale(0.1 -0.1)\">\n       <use xlink:href=\"#DejaVuSans-53\"/>\n      </g>\n     </g>\n    </g>\n    <g id=\"ytick_3\">\n     <g id=\"line2d_10\">\n      <g>\n       <use style=\"stroke:#000000;stroke-width:0.8;\" x=\"26.925\" xlink:href=\"#m24fa7017ef\" y=\"78.949219\"/>\n      </g>\n     </g>\n     <g id=\"text_10\">\n      <!-- 10 -->\n      <g transform=\"translate(7.2 82.748437)scale(0.1 -0.1)\">\n       <use xlink:href=\"#DejaVuSans-49\"/>\n       <use x=\"63.623047\" xlink:href=\"#DejaVuSans-48\"/>\n      </g>\n     </g>\n    </g>\n    <g id=\"ytick_4\">\n     <g id=\"line2d_11\">\n      <g>\n       <use style=\"stroke:#000000;stroke-width:0.8;\" x=\"26.925\" xlink:href=\"#m24fa7017ef\" y=\"112.924219\"/>\n      </g>\n     </g>\n     <g id=\"text_11\">\n      <!-- 15 -->\n      <g transform=\"translate(7.2 116.723437)scale(0.1 -0.1)\">\n       <use xlink:href=\"#DejaVuSans-49\"/>\n       <use x=\"63.623047\" xlink:href=\"#DejaVuSans-53\"/>\n      </g>\n     </g>\n    </g>\n    <g id=\"ytick_5\">\n     <g id=\"line2d_12\">\n      <g>\n       <use style=\"stroke:#000000;stroke-width:0.8;\" x=\"26.925\" xlink:href=\"#m24fa7017ef\" y=\"146.899219\"/>\n      </g>\n     </g>\n     <g id=\"text_12\">\n      <!-- 20 -->\n      <g transform=\"translate(7.2 150.698437)scale(0.1 -0.1)\">\n       <use xlink:href=\"#DejaVuSans-50\"/>\n       <use x=\"63.623047\" xlink:href=\"#DejaVuSans-48\"/>\n      </g>\n     </g>\n    </g>\n    <g id=\"ytick_6\">\n     <g id=\"line2d_13\">\n      <g>\n       <use style=\"stroke:#000000;stroke-width:0.8;\" x=\"26.925\" xlink:href=\"#m24fa7017ef\" y=\"180.874219\"/>\n      </g>\n     </g>\n     <g id=\"text_13\">\n      <!-- 25 -->\n      <g transform=\"translate(7.2 184.673437)scale(0.1 -0.1)\">\n       <use xlink:href=\"#DejaVuSans-50\"/>\n       <use x=\"63.623047\" xlink:href=\"#DejaVuSans-53\"/>\n      </g>\n     </g>\n    </g>\n    <g id=\"ytick_7\">\n     <g id=\"line2d_14\">\n      <g>\n       <use style=\"stroke:#000000;stroke-width:0.8;\" x=\"26.925\" xlink:href=\"#m24fa7017ef\" y=\"214.849219\"/>\n      </g>\n     </g>\n     <g id=\"text_14\">\n      <!-- 30 -->\n      <g transform=\"translate(7.2 218.648437)scale(0.1 -0.1)\">\n       <use xlink:href=\"#DejaVuSans-51\"/>\n       <use x=\"63.623047\" xlink:href=\"#DejaVuSans-48\"/>\n      </g>\n     </g>\n    </g>\n   </g>\n   <g id=\"patch_3\">\n    <path d=\"M 26.925 225.041719 \nL 26.925 7.601719 \n\" style=\"fill:none;stroke:#000000;stroke-linecap:square;stroke-linejoin:miter;stroke-width:0.8;\"/>\n   </g>\n   <g id=\"patch_4\">\n    <path d=\"M 244.365 225.041719 \nL 244.365 7.601719 \n\" style=\"fill:none;stroke:#000000;stroke-linecap:square;stroke-linejoin:miter;stroke-width:0.8;\"/>\n   </g>\n   <g id=\"patch_5\">\n    <path d=\"M 26.925 225.041719 \nL 244.365 225.041719 \n\" style=\"fill:none;stroke:#000000;stroke-linecap:square;stroke-linejoin:miter;stroke-width:0.8;\"/>\n   </g>\n   <g id=\"patch_6\">\n    <path d=\"M 26.925 7.601719 \nL 244.365 7.601719 \n\" style=\"fill:none;stroke:#000000;stroke-linecap:square;stroke-linejoin:miter;stroke-width:0.8;\"/>\n   </g>\n  </g>\n </g>\n <defs>\n  <clipPath id=\"p816590216c\">\n   <rect height=\"217.44\" width=\"217.44\" x=\"26.925\" y=\"7.601719\"/>\n  </clipPath>\n </defs>\n</svg>\n",
      "image/png": "[encoded data removed]"
     },
     "metadata": {
      "needs_background": "light"
     }
    }
   ],
   "source": [
    "plt.imshow(img.reshape(3, 32, 32).permute(1, 2, 0), cmap='gray')"
   ]
  },
  {
   "source": [
    "## Model"
   ],
   "cell_type": "markdown",
   "metadata": {}
  },
  {
   "cell_type": "code",
   "execution_count": 13,
   "metadata": {},
   "outputs": [],
   "source": [
    "\n",
    "model = nn.Sequential(\n",
    "        nn.Conv2d(3, 6, 5),\n",
    "        nn.ReLU(),\n",
    "        nn.MaxPool2d(2),\n",
    "        nn.Conv2d(6, 16, 5),\n",
    "        nn.ReLU(),\n",
    "        nn.MaxPool2d(2),\n",
    "        nn.Flatten(), # ???\n",
    "        nn.Linear(16 * 5 * 5, 120), # ???\n",
    "        nn.ReLU(),\n",
    "        nn.Linear(120, 84),\n",
    "        nn.ReLU(),\n",
    "        nn.Linear(84, 10))\n",
    "\n"
   ]
  },
  {
   "cell_type": "code",
   "execution_count": 14,
   "metadata": {},
   "outputs": [
    {
     "output_type": "stream",
     "name": "stdout",
     "text": [
      "tensor([[ 0.0315,  0.0493,  0.1052, -0.0922, -0.0183,  0.1531,  0.0727,  0.1254,\n          0.1059, -0.1022]], grad_fn=<AddmmBackward>)\n"
     ]
    }
   ],
   "source": [
    "predict = model(img)\n",
    "\n",
    "print(predict)\n"
   ]
  },
  {
   "source": [
    "## Loss"
   ],
   "cell_type": "markdown",
   "metadata": {}
  },
  {
   "source": [
    "### Cross Entropy"
   ],
   "cell_type": "markdown",
   "metadata": {}
  },
  {
   "cell_type": "code",
   "execution_count": 15,
   "metadata": {},
   "outputs": [
    {
     "output_type": "execute_result",
     "data": {
      "text/plain": [
       "tensor(2.1960, grad_fn=<NllLossBackward>)"
      ]
     },
     "metadata": {},
     "execution_count": 15
    }
   ],
   "source": [
    "criterion = nn.CrossEntropyLoss()\n",
    "\n",
    "criterion(predict, label)"
   ]
  },
  {
   "source": [
    "## Train"
   ],
   "cell_type": "markdown",
   "metadata": {}
  },
  {
   "source": [
    "### Data loader"
   ],
   "cell_type": "markdown",
   "metadata": {}
  },
  {
   "cell_type": "code",
   "execution_count": 17,
   "metadata": {},
   "outputs": [],
   "source": [
    "batch_sz = 500\n",
    "trainloader = torch.utils.data.DataLoader(trainset, batch_size=batch_sz, shuffle=True)"
   ]
  },
  {
   "source": [
    "### Learn rate"
   ],
   "cell_type": "markdown",
   "metadata": {}
  },
  {
   "cell_type": "code",
   "execution_count": 16,
   "metadata": {},
   "outputs": [],
   "source": [
    "learning_rate = 0.1"
   ]
  },
  {
   "source": [
    "### Optimizer"
   ],
   "cell_type": "markdown",
   "metadata": {}
  },
  {
   "cell_type": "code",
   "execution_count": 18,
   "metadata": {},
   "outputs": [],
   "source": [
    "optimizer = optim.SGD(model.parameters(), lr=learning_rate, momentum=0.1)"
   ]
  },
  {
   "source": [
    "### Batch training"
   ],
   "cell_type": "markdown",
   "metadata": {}
  },
  {
   "cell_type": "code",
   "execution_count": 19,
   "metadata": {},
   "outputs": [
    {
     "output_type": "stream",
     "name": "stdout",
     "text": [
      "Epoch: 0, Loss: 229.201859\n",
      "Epoch: 1, Loss: 219.264877\n",
      "Epoch: 2, Loss: 207.374435\n",
      "Epoch: 3, Loss: 195.969406\n",
      "Epoch: 4, Loss: 187.184418\n",
      "Epoch: 5, Loss: 178.445801\n",
      "Epoch: 6, Loss: 169.926666\n",
      "Epoch: 7, Loss: 162.082794\n",
      "Epoch: 8, Loss: 157.428757\n",
      "Epoch: 9, Loss: 152.491608\n"
     ]
    }
   ],
   "source": [
    "!rm -rf runs\n",
    "writer = SummaryWriter('runs/cifar10')\n",
    "\n",
    "n_epochs = 10\n",
    "for epoch in range(n_epochs):\n",
    "    epoch_loss = 0\n",
    "    for _, data in enumerate(trainloader):\n",
    "        imgs, labels = data\n",
    "        predicts = model(imgs)\n",
    "        curr_loss = criterion(predicts, labels)\n",
    "    \n",
    "        optimizer.zero_grad()\n",
    "        curr_loss.backward()\n",
    "        optimizer.step()\n",
    "        \n",
    "        epoch_loss += curr_loss\n",
    "    writer.add_scalar(\"Loss/train\", epoch_loss, epoch)\n",
    "    print(\"Epoch: %d, Loss: %f\" % (epoch, float(epoch_loss)))"
   ]
  },
  {
   "cell_type": "code",
   "execution_count": 20,
   "metadata": {},
   "outputs": [],
   "source": [
    "img, _ = next(iter(trainloader))\n",
    "writer.add_graph(model, img)\n",
    "writer.flush()\n",
    "writer.close()"
   ]
  },
  {
   "cell_type": "code",
   "execution_count": 21,
   "metadata": {},
   "outputs": [
    {
     "output_type": "stream",
     "name": "stdout",
     "text": [
      "TensorFlow installation not found - running with reduced feature set.\n",
      "Serving TensorBoard on localhost; to expose to the network, use a proxy or pass --bind_all\n",
      "TensorBoard 2.4.0 at http://localhost:6006/ (Press CTRL+C to quit)\n",
      "^C\n"
     ]
    }
   ],
   "source": [
    "!tensorboard --logdir=runs/cifar10"
   ]
  },
  {
   "source": [
    "## Test accuracy"
   ],
   "cell_type": "markdown",
   "metadata": {}
  },
  {
   "source": [
    "### Test set"
   ],
   "cell_type": "markdown",
   "metadata": {}
  },
  {
   "cell_type": "code",
   "execution_count": 25,
   "metadata": {},
   "outputs": [],
   "source": [
    "testset = datasets.CIFAR10(root='data/cifar10_test', train=False, download=False, transform=transforms.ToTensor())\n",
    "testloader = torch.utils.data.DataLoader(testset, batch_size=1, shuffle=True)"
   ]
  },
  {
   "cell_type": "code",
   "execution_count": 29,
   "metadata": {},
   "outputs": [
    {
     "output_type": "stream",
     "name": "stdout",
     "text": [
      "horse\n"
     ]
    },
    {
     "output_type": "execute_result",
     "data": {
      "text/plain": [
       "<matplotlib.image.AxesImage at 0x1237a93d0>"
      ]
     },
     "metadata": {},
     "execution_count": 29
    },
    {
     "output_type": "display_data",
     "data": {
      "text/plain": "<Figure size 432x288 with 1 Axes>",
      "image/svg+xml": "<?xml version=\"1.0\" encoding=\"utf-8\" standalone=\"no\"?>\n<!DOCTYPE svg PUBLIC \"-//W3C//DTD SVG 1.1//EN\"\n  \"http://www.w3.org/Graphics/SVG/1.1/DTD/svg11.dtd\">\n<!-- Created with matplotlib (https://matplotlib.org/) -->\n<svg height=\"248.919844pt\" version=\"1.1\" viewBox=\"0 0 251.565 248.919844\" width=\"251.565pt\" xmlns=\"http://www.w3.org/2000/svg\" xmlns:xlink=\"http://www.w3.org/1999/xlink\">\n <defs>\n  <style type=\"text/css\">\n*{stroke-linecap:butt;stroke-linejoin:round;}\n  </style>\n </defs>\n <g id=\"figure_1\">\n  <g id=\"patch_1\">\n   <path d=\"M 0 248.919844 \nL 251.565 248.919844 \nL 251.565 0 \nL 0 0 \nz\n\" style=\"fill:none;\"/>\n  </g>\n  <g id=\"axes_1\">\n   <g id=\"patch_2\">\n    <path d=\"M 26.925 225.041719 \nL 244.365 225.041719 \nL 244.365 7.601719 \nL 26.925 7.601719 \nz\n\" style=\"fill:#ffffff;\"/>\n   </g>\n   <g clip-path=\"url(#p7fc259db66)\">\n    <image height=\"218\" id=\"imagec3044e491a\" transform=\"scale(1 -1)translate(0 -218)\" width=\"218\" x=\"26.925\" xlink:href=\"data:image/png;base64,\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\" y=\"-7.041719\"/>\n   </g>\n   <g id=\"matplotlib.axis_1\">\n    <g id=\"xtick_1\">\n     <g id=\"line2d_1\">\n      <defs>\n       <path d=\"M 0 0 \nL 0 3.5 \n\" id=\"m451072c789\" style=\"stroke:#000000;stroke-width:0.8;\"/>\n      </defs>\n      <g>\n       <use style=\"stroke:#000000;stroke-width:0.8;\" x=\"30.3225\" xlink:href=\"#m451072c789\" y=\"225.041719\"/>\n      </g>\n     </g>\n     <g id=\"text_1\">\n      <!-- 0 -->\n      <defs>\n       <path d=\"M 31.78125 66.40625 \nQ 24.171875 66.40625 20.328125 58.90625 \nQ 16.5 51.421875 16.5 36.375 \nQ 16.5 21.390625 20.328125 13.890625 \nQ 24.171875 6.390625 31.78125 6.390625 \nQ 39.453125 6.390625 43.28125 13.890625 \nQ 47.125 21.390625 47.125 36.375 \nQ 47.125 51.421875 43.28125 58.90625 \nQ 39.453125 66.40625 31.78125 66.40625 \nz\nM 31.78125 74.21875 \nQ 44.046875 74.21875 50.515625 64.515625 \nQ 56.984375 54.828125 56.984375 36.375 \nQ 56.984375 17.96875 50.515625 8.265625 \nQ 44.046875 -1.421875 31.78125 -1.421875 \nQ 19.53125 -1.421875 13.0625 8.265625 \nQ 6.59375 17.96875 6.59375 36.375 \nQ 6.59375 54.828125 13.0625 64.515625 \nQ 19.53125 74.21875 31.78125 74.21875 \nz\n\" id=\"DejaVuSans-48\"/>\n      </defs>\n      <g transform=\"translate(27.14125 239.640156)scale(0.1 -0.1)\">\n       <use xlink:href=\"#DejaVuSans-48\"/>\n      </g>\n     </g>\n    </g>\n    <g id=\"xtick_2\">\n     <g id=\"line2d_2\">\n      <g>\n       <use style=\"stroke:#000000;stroke-width:0.8;\" x=\"64.2975\" xlink:href=\"#m451072c789\" y=\"225.041719\"/>\n      </g>\n     </g>\n     <g id=\"text_2\">\n      <!-- 5 -->\n      <defs>\n       <path d=\"M 10.796875 72.90625 \nL 49.515625 72.90625 \nL 49.515625 64.59375 \nL 19.828125 64.59375 \nL 19.828125 46.734375 \nQ 21.96875 47.46875 24.109375 47.828125 \nQ 26.265625 48.1875 28.421875 48.1875 \nQ 40.625 48.1875 47.75 41.5 \nQ 54.890625 34.8125 54.890625 23.390625 \nQ 54.890625 11.625 47.5625 5.09375 \nQ 40.234375 -1.421875 26.90625 -1.421875 \nQ 22.3125 -1.421875 17.546875 -0.640625 \nQ 12.796875 0.140625 7.71875 1.703125 \nL 7.71875 11.625 \nQ 12.109375 9.234375 16.796875 8.0625 \nQ 21.484375 6.890625 26.703125 6.890625 \nQ 35.15625 6.890625 40.078125 11.328125 \nQ 45.015625 15.765625 45.015625 23.390625 \nQ 45.015625 31 40.078125 35.4375 \nQ 35.15625 39.890625 26.703125 39.890625 \nQ 22.75 39.890625 18.8125 39.015625 \nQ 14.890625 38.140625 10.796875 36.28125 \nz\n\" id=\"DejaVuSans-53\"/>\n      </defs>\n      <g transform=\"translate(61.11625 239.640156)scale(0.1 -0.1)\">\n       <use xlink:href=\"#DejaVuSans-53\"/>\n      </g>\n     </g>\n    </g>\n    <g id=\"xtick_3\">\n     <g id=\"line2d_3\">\n      <g>\n       <use style=\"stroke:#000000;stroke-width:0.8;\" x=\"98.2725\" xlink:href=\"#m451072c789\" y=\"225.041719\"/>\n      </g>\n     </g>\n     <g id=\"text_3\">\n      <!-- 10 -->\n      <defs>\n       <path d=\"M 12.40625 8.296875 \nL 28.515625 8.296875 \nL 28.515625 63.921875 \nL 10.984375 60.40625 \nL 10.984375 69.390625 \nL 28.421875 72.90625 \nL 38.28125 72.90625 \nL 38.28125 8.296875 \nL 54.390625 8.296875 \nL 54.390625 0 \nL 12.40625 0 \nz\n\" id=\"DejaVuSans-49\"/>\n      </defs>\n      <g transform=\"translate(91.91 239.640156)scale(0.1 -0.1)\">\n       <use xlink:href=\"#DejaVuSans-49\"/>\n       <use x=\"63.623047\" xlink:href=\"#DejaVuSans-48\"/>\n      </g>\n     </g>\n    </g>\n    <g id=\"xtick_4\">\n     <g id=\"line2d_4\">\n      <g>\n       <use style=\"stroke:#000000;stroke-width:0.8;\" x=\"132.2475\" xlink:href=\"#m451072c789\" y=\"225.041719\"/>\n      </g>\n     </g>\n     <g id=\"text_4\">\n      <!-- 15 -->\n      <g transform=\"translate(125.885 239.640156)scale(0.1 -0.1)\">\n       <use xlink:href=\"#DejaVuSans-49\"/>\n       <use x=\"63.623047\" xlink:href=\"#DejaVuSans-53\"/>\n      </g>\n     </g>\n    </g>\n    <g id=\"xtick_5\">\n     <g id=\"line2d_5\">\n      <g>\n       <use style=\"stroke:#000000;stroke-width:0.8;\" x=\"166.2225\" xlink:href=\"#m451072c789\" y=\"225.041719\"/>\n      </g>\n     </g>\n     <g id=\"text_5\">\n      <!-- 20 -->\n      <defs>\n       <path d=\"M 19.1875 8.296875 \nL 53.609375 8.296875 \nL 53.609375 0 \nL 7.328125 0 \nL 7.328125 8.296875 \nQ 12.9375 14.109375 22.625 23.890625 \nQ 32.328125 33.6875 34.8125 36.53125 \nQ 39.546875 41.84375 41.421875 45.53125 \nQ 43.3125 49.21875 43.3125 52.78125 \nQ 43.3125 58.59375 39.234375 62.25 \nQ 35.15625 65.921875 28.609375 65.921875 \nQ 23.96875 65.921875 18.8125 64.3125 \nQ 13.671875 62.703125 7.8125 59.421875 \nL 7.8125 69.390625 \nQ 13.765625 71.78125 18.9375 73 \nQ 24.125 74.21875 28.421875 74.21875 \nQ 39.75 74.21875 46.484375 68.546875 \nQ 53.21875 62.890625 53.21875 53.421875 \nQ 53.21875 48.921875 51.53125 44.890625 \nQ 49.859375 40.875 45.40625 35.40625 \nQ 44.1875 33.984375 37.640625 27.21875 \nQ 31.109375 20.453125 19.1875 8.296875 \nz\n\" id=\"DejaVuSans-50\"/>\n      </defs>\n      <g transform=\"translate(159.86 239.640156)scale(0.1 -0.1)\">\n       <use xlink:href=\"#DejaVuSans-50\"/>\n       <use x=\"63.623047\" xlink:href=\"#DejaVuSans-48\"/>\n      </g>\n     </g>\n    </g>\n    <g id=\"xtick_6\">\n     <g id=\"line2d_6\">\n      <g>\n       <use style=\"stroke:#000000;stroke-width:0.8;\" x=\"200.1975\" xlink:href=\"#m451072c789\" y=\"225.041719\"/>\n      </g>\n     </g>\n     <g id=\"text_6\">\n      <!-- 25 -->\n      <g transform=\"translate(193.835 239.640156)scale(0.1 -0.1)\">\n       <use xlink:href=\"#DejaVuSans-50\"/>\n       <use x=\"63.623047\" xlink:href=\"#DejaVuSans-53\"/>\n      </g>\n     </g>\n    </g>\n    <g id=\"xtick_7\">\n     <g id=\"line2d_7\">\n      <g>\n       <use style=\"stroke:#000000;stroke-width:0.8;\" x=\"234.1725\" xlink:href=\"#m451072c789\" y=\"225.041719\"/>\n      </g>\n     </g>\n     <g id=\"text_7\">\n      <!-- 30 -->\n      <defs>\n       <path d=\"M 40.578125 39.3125 \nQ 47.65625 37.796875 51.625 33 \nQ 55.609375 28.21875 55.609375 21.1875 \nQ 55.609375 10.40625 48.1875 4.484375 \nQ 40.765625 -1.421875 27.09375 -1.421875 \nQ 22.515625 -1.421875 17.65625 -0.515625 \nQ 12.796875 0.390625 7.625 2.203125 \nL 7.625 11.71875 \nQ 11.71875 9.328125 16.59375 8.109375 \nQ 21.484375 6.890625 26.8125 6.890625 \nQ 36.078125 6.890625 40.9375 10.546875 \nQ 45.796875 14.203125 45.796875 21.1875 \nQ 45.796875 27.640625 41.28125 31.265625 \nQ 36.765625 34.90625 28.71875 34.90625 \nL 20.21875 34.90625 \nL 20.21875 43.015625 \nL 29.109375 43.015625 \nQ 36.375 43.015625 40.234375 45.921875 \nQ 44.09375 48.828125 44.09375 54.296875 \nQ 44.09375 59.90625 40.109375 62.90625 \nQ 36.140625 65.921875 28.71875 65.921875 \nQ 24.65625 65.921875 20.015625 65.03125 \nQ 15.375 64.15625 9.8125 62.3125 \nL 9.8125 71.09375 \nQ 15.4375 72.65625 20.34375 73.4375 \nQ 25.25 74.21875 29.59375 74.21875 \nQ 40.828125 74.21875 47.359375 69.109375 \nQ 53.90625 64.015625 53.90625 55.328125 \nQ 53.90625 49.265625 50.4375 45.09375 \nQ 46.96875 40.921875 40.578125 39.3125 \nz\n\" id=\"DejaVuSans-51\"/>\n      </defs>\n      <g transform=\"translate(227.81 239.640156)scale(0.1 -0.1)\">\n       <use xlink:href=\"#DejaVuSans-51\"/>\n       <use x=\"63.623047\" xlink:href=\"#DejaVuSans-48\"/>\n      </g>\n     </g>\n    </g>\n   </g>\n   <g id=\"matplotlib.axis_2\">\n    <g id=\"ytick_1\">\n     <g id=\"line2d_8\">\n      <defs>\n       <path d=\"M 0 0 \nL -3.5 0 \n\" id=\"mb513d1bc7a\" style=\"stroke:#000000;stroke-width:0.8;\"/>\n      </defs>\n      <g>\n       <use style=\"stroke:#000000;stroke-width:0.8;\" x=\"26.925\" xlink:href=\"#mb513d1bc7a\" y=\"10.999219\"/>\n      </g>\n     </g>\n     <g id=\"text_8\">\n      <!-- 0 -->\n      <g transform=\"translate(13.5625 14.798437)scale(0.1 -0.1)\">\n       <use xlink:href=\"#DejaVuSans-48\"/>\n      </g>\n     </g>\n    </g>\n    <g id=\"ytick_2\">\n     <g id=\"line2d_9\">\n      <g>\n       <use style=\"stroke:#000000;stroke-width:0.8;\" x=\"26.925\" xlink:href=\"#mb513d1bc7a\" y=\"44.974219\"/>\n      </g>\n     </g>\n     <g id=\"text_9\">\n      <!-- 5 -->\n      <g transform=\"translate(13.5625 48.773437)scale(0.1 -0.1)\">\n       <use xlink:href=\"#DejaVuSans-53\"/>\n      </g>\n     </g>\n    </g>\n    <g id=\"ytick_3\">\n     <g id=\"line2d_10\">\n      <g>\n       <use style=\"stroke:#000000;stroke-width:0.8;\" x=\"26.925\" xlink:href=\"#mb513d1bc7a\" y=\"78.949219\"/>\n      </g>\n     </g>\n     <g id=\"text_10\">\n      <!-- 10 -->\n      <g transform=\"translate(7.2 82.748437)scale(0.1 -0.1)\">\n       <use xlink:href=\"#DejaVuSans-49\"/>\n       <use x=\"63.623047\" xlink:href=\"#DejaVuSans-48\"/>\n      </g>\n     </g>\n    </g>\n    <g id=\"ytick_4\">\n     <g id=\"line2d_11\">\n      <g>\n       <use style=\"stroke:#000000;stroke-width:0.8;\" x=\"26.925\" xlink:href=\"#mb513d1bc7a\" y=\"112.924219\"/>\n      </g>\n     </g>\n     <g id=\"text_11\">\n      <!-- 15 -->\n      <g transform=\"translate(7.2 116.723437)scale(0.1 -0.1)\">\n       <use xlink:href=\"#DejaVuSans-49\"/>\n       <use x=\"63.623047\" xlink:href=\"#DejaVuSans-53\"/>\n      </g>\n     </g>\n    </g>\n    <g id=\"ytick_5\">\n     <g id=\"line2d_12\">\n      <g>\n       <use style=\"stroke:#000000;stroke-width:0.8;\" x=\"26.925\" xlink:href=\"#mb513d1bc7a\" y=\"146.899219\"/>\n      </g>\n     </g>\n     <g id=\"text_12\">\n      <!-- 20 -->\n      <g transform=\"translate(7.2 150.698437)scale(0.1 -0.1)\">\n       <use xlink:href=\"#DejaVuSans-50\"/>\n       <use x=\"63.623047\" xlink:href=\"#DejaVuSans-48\"/>\n      </g>\n     </g>\n    </g>\n    <g id=\"ytick_6\">\n     <g id=\"line2d_13\">\n      <g>\n       <use style=\"stroke:#000000;stroke-width:0.8;\" x=\"26.925\" xlink:href=\"#mb513d1bc7a\" y=\"180.874219\"/>\n      </g>\n     </g>\n     <g id=\"text_13\">\n      <!-- 25 -->\n      <g transform=\"translate(7.2 184.673437)scale(0.1 -0.1)\">\n       <use xlink:href=\"#DejaVuSans-50\"/>\n       <use x=\"63.623047\" xlink:href=\"#DejaVuSans-53\"/>\n      </g>\n     </g>\n    </g>\n    <g id=\"ytick_7\">\n     <g id=\"line2d_14\">\n      <g>\n       <use style=\"stroke:#000000;stroke-width:0.8;\" x=\"26.925\" xlink:href=\"#mb513d1bc7a\" y=\"214.849219\"/>\n      </g>\n     </g>\n     <g id=\"text_14\">\n      <!-- 30 -->\n      <g transform=\"translate(7.2 218.648437)scale(0.1 -0.1)\">\n       <use xlink:href=\"#DejaVuSans-51\"/>\n       <use x=\"63.623047\" xlink:href=\"#DejaVuSans-48\"/>\n      </g>\n     </g>\n    </g>\n   </g>\n   <g id=\"patch_3\">\n    <path d=\"M 26.925 225.041719 \nL 26.925 7.601719 \n\" style=\"fill:none;stroke:#000000;stroke-linecap:square;stroke-linejoin:miter;stroke-width:0.8;\"/>\n   </g>\n   <g id=\"patch_4\">\n    <path d=\"M 244.365 225.041719 \nL 244.365 7.601719 \n\" style=\"fill:none;stroke:#000000;stroke-linecap:square;stroke-linejoin:miter;stroke-width:0.8;\"/>\n   </g>\n   <g id=\"patch_5\">\n    <path d=\"M 26.925 225.041719 \nL 244.365 225.041719 \n\" style=\"fill:none;stroke:#000000;stroke-linecap:square;stroke-linejoin:miter;stroke-width:0.8;\"/>\n   </g>\n   <g id=\"patch_6\">\n    <path d=\"M 26.925 7.601719 \nL 244.365 7.601719 \n\" style=\"fill:none;stroke:#000000;stroke-linecap:square;stroke-linejoin:miter;stroke-width:0.8;\"/>\n   </g>\n  </g>\n </g>\n <defs>\n  <clipPath id=\"p7fc259db66\">\n   <rect height=\"217.44\" width=\"217.44\" x=\"26.925\" y=\"7.601719\"/>\n  </clipPath>\n </defs>\n</svg>\n",
      "image/png": "[encoded data removed]"
     },
     "metadata": {
      "needs_background": "light"
     }
    }
   ],
   "source": [
    "img, label = next(iter(testloader))\n",
    "predict = model(img)\n",
    "\n",
    "_, predicted_label = torch.max(predict, dim=1)\n",
    "\n",
    "print(classes[predicted_label.item()])\n",
    "\n",
    "plt.imshow(img.reshape(3, 32, 32).permute(1, 2, 0), cmap='gray')"
   ]
  },
  {
   "cell_type": "code",
   "execution_count": null,
   "metadata": {},
   "outputs": [],
   "source": []
  }
 ]
}