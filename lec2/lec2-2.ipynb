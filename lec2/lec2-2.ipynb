{
 "metadata": {
  "language_info": {
   "codemirror_mode": {
    "name": "ipython",
    "version": 3
   },
   "file_extension": ".py",
   "mimetype": "text/x-python",
   "name": "python",
   "nbconvert_exporter": "python",
   "pygments_lexer": "ipython3",
   "version": "3.7.6-final"
  },
  "orig_nbformat": 2,
  "kernelspec": {
   "name": "python3",
   "display_name": "Python 3.7.6 64-bit",
   "metadata": {
    "interpreter": {
     "hash": "aee8b7b246df8f9039afb4144a1f6fd8d2ca17a180786b69acc140d282b71a49"
    }
   }
  }
 },
 "nbformat": 4,
 "nbformat_minor": 2,
 "cells": [
  {
   "source": [
    "# CIFAR10"
   ],
   "cell_type": "markdown",
   "metadata": {}
  },
  {
   "source": [
    "## Package"
   ],
   "cell_type": "markdown",
   "metadata": {}
  },
  {
   "cell_type": "code",
   "execution_count": 1,
   "metadata": {},
   "outputs": [],
   "source": [
    "import torch\n",
    "import torch.nn as nn\n",
    "import torch.optim as optim\n",
    "from torchvision import datasets\n",
    "from torchvision import transforms\n",
    "from torch.utils.tensorboard import SummaryWriter\n",
    "import numpy as np\n",
    "import matplotlib.pyplot as plt\n",
    "\n"
   ]
  },
  {
   "source": [
    "## Data set"
   ],
   "cell_type": "markdown",
   "metadata": {}
  },
  {
   "cell_type": "code",
   "execution_count": 5,
   "metadata": {
    "tags": []
   },
   "outputs": [
    {
     "output_type": "stream",
     "name": "stdout",
     "text": [
      "50000\n"
     ]
    }
   ],
   "source": [
    "trainset = datasets.CIFAR10(root='data/cifar10_train', train=True, download=False, transform=transforms.ToTensor())\n",
    "trainloader = torch.utils.data.DataLoader(trainset, batch_size=1, shuffle=True)\n",
    "\n",
    "print(len(trainset))\n",
    "\n",
    "classes = ('plane', 'car', 'bird', 'cat', 'deer', 'dog', 'frog', 'horse', 'ship', 'truck')"
   ]
  },
  {
   "source": [
    "## Sample"
   ],
   "cell_type": "markdown",
   "metadata": {}
  },
  {
   "source": [
    "#img, label = trainset[np.random.randint(0, len(trainset)-1)]\n",
    "img, label = next(iter(trainloader))\n",
    "\n",
    "label"
   ],
   "cell_type": "code",
   "metadata": {},
   "execution_count": 6,
   "outputs": [
    {
     "output_type": "execute_result",
     "data": {
      "text/plain": [
       "tensor([2])"
      ]
     },
     "metadata": {},
     "execution_count": 6
    }
   ]
  },
  {
   "cell_type": "code",
   "execution_count": 7,
   "metadata": {},
   "outputs": [
    {
     "output_type": "execute_result",
     "data": {
      "text/plain": [
       "'bird'"
      ]
     },
     "metadata": {},
     "execution_count": 7
    }
   ],
   "source": [
    "classes[label.item()]"
   ]
  },
  {
   "cell_type": "code",
   "execution_count": 8,
   "metadata": {},
   "outputs": [
    {
     "output_type": "execute_result",
     "data": {
      "text/plain": [
       "torch.Size([1, 3, 32, 32])"
      ]
     },
     "metadata": {},
     "execution_count": 8
    }
   ],
   "source": [
    "img.size()"
   ]
  },
  {
   "cell_type": "code",
   "execution_count": 9,
   "metadata": {},
   "outputs": [
    {
     "output_type": "execute_result",
     "data": {
      "text/plain": [
       "<matplotlib.image.AxesImage at 0x123681e50>"
      ]
     },
     "metadata": {},
     "execution_count": 9
    },
    {
     "output_type": "display_data",
     "data": {
      "text/plain": "<Figure size 432x288 with 1 Axes>",
      "image/svg+xml": "<?xml version=\"1.0\" encoding=\"utf-8\" standalone=\"no\"?>\n<!DOCTYPE svg PUBLIC \"-//W3C//DTD SVG 1.1//EN\"\n  \"http://www.w3.org/Graphics/SVG/1.1/DTD/svg11.dtd\">\n<!-- Created with matplotlib (https://matplotlib.org/) -->\n<svg height=\"248.919844pt\" version=\"1.1\" viewBox=\"0 0 251.565 248.919844\" width=\"251.565pt\" xmlns=\"http://www.w3.org/2000/svg\" xmlns:xlink=\"http://www.w3.org/1999/xlink\">\n <defs>\n  <style type=\"text/css\">\n*{stroke-linecap:butt;stroke-linejoin:round;}\n  </style>\n </defs>\n <g id=\"figure_1\">\n  <g id=\"patch_1\">\n   <path d=\"M 0 248.919844 \nL 251.565 248.919844 \nL 251.565 0 \nL 0 0 \nz\n\" style=\"fill:none;\"/>\n  </g>\n  <g id=\"axes_1\">\n   <g id=\"patch_2\">\n    <path d=\"M 26.925 225.041719 \nL 244.365 225.041719 \nL 244.365 7.601719 \nL 26.925 7.601719 \nz\n\" style=\"fill:#ffffff;\"/>\n   </g>\n   <g clip-path=\"url(#p1b0c71cb6a)\">\n    <image height=\"218\" id=\"image53a5663c07\" transform=\"scale(1 -1)translate(0 -218)\" width=\"218\" x=\"26.925\" xlink:href=\"data:image/png;base64,\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\" y=\"-7.041719\"/>\n   </g>\n   <g id=\"matplotlib.axis_1\">\n    <g id=\"xtick_1\">\n     <g id=\"line2d_1\">\n      <defs>\n       <path d=\"M 0 0 \nL 0 3.5 \n\" id=\"md4e778379b\" style=\"stroke:#000000;stroke-width:0.8;\"/>\n      </defs>\n      <g>\n       <use style=\"stroke:#000000;stroke-width:0.8;\" x=\"30.3225\" xlink:href=\"#md4e778379b\" y=\"225.041719\"/>\n      </g>\n     </g>\n     <g id=\"text_1\">\n      <!-- 0 -->\n      <defs>\n       <path d=\"M 31.78125 66.40625 \nQ 24.171875 66.40625 20.328125 58.90625 \nQ 16.5 51.421875 16.5 36.375 \nQ 16.5 21.390625 20.328125 13.890625 \nQ 24.171875 6.390625 31.78125 6.390625 \nQ 39.453125 6.390625 43.28125 13.890625 \nQ 47.125 21.390625 47.125 36.375 \nQ 47.125 51.421875 43.28125 58.90625 \nQ 39.453125 66.40625 31.78125 66.40625 \nz\nM 31.78125 74.21875 \nQ 44.046875 74.21875 50.515625 64.515625 \nQ 56.984375 54.828125 56.984375 36.375 \nQ 56.984375 17.96875 50.515625 8.265625 \nQ 44.046875 -1.421875 31.78125 -1.421875 \nQ 19.53125 -1.421875 13.0625 8.265625 \nQ 6.59375 17.96875 6.59375 36.375 \nQ 6.59375 54.828125 13.0625 64.515625 \nQ 19.53125 74.21875 31.78125 74.21875 \nz\n\" id=\"DejaVuSans-48\"/>\n      </defs>\n      <g transform=\"translate(27.14125 239.640156)scale(0.1 -0.1)\">\n       <use xlink:href=\"#DejaVuSans-48\"/>\n      </g>\n     </g>\n    </g>\n    <g id=\"xtick_2\">\n     <g id=\"line2d_2\">\n      <g>\n       <use style=\"stroke:#000000;stroke-width:0.8;\" x=\"64.2975\" xlink:href=\"#md4e778379b\" y=\"225.041719\"/>\n      </g>\n     </g>\n     <g id=\"text_2\">\n      <!-- 5 -->\n      <defs>\n       <path d=\"M 10.796875 72.90625 \nL 49.515625 72.90625 \nL 49.515625 64.59375 \nL 19.828125 64.59375 \nL 19.828125 46.734375 \nQ 21.96875 47.46875 24.109375 47.828125 \nQ 26.265625 48.1875 28.421875 48.1875 \nQ 40.625 48.1875 47.75 41.5 \nQ 54.890625 34.8125 54.890625 23.390625 \nQ 54.890625 11.625 47.5625 5.09375 \nQ 40.234375 -1.421875 26.90625 -1.421875 \nQ 22.3125 -1.421875 17.546875 -0.640625 \nQ 12.796875 0.140625 7.71875 1.703125 \nL 7.71875 11.625 \nQ 12.109375 9.234375 16.796875 8.0625 \nQ 21.484375 6.890625 26.703125 6.890625 \nQ 35.15625 6.890625 40.078125 11.328125 \nQ 45.015625 15.765625 45.015625 23.390625 \nQ 45.015625 31 40.078125 35.4375 \nQ 35.15625 39.890625 26.703125 39.890625 \nQ 22.75 39.890625 18.8125 39.015625 \nQ 14.890625 38.140625 10.796875 36.28125 \nz\n\" id=\"DejaVuSans-53\"/>\n      </defs>\n      <g transform=\"translate(61.11625 239.640156)scale(0.1 -0.1)\">\n       <use xlink:href=\"#DejaVuSans-53\"/>\n      </g>\n     </g>\n    </g>\n    <g id=\"xtick_3\">\n     <g id=\"line2d_3\">\n      <g>\n       <use style=\"stroke:#000000;stroke-width:0.8;\" x=\"98.2725\" xlink:href=\"#md4e778379b\" y=\"225.041719\"/>\n      </g>\n     </g>\n     <g id=\"text_3\">\n      <!-- 10 -->\n      <defs>\n       <path d=\"M 12.40625 8.296875 \nL 28.515625 8.296875 \nL 28.515625 63.921875 \nL 10.984375 60.40625 \nL 10.984375 69.390625 \nL 28.421875 72.90625 \nL 38.28125 72.90625 \nL 38.28125 8.296875 \nL 54.390625 8.296875 \nL 54.390625 0 \nL 12.40625 0 \nz\n\" id=\"DejaVuSans-49\"/>\n      </defs>\n      <g transform=\"translate(91.91 239.640156)scale(0.1 -0.1)\">\n       <use xlink:href=\"#DejaVuSans-49\"/>\n       <use x=\"63.623047\" xlink:href=\"#DejaVuSans-48\"/>\n      </g>\n     </g>\n    </g>\n    <g id=\"xtick_4\">\n     <g id=\"line2d_4\">\n      <g>\n       <use style=\"stroke:#000000;stroke-width:0.8;\" x=\"132.2475\" xlink:href=\"#md4e778379b\" y=\"225.041719\"/>\n      </g>\n     </g>\n     <g id=\"text_4\">\n      <!-- 15 -->\n      <g transform=\"translate(125.885 239.640156)scale(0.1 -0.1)\">\n       <use xlink:href=\"#DejaVuSans-49\"/>\n       <use x=\"63.623047\" xlink:href=\"#DejaVuSans-53\"/>\n      </g>\n     </g>\n    </g>\n    <g id=\"xtick_5\">\n     <g id=\"line2d_5\">\n      <g>\n       <use style=\"stroke:#000000;stroke-width:0.8;\" x=\"166.2225\" xlink:href=\"#md4e778379b\" y=\"225.041719\"/>\n      </g>\n     </g>\n     <g id=\"text_5\">\n      <!-- 20 -->\n      <defs>\n       <path d=\"M 19.1875 8.296875 \nL 53.609375 8.296875 \nL 53.609375 0 \nL 7.328125 0 \nL 7.328125 8.296875 \nQ 12.9375 14.109375 22.625 23.890625 \nQ 32.328125 33.6875 34.8125 36.53125 \nQ 39.546875 41.84375 41.421875 45.53125 \nQ 43.3125 49.21875 43.3125 52.78125 \nQ 43.3125 58.59375 39.234375 62.25 \nQ 35.15625 65.921875 28.609375 65.921875 \nQ 23.96875 65.921875 18.8125 64.3125 \nQ 13.671875 62.703125 7.8125 59.421875 \nL 7.8125 69.390625 \nQ 13.765625 71.78125 18.9375 73 \nQ 24.125 74.21875 28.421875 74.21875 \nQ 39.75 74.21875 46.484375 68.546875 \nQ 53.21875 62.890625 53.21875 53.421875 \nQ 53.21875 48.921875 51.53125 44.890625 \nQ 49.859375 40.875 45.40625 35.40625 \nQ 44.1875 33.984375 37.640625 27.21875 \nQ 31.109375 20.453125 19.1875 8.296875 \nz\n\" id=\"DejaVuSans-50\"/>\n      </defs>\n      <g transform=\"translate(159.86 239.640156)scale(0.1 -0.1)\">\n       <use xlink:href=\"#DejaVuSans-50\"/>\n       <use x=\"63.623047\" xlink:href=\"#DejaVuSans-48\"/>\n      </g>\n     </g>\n    </g>\n    <g id=\"xtick_6\">\n     <g id=\"line2d_6\">\n      <g>\n       <use style=\"stroke:#000000;stroke-width:0.8;\" x=\"200.1975\" xlink:href=\"#md4e778379b\" y=\"225.041719\"/>\n      </g>\n     </g>\n     <g id=\"text_6\">\n      <!-- 25 -->\n      <g transform=\"translate(193.835 239.640156)scale(0.1 -0.1)\">\n       <use xlink:href=\"#DejaVuSans-50\"/>\n       <use x=\"63.623047\" xlink:href=\"#DejaVuSans-53\"/>\n      </g>\n     </g>\n    </g>\n    <g id=\"xtick_7\">\n     <g id=\"line2d_7\">\n      <g>\n       <use style=\"stroke:#000000;stroke-width:0.8;\" x=\"234.1725\" xlink:href=\"#md4e778379b\" y=\"225.041719\"/>\n      </g>\n     </g>\n     <g id=\"text_7\">\n      <!-- 30 -->\n      <defs>\n       <path d=\"M 40.578125 39.3125 \nQ 47.65625 37.796875 51.625 33 \nQ 55.609375 28.21875 55.609375 21.1875 \nQ 55.609375 10.40625 48.1875 4.484375 \nQ 40.765625 -1.421875 27.09375 -1.421875 \nQ 22.515625 -1.421875 17.65625 -0.515625 \nQ 12.796875 0.390625 7.625 2.203125 \nL 7.625 11.71875 \nQ 11.71875 9.328125 16.59375 8.109375 \nQ 21.484375 6.890625 26.8125 6.890625 \nQ 36.078125 6.890625 40.9375 10.546875 \nQ 45.796875 14.203125 45.796875 21.1875 \nQ 45.796875 27.640625 41.28125 31.265625 \nQ 36.765625 34.90625 28.71875 34.90625 \nL 20.21875 34.90625 \nL 20.21875 43.015625 \nL 29.109375 43.015625 \nQ 36.375 43.015625 40.234375 45.921875 \nQ 44.09375 48.828125 44.09375 54.296875 \nQ 44.09375 59.90625 40.109375 62.90625 \nQ 36.140625 65.921875 28.71875 65.921875 \nQ 24.65625 65.921875 20.015625 65.03125 \nQ 15.375 64.15625 9.8125 62.3125 \nL 9.8125 71.09375 \nQ 15.4375 72.65625 20.34375 73.4375 \nQ 25.25 74.21875 29.59375 74.21875 \nQ 40.828125 74.21875 47.359375 69.109375 \nQ 53.90625 64.015625 53.90625 55.328125 \nQ 53.90625 49.265625 50.4375 45.09375 \nQ 46.96875 40.921875 40.578125 39.3125 \nz\n\" id=\"DejaVuSans-51\"/>\n      </defs>\n      <g transform=\"translate(227.81 239.640156)scale(0.1 -0.1)\">\n       <use xlink:href=\"#DejaVuSans-51\"/>\n       <use x=\"63.623047\" xlink:href=\"#DejaVuSans-48\"/>\n      </g>\n     </g>\n    </g>\n   </g>\n   <g id=\"matplotlib.axis_2\">\n    <g id=\"ytick_1\">\n     <g id=\"line2d_8\">\n      <defs>\n       <path d=\"M 0 0 \nL -3.5 0 \n\" id=\"mcd0d1b8fb9\" style=\"stroke:#000000;stroke-width:0.8;\"/>\n      </defs>\n      <g>\n       <use style=\"stroke:#000000;stroke-width:0.8;\" x=\"26.925\" xlink:href=\"#mcd0d1b8fb9\" y=\"10.999219\"/>\n      </g>\n     </g>\n     <g id=\"text_8\">\n      <!-- 0 -->\n      <g transform=\"translate(13.5625 14.798437)scale(0.1 -0.1)\">\n       <use xlink:href=\"#DejaVuSans-48\"/>\n      </g>\n     </g>\n    </g>\n    <g id=\"ytick_2\">\n     <g id=\"line2d_9\">\n      <g>\n       <use style=\"stroke:#000000;stroke-width:0.8;\" x=\"26.925\" xlink:href=\"#mcd0d1b8fb9\" y=\"44.974219\"/>\n      </g>\n     </g>\n     <g id=\"text_9\">\n      <!-- 5 -->\n      <g transform=\"translate(13.5625 48.773437)scale(0.1 -0.1)\">\n       <use xlink:href=\"#DejaVuSans-53\"/>\n      </g>\n     </g>\n    </g>\n    <g id=\"ytick_3\">\n     <g id=\"line2d_10\">\n      <g>\n       <use style=\"stroke:#000000;stroke-width:0.8;\" x=\"26.925\" xlink:href=\"#mcd0d1b8fb9\" y=\"78.949219\"/>\n      </g>\n     </g>\n     <g id=\"text_10\">\n      <!-- 10 -->\n      <g transform=\"translate(7.2 82.748437)scale(0.1 -0.1)\">\n       <use xlink:href=\"#DejaVuSans-49\"/>\n       <use x=\"63.623047\" xlink:href=\"#DejaVuSans-48\"/>\n      </g>\n     </g>\n    </g>\n    <g id=\"ytick_4\">\n     <g id=\"line2d_11\">\n      <g>\n       <use style=\"stroke:#000000;stroke-width:0.8;\" x=\"26.925\" xlink:href=\"#mcd0d1b8fb9\" y=\"112.924219\"/>\n      </g>\n     </g>\n     <g id=\"text_11\">\n      <!-- 15 -->\n      <g transform=\"translate(7.2 116.723437)scale(0.1 -0.1)\">\n       <use xlink:href=\"#DejaVuSans-49\"/>\n       <use x=\"63.623047\" xlink:href=\"#DejaVuSans-53\"/>\n      </g>\n     </g>\n    </g>\n    <g id=\"ytick_5\">\n     <g id=\"line2d_12\">\n      <g>\n       <use style=\"stroke:#000000;stroke-width:0.8;\" x=\"26.925\" xlink:href=\"#mcd0d1b8fb9\" y=\"146.899219\"/>\n      </g>\n     </g>\n     <g id=\"text_12\">\n      <!-- 20 -->\n      <g transform=\"translate(7.2 150.698437)scale(0.1 -0.1)\">\n       <use xlink:href=\"#DejaVuSans-50\"/>\n       <use x=\"63.623047\" xlink:href=\"#DejaVuSans-48\"/>\n      </g>\n     </g>\n    </g>\n    <g id=\"ytick_6\">\n     <g id=\"line2d_13\">\n      <g>\n       <use style=\"stroke:#000000;stroke-width:0.8;\" x=\"26.925\" xlink:href=\"#mcd0d1b8fb9\" y=\"180.874219\"/>\n      </g>\n     </g>\n     <g id=\"text_13\">\n      <!-- 25 -->\n      <g transform=\"translate(7.2 184.673437)scale(0.1 -0.1)\">\n       <use xlink:href=\"#DejaVuSans-50\"/>\n       <use x=\"63.623047\" xlink:href=\"#DejaVuSans-53\"/>\n      </g>\n     </g>\n    </g>\n    <g id=\"ytick_7\">\n     <g id=\"line2d_14\">\n      <g>\n       <use style=\"stroke:#000000;stroke-width:0.8;\" x=\"26.925\" xlink:href=\"#mcd0d1b8fb9\" y=\"214.849219\"/>\n      </g>\n     </g>\n     <g id=\"text_14\">\n      <!-- 30 -->\n      <g transform=\"translate(7.2 218.648437)scale(0.1 -0.1)\">\n       <use xlink:href=\"#DejaVuSans-51\"/>\n       <use x=\"63.623047\" xlink:href=\"#DejaVuSans-48\"/>\n      </g>\n     </g>\n    </g>\n   </g>\n   <g id=\"patch_3\">\n    <path d=\"M 26.925 225.041719 \nL 26.925 7.601719 \n\" style=\"fill:none;stroke:#000000;stroke-linecap:square;stroke-linejoin:miter;stroke-width:0.8;\"/>\n   </g>\n   <g id=\"patch_4\">\n    <path d=\"M 244.365 225.041719 \nL 244.365 7.601719 \n\" style=\"fill:none;stroke:#000000;stroke-linecap:square;stroke-linejoin:miter;stroke-width:0.8;\"/>\n   </g>\n   <g id=\"patch_5\">\n    <path d=\"M 26.925 225.041719 \nL 244.365 225.041719 \n\" style=\"fill:none;stroke:#000000;stroke-linecap:square;stroke-linejoin:miter;stroke-width:0.8;\"/>\n   </g>\n   <g id=\"patch_6\">\n    <path d=\"M 26.925 7.601719 \nL 244.365 7.601719 \n\" style=\"fill:none;stroke:#000000;stroke-linecap:square;stroke-linejoin:miter;stroke-width:0.8;\"/>\n   </g>\n  </g>\n </g>\n <defs>\n  <clipPath id=\"p1b0c71cb6a\">\n   <rect height=\"217.44\" width=\"217.44\" x=\"26.925\" y=\"7.601719\"/>\n  </clipPath>\n </defs>\n</svg>\n",
      "image/png": "[encoded data removed]"
     },
     "metadata": {
      "needs_background": "light"
     }
    }
   ],
   "source": [
    "plt.imshow(img.reshape(3, 32, 32).permute(1, 2, 0), cmap='gray')"
   ]
  },
  {
   "source": [
    "## Model"
   ],
   "cell_type": "markdown",
   "metadata": {}
  },
  {
   "cell_type": "code",
   "execution_count": 10,
   "metadata": {},
   "outputs": [],
   "source": [
    "\n",
    "model = nn.Sequential(\n",
    "        nn.Conv2d(3, 6, 5),\n",
    "        nn.ReLU(),\n",
    "        nn.MaxPool2d(2),\n",
    "        nn.Conv2d(6, 16, 5),\n",
    "        nn.ReLU(),\n",
    "        nn.MaxPool2d(2),\n",
    "        nn.Flatten(), # ???\n",
    "        nn.Linear(16 * 5 * 5, 120), # ???\n",
    "        nn.ReLU(),\n",
    "        nn.Linear(120, 84),\n",
    "        nn.ReLU(),\n",
    "        nn.Linear(84, 10))\n",
    "\n"
   ]
  },
  {
   "cell_type": "code",
   "execution_count": 11,
   "metadata": {},
   "outputs": [
    {
     "output_type": "stream",
     "name": "stdout",
     "text": [
      "tensor([[ 0.0997, -0.0648,  0.1023, -0.0537,  0.0327, -0.0134, -0.0204, -0.0782,\n         -0.0222, -0.0037]], grad_fn=<AddmmBackward>)\n"
     ]
    }
   ],
   "source": [
    "predict = model(img)\n",
    "\n",
    "print(predict)\n"
   ]
  },
  {
   "source": [
    "## Loss"
   ],
   "cell_type": "markdown",
   "metadata": {}
  },
  {
   "source": [
    "### Cross Entropy"
   ],
   "cell_type": "markdown",
   "metadata": {}
  },
  {
   "cell_type": "code",
   "execution_count": 12,
   "metadata": {},
   "outputs": [
    {
     "output_type": "execute_result",
     "data": {
      "text/plain": [
       "tensor(2.1999, grad_fn=<NllLossBackward>)"
      ]
     },
     "metadata": {},
     "execution_count": 12
    }
   ],
   "source": [
    "criterion = nn.CrossEntropyLoss()\n",
    "\n",
    "criterion(predict, label)"
   ]
  },
  {
   "source": [
    "## Train"
   ],
   "cell_type": "markdown",
   "metadata": {}
  },
  {
   "source": [
    "### Data loader"
   ],
   "cell_type": "markdown",
   "metadata": {}
  },
  {
   "cell_type": "code",
   "execution_count": 14,
   "metadata": {},
   "outputs": [],
   "source": [
    "batch_sz = 500\n",
    "trainloader = torch.utils.data.DataLoader(trainset, batch_size=batch_sz, shuffle=True)"
   ]
  },
  {
   "source": [
    "### Learn rate"
   ],
   "cell_type": "markdown",
   "metadata": {}
  },
  {
   "cell_type": "code",
   "execution_count": 19,
   "metadata": {},
   "outputs": [],
   "source": [
    "learning_rate = 0.1"
   ]
  },
  {
   "source": [
    "### Optimizer"
   ],
   "cell_type": "markdown",
   "metadata": {}
  },
  {
   "cell_type": "code",
   "execution_count": 20,
   "metadata": {},
   "outputs": [],
   "source": [
    "optimizer = optim.SGD(model.parameters(), lr=learning_rate, momentum=0.1)"
   ]
  },
  {
   "source": [
    "### Batch training"
   ],
   "cell_type": "markdown",
   "metadata": {}
  },
  {
   "cell_type": "code",
   "execution_count": 32,
   "metadata": {},
   "outputs": [
    {
     "output_type": "stream",
     "name": "stdout",
     "text": [
      "Epoch: 0, Loss: 162.583969\n",
      "Epoch: 1, Loss: 158.774780\n",
      "Epoch: 2, Loss: 155.761444\n",
      "Epoch: 3, Loss: 153.029984\n",
      "Epoch: 4, Loss: 151.689636\n",
      "Epoch: 5, Loss: 146.895615\n",
      "Epoch: 6, Loss: 145.494400\n",
      "Epoch: 7, Loss: 143.174698\n",
      "Epoch: 8, Loss: 140.498428\n",
      "Epoch: 9, Loss: 138.803253\n"
     ]
    }
   ],
   "source": [
    "!rm -rf runs\n",
    "writer = SummaryWriter('runs/cifar10')\n",
    "\n",
    "n_epochs = 10\n",
    "for epoch in range(n_epochs):\n",
    "    epoch_loss = 0\n",
    "    for _, data in enumerate(trainloader):\n",
    "        imgs, labels = data\n",
    "        predicts = model(imgs)\n",
    "        curr_loss = criterion(predicts, labels)\n",
    "    \n",
    "        optimizer.zero_grad()\n",
    "        curr_loss.backward()\n",
    "        optimizer.step()\n",
    "        \n",
    "        epoch_loss += curr_loss\n",
    "    writer.add_scalar(\"Loss/train\", epoch_loss, epoch)\n",
    "    print(\"Epoch: %d, Loss: %f\" % (epoch, float(epoch_loss)))"
   ]
  },
  {
   "cell_type": "code",
   "execution_count": 33,
   "metadata": {},
   "outputs": [],
   "source": [
    "img, _ = next(iter(trainloader))\n",
    "writer.add_graph(model, img)\n",
    "writer.flush()\n",
    "writer.close()"
   ]
  },
  {
   "cell_type": "code",
   "execution_count": null,
   "metadata": {},
   "outputs": [],
   "source": [
    "!tensorboard --logdir=runs/cifar10"
   ]
  },
  {
   "source": [
    "## Test accuracy"
   ],
   "cell_type": "markdown",
   "metadata": {}
  },
  {
   "source": [
    "### Test set"
   ],
   "cell_type": "markdown",
   "metadata": {}
  },
  {
   "cell_type": "code",
   "execution_count": 28,
   "metadata": {},
   "outputs": [],
   "source": [
    "testset = datasets.CIFAR10(root='data/cifar10_test', train=False, download=False, transform=transforms.ToTensor())\n",
    "testloader = torch.utils.data.DataLoader(testset, batch_size=1, shuffle=True)"
   ]
  },
  {
   "cell_type": "code",
   "execution_count": 31,
   "metadata": {},
   "outputs": [
    {
     "output_type": "stream",
     "name": "stdout",
     "text": [
      "bird\n"
     ]
    },
    {
     "output_type": "execute_result",
     "data": {
      "text/plain": [
       "<matplotlib.image.AxesImage at 0x1324d7e10>"
      ]
     },
     "metadata": {},
     "execution_count": 31
    },
    {
     "output_type": "display_data",
     "data": {
      "text/plain": "<Figure size 432x288 with 1 Axes>",
      "image/svg+xml": "<?xml version=\"1.0\" encoding=\"utf-8\" standalone=\"no\"?>\n<!DOCTYPE svg PUBLIC \"-//W3C//DTD SVG 1.1//EN\"\n  \"http://www.w3.org/Graphics/SVG/1.1/DTD/svg11.dtd\">\n<!-- Created with matplotlib (https://matplotlib.org/) -->\n<svg height=\"248.919844pt\" version=\"1.1\" viewBox=\"0 0 251.565 248.919844\" width=\"251.565pt\" xmlns=\"http://www.w3.org/2000/svg\" xmlns:xlink=\"http://www.w3.org/1999/xlink\">\n <defs>\n  <style type=\"text/css\">\n*{stroke-linecap:butt;stroke-linejoin:round;}\n  </style>\n </defs>\n <g id=\"figure_1\">\n  <g id=\"patch_1\">\n   <path d=\"M 0 248.919844 \nL 251.565 248.919844 \nL 251.565 0 \nL 0 0 \nz\n\" style=\"fill:none;\"/>\n  </g>\n  <g id=\"axes_1\">\n   <g id=\"patch_2\">\n    <path d=\"M 26.925 225.041719 \nL 244.365 225.041719 \nL 244.365 7.601719 \nL 26.925 7.601719 \nz\n\" style=\"fill:#ffffff;\"/>\n   </g>\n   <g clip-path=\"url(#p465663619d)\">\n    <image height=\"218\" id=\"image6f8bfe124e\" transform=\"scale(1 -1)translate(0 -218)\" width=\"218\" x=\"26.925\" xlink:href=\"data:image/png;base64,\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\" y=\"-7.041719\"/>\n   </g>\n   <g id=\"matplotlib.axis_1\">\n    <g id=\"xtick_1\">\n     <g id=\"line2d_1\">\n      <defs>\n       <path d=\"M 0 0 \nL 0 3.5 \n\" id=\"m00fb080555\" style=\"stroke:#000000;stroke-width:0.8;\"/>\n      </defs>\n      <g>\n       <use style=\"stroke:#000000;stroke-width:0.8;\" x=\"30.3225\" xlink:href=\"#m00fb080555\" y=\"225.041719\"/>\n      </g>\n     </g>\n     <g id=\"text_1\">\n      <!-- 0 -->\n      <defs>\n       <path d=\"M 31.78125 66.40625 \nQ 24.171875 66.40625 20.328125 58.90625 \nQ 16.5 51.421875 16.5 36.375 \nQ 16.5 21.390625 20.328125 13.890625 \nQ 24.171875 6.390625 31.78125 6.390625 \nQ 39.453125 6.390625 43.28125 13.890625 \nQ 47.125 21.390625 47.125 36.375 \nQ 47.125 51.421875 43.28125 58.90625 \nQ 39.453125 66.40625 31.78125 66.40625 \nz\nM 31.78125 74.21875 \nQ 44.046875 74.21875 50.515625 64.515625 \nQ 56.984375 54.828125 56.984375 36.375 \nQ 56.984375 17.96875 50.515625 8.265625 \nQ 44.046875 -1.421875 31.78125 -1.421875 \nQ 19.53125 -1.421875 13.0625 8.265625 \nQ 6.59375 17.96875 6.59375 36.375 \nQ 6.59375 54.828125 13.0625 64.515625 \nQ 19.53125 74.21875 31.78125 74.21875 \nz\n\" id=\"DejaVuSans-48\"/>\n      </defs>\n      <g transform=\"translate(27.14125 239.640156)scale(0.1 -0.1)\">\n       <use xlink:href=\"#DejaVuSans-48\"/>\n      </g>\n     </g>\n    </g>\n    <g id=\"xtick_2\">\n     <g id=\"line2d_2\">\n      <g>\n       <use style=\"stroke:#000000;stroke-width:0.8;\" x=\"64.2975\" xlink:href=\"#m00fb080555\" y=\"225.041719\"/>\n      </g>\n     </g>\n     <g id=\"text_2\">\n      <!-- 5 -->\n      <defs>\n       <path d=\"M 10.796875 72.90625 \nL 49.515625 72.90625 \nL 49.515625 64.59375 \nL 19.828125 64.59375 \nL 19.828125 46.734375 \nQ 21.96875 47.46875 24.109375 47.828125 \nQ 26.265625 48.1875 28.421875 48.1875 \nQ 40.625 48.1875 47.75 41.5 \nQ 54.890625 34.8125 54.890625 23.390625 \nQ 54.890625 11.625 47.5625 5.09375 \nQ 40.234375 -1.421875 26.90625 -1.421875 \nQ 22.3125 -1.421875 17.546875 -0.640625 \nQ 12.796875 0.140625 7.71875 1.703125 \nL 7.71875 11.625 \nQ 12.109375 9.234375 16.796875 8.0625 \nQ 21.484375 6.890625 26.703125 6.890625 \nQ 35.15625 6.890625 40.078125 11.328125 \nQ 45.015625 15.765625 45.015625 23.390625 \nQ 45.015625 31 40.078125 35.4375 \nQ 35.15625 39.890625 26.703125 39.890625 \nQ 22.75 39.890625 18.8125 39.015625 \nQ 14.890625 38.140625 10.796875 36.28125 \nz\n\" id=\"DejaVuSans-53\"/>\n      </defs>\n      <g transform=\"translate(61.11625 239.640156)scale(0.1 -0.1)\">\n       <use xlink:href=\"#DejaVuSans-53\"/>\n      </g>\n     </g>\n    </g>\n    <g id=\"xtick_3\">\n     <g id=\"line2d_3\">\n      <g>\n       <use style=\"stroke:#000000;stroke-width:0.8;\" x=\"98.2725\" xlink:href=\"#m00fb080555\" y=\"225.041719\"/>\n      </g>\n     </g>\n     <g id=\"text_3\">\n      <!-- 10 -->\n      <defs>\n       <path d=\"M 12.40625 8.296875 \nL 28.515625 8.296875 \nL 28.515625 63.921875 \nL 10.984375 60.40625 \nL 10.984375 69.390625 \nL 28.421875 72.90625 \nL 38.28125 72.90625 \nL 38.28125 8.296875 \nL 54.390625 8.296875 \nL 54.390625 0 \nL 12.40625 0 \nz\n\" id=\"DejaVuSans-49\"/>\n      </defs>\n      <g transform=\"translate(91.91 239.640156)scale(0.1 -0.1)\">\n       <use xlink:href=\"#DejaVuSans-49\"/>\n       <use x=\"63.623047\" xlink:href=\"#DejaVuSans-48\"/>\n      </g>\n     </g>\n    </g>\n    <g id=\"xtick_4\">\n     <g id=\"line2d_4\">\n      <g>\n       <use style=\"stroke:#000000;stroke-width:0.8;\" x=\"132.2475\" xlink:href=\"#m00fb080555\" y=\"225.041719\"/>\n      </g>\n     </g>\n     <g id=\"text_4\">\n      <!-- 15 -->\n      <g transform=\"translate(125.885 239.640156)scale(0.1 -0.1)\">\n       <use xlink:href=\"#DejaVuSans-49\"/>\n       <use x=\"63.623047\" xlink:href=\"#DejaVuSans-53\"/>\n      </g>\n     </g>\n    </g>\n    <g id=\"xtick_5\">\n     <g id=\"line2d_5\">\n      <g>\n       <use style=\"stroke:#000000;stroke-width:0.8;\" x=\"166.2225\" xlink:href=\"#m00fb080555\" y=\"225.041719\"/>\n      </g>\n     </g>\n     <g id=\"text_5\">\n      <!-- 20 -->\n      <defs>\n       <path d=\"M 19.1875 8.296875 \nL 53.609375 8.296875 \nL 53.609375 0 \nL 7.328125 0 \nL 7.328125 8.296875 \nQ 12.9375 14.109375 22.625 23.890625 \nQ 32.328125 33.6875 34.8125 36.53125 \nQ 39.546875 41.84375 41.421875 45.53125 \nQ 43.3125 49.21875 43.3125 52.78125 \nQ 43.3125 58.59375 39.234375 62.25 \nQ 35.15625 65.921875 28.609375 65.921875 \nQ 23.96875 65.921875 18.8125 64.3125 \nQ 13.671875 62.703125 7.8125 59.421875 \nL 7.8125 69.390625 \nQ 13.765625 71.78125 18.9375 73 \nQ 24.125 74.21875 28.421875 74.21875 \nQ 39.75 74.21875 46.484375 68.546875 \nQ 53.21875 62.890625 53.21875 53.421875 \nQ 53.21875 48.921875 51.53125 44.890625 \nQ 49.859375 40.875 45.40625 35.40625 \nQ 44.1875 33.984375 37.640625 27.21875 \nQ 31.109375 20.453125 19.1875 8.296875 \nz\n\" id=\"DejaVuSans-50\"/>\n      </defs>\n      <g transform=\"translate(159.86 239.640156)scale(0.1 -0.1)\">\n       <use xlink:href=\"#DejaVuSans-50\"/>\n       <use x=\"63.623047\" xlink:href=\"#DejaVuSans-48\"/>\n      </g>\n     </g>\n    </g>\n    <g id=\"xtick_6\">\n     <g id=\"line2d_6\">\n      <g>\n       <use style=\"stroke:#000000;stroke-width:0.8;\" x=\"200.1975\" xlink:href=\"#m00fb080555\" y=\"225.041719\"/>\n      </g>\n     </g>\n     <g id=\"text_6\">\n      <!-- 25 -->\n      <g transform=\"translate(193.835 239.640156)scale(0.1 -0.1)\">\n       <use xlink:href=\"#DejaVuSans-50\"/>\n       <use x=\"63.623047\" xlink:href=\"#DejaVuSans-53\"/>\n      </g>\n     </g>\n    </g>\n    <g id=\"xtick_7\">\n     <g id=\"line2d_7\">\n      <g>\n       <use style=\"stroke:#000000;stroke-width:0.8;\" x=\"234.1725\" xlink:href=\"#m00fb080555\" y=\"225.041719\"/>\n      </g>\n     </g>\n     <g id=\"text_7\">\n      <!-- 30 -->\n      <defs>\n       <path d=\"M 40.578125 39.3125 \nQ 47.65625 37.796875 51.625 33 \nQ 55.609375 28.21875 55.609375 21.1875 \nQ 55.609375 10.40625 48.1875 4.484375 \nQ 40.765625 -1.421875 27.09375 -1.421875 \nQ 22.515625 -1.421875 17.65625 -0.515625 \nQ 12.796875 0.390625 7.625 2.203125 \nL 7.625 11.71875 \nQ 11.71875 9.328125 16.59375 8.109375 \nQ 21.484375 6.890625 26.8125 6.890625 \nQ 36.078125 6.890625 40.9375 10.546875 \nQ 45.796875 14.203125 45.796875 21.1875 \nQ 45.796875 27.640625 41.28125 31.265625 \nQ 36.765625 34.90625 28.71875 34.90625 \nL 20.21875 34.90625 \nL 20.21875 43.015625 \nL 29.109375 43.015625 \nQ 36.375 43.015625 40.234375 45.921875 \nQ 44.09375 48.828125 44.09375 54.296875 \nQ 44.09375 59.90625 40.109375 62.90625 \nQ 36.140625 65.921875 28.71875 65.921875 \nQ 24.65625 65.921875 20.015625 65.03125 \nQ 15.375 64.15625 9.8125 62.3125 \nL 9.8125 71.09375 \nQ 15.4375 72.65625 20.34375 73.4375 \nQ 25.25 74.21875 29.59375 74.21875 \nQ 40.828125 74.21875 47.359375 69.109375 \nQ 53.90625 64.015625 53.90625 55.328125 \nQ 53.90625 49.265625 50.4375 45.09375 \nQ 46.96875 40.921875 40.578125 39.3125 \nz\n\" id=\"DejaVuSans-51\"/>\n      </defs>\n      <g transform=\"translate(227.81 239.640156)scale(0.1 -0.1)\">\n       <use xlink:href=\"#DejaVuSans-51\"/>\n       <use x=\"63.623047\" xlink:href=\"#DejaVuSans-48\"/>\n      </g>\n     </g>\n    </g>\n   </g>\n   <g id=\"matplotlib.axis_2\">\n    <g id=\"ytick_1\">\n     <g id=\"line2d_8\">\n      <defs>\n       <path d=\"M 0 0 \nL -3.5 0 \n\" id=\"m2a2ceb28fc\" style=\"stroke:#000000;stroke-width:0.8;\"/>\n      </defs>\n      <g>\n       <use style=\"stroke:#000000;stroke-width:0.8;\" x=\"26.925\" xlink:href=\"#m2a2ceb28fc\" y=\"10.999219\"/>\n      </g>\n     </g>\n     <g id=\"text_8\">\n      <!-- 0 -->\n      <g transform=\"translate(13.5625 14.798437)scale(0.1 -0.1)\">\n       <use xlink:href=\"#DejaVuSans-48\"/>\n      </g>\n     </g>\n    </g>\n    <g id=\"ytick_2\">\n     <g id=\"line2d_9\">\n      <g>\n       <use style=\"stroke:#000000;stroke-width:0.8;\" x=\"26.925\" xlink:href=\"#m2a2ceb28fc\" y=\"44.974219\"/>\n      </g>\n     </g>\n     <g id=\"text_9\">\n      <!-- 5 -->\n      <g transform=\"translate(13.5625 48.773437)scale(0.1 -0.1)\">\n       <use xlink:href=\"#DejaVuSans-53\"/>\n      </g>\n     </g>\n    </g>\n    <g id=\"ytick_3\">\n     <g id=\"line2d_10\">\n      <g>\n       <use style=\"stroke:#000000;stroke-width:0.8;\" x=\"26.925\" xlink:href=\"#m2a2ceb28fc\" y=\"78.949219\"/>\n      </g>\n     </g>\n     <g id=\"text_10\">\n      <!-- 10 -->\n      <g transform=\"translate(7.2 82.748437)scale(0.1 -0.1)\">\n       <use xlink:href=\"#DejaVuSans-49\"/>\n       <use x=\"63.623047\" xlink:href=\"#DejaVuSans-48\"/>\n      </g>\n     </g>\n    </g>\n    <g id=\"ytick_4\">\n     <g id=\"line2d_11\">\n      <g>\n       <use style=\"stroke:#000000;stroke-width:0.8;\" x=\"26.925\" xlink:href=\"#m2a2ceb28fc\" y=\"112.924219\"/>\n      </g>\n     </g>\n     <g id=\"text_11\">\n      <!-- 15 -->\n      <g transform=\"translate(7.2 116.723437)scale(0.1 -0.1)\">\n       <use xlink:href=\"#DejaVuSans-49\"/>\n       <use x=\"63.623047\" xlink:href=\"#DejaVuSans-53\"/>\n      </g>\n     </g>\n    </g>\n    <g id=\"ytick_5\">\n     <g id=\"line2d_12\">\n      <g>\n       <use style=\"stroke:#000000;stroke-width:0.8;\" x=\"26.925\" xlink:href=\"#m2a2ceb28fc\" y=\"146.899219\"/>\n      </g>\n     </g>\n     <g id=\"text_12\">\n      <!-- 20 -->\n      <g transform=\"translate(7.2 150.698437)scale(0.1 -0.1)\">\n       <use xlink:href=\"#DejaVuSans-50\"/>\n       <use x=\"63.623047\" xlink:href=\"#DejaVuSans-48\"/>\n      </g>\n     </g>\n    </g>\n    <g id=\"ytick_6\">\n     <g id=\"line2d_13\">\n      <g>\n       <use style=\"stroke:#000000;stroke-width:0.8;\" x=\"26.925\" xlink:href=\"#m2a2ceb28fc\" y=\"180.874219\"/>\n      </g>\n     </g>\n     <g id=\"text_13\">\n      <!-- 25 -->\n      <g transform=\"translate(7.2 184.673437)scale(0.1 -0.1)\">\n       <use xlink:href=\"#DejaVuSans-50\"/>\n       <use x=\"63.623047\" xlink:href=\"#DejaVuSans-53\"/>\n      </g>\n     </g>\n    </g>\n    <g id=\"ytick_7\">\n     <g id=\"line2d_14\">\n      <g>\n       <use style=\"stroke:#000000;stroke-width:0.8;\" x=\"26.925\" xlink:href=\"#m2a2ceb28fc\" y=\"214.849219\"/>\n      </g>\n     </g>\n     <g id=\"text_14\">\n      <!-- 30 -->\n      <g transform=\"translate(7.2 218.648437)scale(0.1 -0.1)\">\n       <use xlink:href=\"#DejaVuSans-51\"/>\n       <use x=\"63.623047\" xlink:href=\"#DejaVuSans-48\"/>\n      </g>\n     </g>\n    </g>\n   </g>\n   <g id=\"patch_3\">\n    <path d=\"M 26.925 225.041719 \nL 26.925 7.601719 \n\" style=\"fill:none;stroke:#000000;stroke-linecap:square;stroke-linejoin:miter;stroke-width:0.8;\"/>\n   </g>\n   <g id=\"patch_4\">\n    <path d=\"M 244.365 225.041719 \nL 244.365 7.601719 \n\" style=\"fill:none;stroke:#000000;stroke-linecap:square;stroke-linejoin:miter;stroke-width:0.8;\"/>\n   </g>\n   <g id=\"patch_5\">\n    <path d=\"M 26.925 225.041719 \nL 244.365 225.041719 \n\" style=\"fill:none;stroke:#000000;stroke-linecap:square;stroke-linejoin:miter;stroke-width:0.8;\"/>\n   </g>\n   <g id=\"patch_6\">\n    <path d=\"M 26.925 7.601719 \nL 244.365 7.601719 \n\" style=\"fill:none;stroke:#000000;stroke-linecap:square;stroke-linejoin:miter;stroke-width:0.8;\"/>\n   </g>\n  </g>\n </g>\n <defs>\n  <clipPath id=\"p465663619d\">\n   <rect height=\"217.44\" width=\"217.44\" x=\"26.925\" y=\"7.601719\"/>\n  </clipPath>\n </defs>\n</svg>\n",
      "image/png": "[encoded data removed]"
     },
     "metadata": {
      "needs_background": "light"
     }
    }
   ],
   "source": [
    "img, label = next(iter(testloader))\n",
    "predict = model(img)\n",
    "\n",
    "_, predicted_label = torch.max(predict, dim=1)\n",
    "\n",
    "print(classes[predicted_label.item()])\n",
    "\n",
    "plt.imshow(img.reshape(3, 32, 32).permute(1, 2, 0), cmap='gray')"
   ]
  }
 ]
}