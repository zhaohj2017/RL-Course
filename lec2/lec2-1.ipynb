{
 "metadata": {
  "language_info": {
   "codemirror_mode": {
    "name": "ipython",
    "version": 3
   },
   "file_extension": ".py",
   "mimetype": "text/x-python",
   "name": "python",
   "nbconvert_exporter": "python",
   "pygments_lexer": "ipython3",
   "version": "3.7.6-final"
  },
  "orig_nbformat": 2,
  "kernelspec": {
   "name": "python3",
   "display_name": "Python 3.7.6 64-bit",
   "metadata": {
    "interpreter": {
     "hash": "aee8b7b246df8f9039afb4144a1f6fd8d2ca17a180786b69acc140d282b71a49"
    }
   }
  }
 },
 "nbformat": 4,
 "nbformat_minor": 2,
 "cells": [
  {
   "source": [
    "# MNIST"
   ],
   "cell_type": "markdown",
   "metadata": {}
  },
  {
   "source": [
    "## Package"
   ],
   "cell_type": "markdown",
   "metadata": {}
  },
  {
   "cell_type": "code",
   "execution_count": 2,
   "metadata": {},
   "outputs": [],
   "source": [
    "import torch\n",
    "import torch.nn as nn\n",
    "from torchvision import datasets\n",
    "from torchvision import transforms\n",
    "import numpy as np\n",
    "import matplotlib.pyplot as plt\n",
    "from torch.utils.tensorboard import SummaryWriter\n",
    "import torch.optim as optim"
   ]
  },
  {
   "source": [
    "## Data set"
   ],
   "cell_type": "markdown",
   "metadata": {}
  },
  {
   "cell_type": "code",
   "execution_count": 3,
   "metadata": {},
   "outputs": [
    {
     "output_type": "execute_result",
     "data": {
      "text/plain": [
       "60000"
      ]
     },
     "metadata": {},
     "execution_count": 3
    }
   ],
   "source": [
    "traindata = datasets.MNIST('data/mnist_train', train=True, download=False, transform=transforms.ToTensor()) # download = True to download\n",
    "\n",
    "len(traindata)"
   ]
  },
  {
   "source": [
    "## Sample"
   ],
   "cell_type": "markdown",
   "metadata": {}
  },
  {
   "source": [
    "img, label = traindata[np.random.randint(0,60000-1)]\n",
    "print(label)"
   ],
   "cell_type": "code",
   "metadata": {},
   "execution_count": 4,
   "outputs": [
    {
     "output_type": "stream",
     "name": "stdout",
     "text": [
      "8\n"
     ]
    }
   ]
  },
  {
   "cell_type": "code",
   "execution_count": 5,
   "metadata": {},
   "outputs": [
    {
     "output_type": "stream",
     "name": "stdout",
     "text": [
      "tensor([[[0.0000, 0.0000, 0.0000, 0.0000, 0.0000, 0.0000, 0.0000, 0.0000,\n          0.0000, 0.0000, 0.0000, 0.0000, 0.0000, 0.0000, 0.0000, 0.0000,\n          0.0000, 0.0000, 0.0000, 0.0000, 0.0000, 0.0000, 0.0000, 0.0000,\n          0.0000, 0.0000, 0.0000, 0.0000],\n         [0.0000, 0.0000, 0.0000, 0.0000, 0.0000, 0.0000, 0.0000, 0.0000,\n          0.0000, 0.0000, 0.0000, 0.0000, 0.0000, 0.0000, 0.0000, 0.0000,\n          0.0000, 0.0000, 0.0000, 0.0000, 0.0000, 0.0000, 0.0000, 0.0000,\n          0.0000, 0.0000, 0.0000, 0.0000],\n         [0.0000, 0.0000, 0.0000, 0.0000, 0.0000, 0.0000, 0.0000, 0.0000,\n          0.0000, 0.0000, 0.0000, 0.0000, 0.0000, 0.0000, 0.0000, 0.0000,\n          0.0000, 0.0000, 0.0000, 0.0000, 0.0000, 0.0000, 0.0000, 0.0000,\n          0.0000, 0.0000, 0.0000, 0.0000],\n         [0.0000, 0.0000, 0.0000, 0.0000, 0.0000, 0.0000, 0.0000, 0.0000,\n          0.0000, 0.0000, 0.0000, 0.0000, 0.0000, 0.0000, 0.0000, 0.0000,\n          0.0000, 0.0000, 0.0000, 0.0000, 0.0000, 0.0000, 0.0000, 0.0000,\n          0.0000, 0.0000, 0.0000, 0.0000],\n         [0.0000, 0.0000, 0.0000, 0.0000, 0.0000, 0.0000, 0.0000, 0.0000,\n          0.0000, 0.0000, 0.0000, 0.0000, 0.0000, 0.0000, 0.0000, 0.0000,\n          0.0000, 0.0000, 0.0000, 0.0000, 0.0000, 0.0000, 0.0000, 0.0000,\n          0.0000, 0.0000, 0.0000, 0.0000],\n         [0.0000, 0.0000, 0.0000, 0.0000, 0.0000, 0.0000, 0.0000, 0.0000,\n          0.0000, 0.0000, 0.0000, 0.0353, 0.1882, 0.5216, 0.7059, 0.7922,\n          0.7490, 0.9804, 0.5686, 0.7020, 0.4275, 0.0000, 0.0000, 0.0000,\n          0.0000, 0.0000, 0.0000, 0.0000],\n         [0.0000, 0.0000, 0.0000, 0.0000, 0.0000, 0.0000, 0.0000, 0.0000,\n          0.0118, 0.1647, 0.5686, 0.8745, 0.9922, 0.9922, 0.9922, 0.9922,\n          0.9922, 0.9961, 0.9922, 0.9922, 0.9137, 0.4588, 0.0235, 0.2392,\n          0.3922, 0.0980, 0.0078, 0.0000],\n         [0.0000, 0.0000, 0.0000, 0.0000, 0.0000, 0.0000, 0.0000, 0.0000,\n          0.3922, 0.9922, 0.9922, 0.9922, 0.9922, 0.9922, 0.9922, 0.9922,\n          0.9922, 0.9961, 0.9922, 0.9922, 0.9922, 0.9922, 0.7059, 0.9216,\n          0.9922, 0.9922, 0.1137, 0.0000],\n         [0.0000, 0.0000, 0.0000, 0.0000, 0.0000, 0.0000, 0.0000, 0.0353,\n          0.8549, 0.9922, 0.9922, 0.9922, 0.9373, 0.6431, 0.3294, 0.3294,\n          0.3294, 0.3333, 0.3765, 0.9216, 0.9922, 0.9922, 0.9922, 0.9922,\n          0.9922, 0.9922, 0.2941, 0.0000],\n         [0.0000, 0.0000, 0.0000, 0.0000, 0.0000, 0.0000, 0.0000, 0.1647,\n          0.9922, 0.9922, 0.9490, 0.6431, 0.2039, 0.0000, 0.0000, 0.0000,\n          0.0000, 0.0000, 0.0235, 0.7059, 0.9922, 0.9922, 0.9922, 0.9922,\n          0.9922, 0.9922, 0.4078, 0.0000],\n         [0.0000, 0.0000, 0.0000, 0.0000, 0.0000, 0.0000, 0.0000, 0.5216,\n          0.9922, 0.9922, 0.8039, 0.0000, 0.0000, 0.0000, 0.0000, 0.0000,\n          0.0000, 0.1529, 0.5804, 0.9922, 0.9922, 0.9922, 0.9922, 0.6000,\n          0.2353, 0.2353, 0.0118, 0.0000],\n         [0.0000, 0.0000, 0.0000, 0.0000, 0.0000, 0.0000, 0.0000, 0.5216,\n          0.9922, 0.9922, 0.8667, 0.0941, 0.0000, 0.0000, 0.0000, 0.1451,\n          0.7882, 0.9098, 0.9922, 0.9922, 0.9922, 0.9137, 0.5216, 0.0353,\n          0.0000, 0.0000, 0.0000, 0.0000],\n         [0.0000, 0.0000, 0.0000, 0.0000, 0.0000, 0.0000, 0.0000, 0.3451,\n          0.9922, 0.9922, 0.9922, 0.7804, 0.0902, 0.0000, 0.7373, 0.9137,\n          0.9922, 0.9961, 0.9922, 0.9922, 0.6471, 0.1059, 0.0000, 0.0000,\n          0.0000, 0.0000, 0.0000, 0.0000],\n         [0.0000, 0.0000, 0.0000, 0.0000, 0.0000, 0.0000, 0.0000, 0.0510,\n          0.9922, 0.9922, 0.9922, 0.9922, 0.5608, 0.8157, 0.9804, 0.9922,\n          0.9922, 0.9961, 0.7490, 0.5020, 0.0314, 0.0000, 0.0000, 0.0000,\n          0.0000, 0.0000, 0.0000, 0.0000],\n         [0.0000, 0.0000, 0.0000, 0.0000, 0.0000, 0.0000, 0.0000, 0.0039,\n          0.3647, 0.9922, 0.9922, 0.7647, 0.7686, 0.9922, 0.9922, 0.9922,\n          0.5373, 0.0431, 0.0196, 0.0000, 0.0000, 0.0000, 0.0000, 0.0000,\n          0.0000, 0.0000, 0.0000, 0.0000],\n         [0.0000, 0.0000, 0.0000, 0.0000, 0.0000, 0.0000, 0.0000, 0.0000,\n          0.0510, 0.8196, 1.0000, 0.9961, 0.9961, 0.9961, 0.9804, 0.3176,\n          0.0000, 0.0000, 0.0000, 0.0000, 0.0000, 0.0000, 0.0000, 0.0000,\n          0.0000, 0.0000, 0.0000, 0.0000],\n         [0.0000, 0.0000, 0.0000, 0.0000, 0.0000, 0.0000, 0.0000, 0.0000,\n          0.0431, 0.7765, 0.9922, 0.9922, 0.9922, 0.9922, 0.8314, 0.3686,\n          0.0078, 0.0000, 0.0000, 0.0000, 0.0000, 0.0000, 0.0000, 0.0000,\n          0.0000, 0.0000, 0.0000, 0.0000],\n         [0.0000, 0.0000, 0.0000, 0.0000, 0.0000, 0.0000, 0.0000, 0.0314,\n          0.6157, 0.8510, 0.9922, 0.9922, 0.9922, 0.9922, 0.9922, 0.9922,\n          0.1137, 0.0000, 0.0000, 0.0000, 0.0000, 0.0000, 0.0000, 0.0000,\n          0.0000, 0.0000, 0.0000, 0.0000],\n         [0.0000, 0.0000, 0.0000, 0.0000, 0.0000, 0.0000, 0.0000, 0.3686,\n          0.9922, 0.9922, 0.9922, 0.7412, 0.3294, 0.8706, 0.9922, 0.9922,\n          0.8353, 0.3216, 0.0000, 0.0000, 0.0000, 0.0000, 0.0000, 0.0000,\n          0.0000, 0.0000, 0.0000, 0.0000],\n         [0.0000, 0.0000, 0.0000, 0.0000, 0.0000, 0.0000, 0.0000, 0.5216,\n          0.9922, 0.9922, 0.8353, 0.2157, 0.0000, 0.2314, 0.8941, 0.9922,\n          0.9922, 0.4784, 0.0000, 0.0000, 0.0000, 0.0000, 0.0000, 0.0000,\n          0.0000, 0.0000, 0.0000, 0.0000],\n         [0.0000, 0.0000, 0.0000, 0.0000, 0.0000, 0.0000, 0.0000, 0.2980,\n          0.9922, 0.9922, 0.7451, 0.0824, 0.0000, 0.0000, 0.2039, 0.9255,\n          0.9922, 0.8392, 0.0000, 0.0000, 0.0000, 0.0000, 0.0000, 0.0000,\n          0.0000, 0.0000, 0.0000, 0.0000],\n         [0.0000, 0.0000, 0.0000, 0.0000, 0.0000, 0.0000, 0.0000, 0.5216,\n          0.9922, 0.9922, 0.9922, 0.5176, 0.2392, 0.1137, 0.5137, 0.9765,\n          0.9922, 0.9490, 0.0000, 0.0000, 0.0000, 0.0000, 0.0000, 0.0000,\n          0.0000, 0.0000, 0.0000, 0.0000],\n         [0.0000, 0.0000, 0.0000, 0.0000, 0.0000, 0.0000, 0.0000, 0.5216,\n          0.9922, 0.9922, 0.9922, 0.9922, 0.9529, 0.9020, 0.9922, 0.9922,\n          0.9922, 0.7686, 0.0000, 0.0000, 0.0000, 0.0000, 0.0000, 0.0000,\n          0.0000, 0.0000, 0.0000, 0.0000],\n         [0.0000, 0.0000, 0.0000, 0.0000, 0.0000, 0.0000, 0.0000, 0.3020,\n          0.8118, 0.9922, 0.9922, 0.9922, 0.9922, 0.9922, 0.9922, 0.9922,\n          0.9922, 0.2745, 0.0000, 0.0000, 0.0000, 0.0000, 0.0000, 0.0000,\n          0.0000, 0.0000, 0.0000, 0.0000],\n         [0.0000, 0.0000, 0.0000, 0.0000, 0.0000, 0.0000, 0.0000, 0.0000,\n          0.0275, 0.3412, 0.5176, 0.5176, 0.8824, 0.9922, 0.9922, 0.5608,\n          0.2941, 0.0000, 0.0000, 0.0000, 0.0000, 0.0000, 0.0000, 0.0000,\n          0.0000, 0.0000, 0.0000, 0.0000],\n         [0.0000, 0.0000, 0.0000, 0.0000, 0.0000, 0.0000, 0.0000, 0.0000,\n          0.0000, 0.0000, 0.0000, 0.0000, 0.0000, 0.0000, 0.0000, 0.0000,\n          0.0000, 0.0000, 0.0000, 0.0000, 0.0000, 0.0000, 0.0000, 0.0000,\n          0.0000, 0.0000, 0.0000, 0.0000],\n         [0.0000, 0.0000, 0.0000, 0.0000, 0.0000, 0.0000, 0.0000, 0.0000,\n          0.0000, 0.0000, 0.0000, 0.0000, 0.0000, 0.0000, 0.0000, 0.0000,\n          0.0000, 0.0000, 0.0000, 0.0000, 0.0000, 0.0000, 0.0000, 0.0000,\n          0.0000, 0.0000, 0.0000, 0.0000],\n         [0.0000, 0.0000, 0.0000, 0.0000, 0.0000, 0.0000, 0.0000, 0.0000,\n          0.0000, 0.0000, 0.0000, 0.0000, 0.0000, 0.0000, 0.0000, 0.0000,\n          0.0000, 0.0000, 0.0000, 0.0000, 0.0000, 0.0000, 0.0000, 0.0000,\n          0.0000, 0.0000, 0.0000, 0.0000]]])\n"
     ]
    }
   ],
   "source": [
    "print(img)"
   ]
  },
  {
   "cell_type": "code",
   "execution_count": 6,
   "metadata": {},
   "outputs": [
    {
     "output_type": "execute_result",
     "data": {
      "text/plain": [
       "torch.Size([1, 28, 28])"
      ]
     },
     "metadata": {},
     "execution_count": 6
    }
   ],
   "source": [
    "img.size()"
   ]
  },
  {
   "cell_type": "code",
   "execution_count": 7,
   "metadata": {},
   "outputs": [
    {
     "output_type": "execute_result",
     "data": {
      "text/plain": [
       "<matplotlib.image.AxesImage at 0x122ca64d0>"
      ]
     },
     "metadata": {},
     "execution_count": 7
    },
    {
     "output_type": "display_data",
     "data": {
      "text/plain": "<Figure size 432x288 with 1 Axes>",
      "image/svg+xml": "<?xml version=\"1.0\" encoding=\"utf-8\" standalone=\"no\"?>\n<!DOCTYPE svg PUBLIC \"-//W3C//DTD SVG 1.1//EN\"\n  \"http://www.w3.org/Graphics/SVG/1.1/DTD/svg11.dtd\">\n<!-- Created with matplotlib (https://matplotlib.org/) -->\n<svg height=\"248.518125pt\" version=\"1.1\" viewBox=\"0 0 251.565 248.518125\" width=\"251.565pt\" xmlns=\"http://www.w3.org/2000/svg\" xmlns:xlink=\"http://www.w3.org/1999/xlink\">\n <defs>\n  <style type=\"text/css\">\n*{stroke-linecap:butt;stroke-linejoin:round;}\n  </style>\n </defs>\n <g id=\"figure_1\">\n  <g id=\"patch_1\">\n   <path d=\"M 0 248.518125 \nL 251.565 248.518125 \nL 251.565 0 \nL 0 0 \nz\n\" style=\"fill:none;\"/>\n  </g>\n  <g id=\"axes_1\">\n   <g id=\"patch_2\">\n    <path d=\"M 26.925 224.64 \nL 244.365 224.64 \nL 244.365 7.2 \nL 26.925 7.2 \nz\n\" style=\"fill:#ffffff;\"/>\n   </g>\n   <g clip-path=\"url(#pcb4632d016)\">\n    <image height=\"218\" id=\"imagec3c302a13e\" transform=\"scale(1 -1)translate(0 -218)\" width=\"218\" x=\"26.925\" xlink:href=\"data:image/png;base64,\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\" y=\"-6.64\"/>\n   </g>\n   <g id=\"matplotlib.axis_1\">\n    <g id=\"xtick_1\">\n     <g id=\"line2d_1\">\n      <defs>\n       <path d=\"M 0 0 \nL 0 3.5 \n\" id=\"m9eab7deb34\" style=\"stroke:#000000;stroke-width:0.8;\"/>\n      </defs>\n      <g>\n       <use style=\"stroke:#000000;stroke-width:0.8;\" x=\"30.807857\" xlink:href=\"#m9eab7deb34\" y=\"224.64\"/>\n      </g>\n     </g>\n     <g id=\"text_1\">\n      <!-- 0 -->\n      <defs>\n       <path d=\"M 31.78125 66.40625 \nQ 24.171875 66.40625 20.328125 58.90625 \nQ 16.5 51.421875 16.5 36.375 \nQ 16.5 21.390625 20.328125 13.890625 \nQ 24.171875 6.390625 31.78125 6.390625 \nQ 39.453125 6.390625 43.28125 13.890625 \nQ 47.125 21.390625 47.125 36.375 \nQ 47.125 51.421875 43.28125 58.90625 \nQ 39.453125 66.40625 31.78125 66.40625 \nz\nM 31.78125 74.21875 \nQ 44.046875 74.21875 50.515625 64.515625 \nQ 56.984375 54.828125 56.984375 36.375 \nQ 56.984375 17.96875 50.515625 8.265625 \nQ 44.046875 -1.421875 31.78125 -1.421875 \nQ 19.53125 -1.421875 13.0625 8.265625 \nQ 6.59375 17.96875 6.59375 36.375 \nQ 6.59375 54.828125 13.0625 64.515625 \nQ 19.53125 74.21875 31.78125 74.21875 \nz\n\" id=\"DejaVuSans-48\"/>\n      </defs>\n      <g transform=\"translate(27.626607 239.238437)scale(0.1 -0.1)\">\n       <use xlink:href=\"#DejaVuSans-48\"/>\n      </g>\n     </g>\n    </g>\n    <g id=\"xtick_2\">\n     <g id=\"line2d_2\">\n      <g>\n       <use style=\"stroke:#000000;stroke-width:0.8;\" x=\"69.636429\" xlink:href=\"#m9eab7deb34\" y=\"224.64\"/>\n      </g>\n     </g>\n     <g id=\"text_2\">\n      <!-- 5 -->\n      <defs>\n       <path d=\"M 10.796875 72.90625 \nL 49.515625 72.90625 \nL 49.515625 64.59375 \nL 19.828125 64.59375 \nL 19.828125 46.734375 \nQ 21.96875 47.46875 24.109375 47.828125 \nQ 26.265625 48.1875 28.421875 48.1875 \nQ 40.625 48.1875 47.75 41.5 \nQ 54.890625 34.8125 54.890625 23.390625 \nQ 54.890625 11.625 47.5625 5.09375 \nQ 40.234375 -1.421875 26.90625 -1.421875 \nQ 22.3125 -1.421875 17.546875 -0.640625 \nQ 12.796875 0.140625 7.71875 1.703125 \nL 7.71875 11.625 \nQ 12.109375 9.234375 16.796875 8.0625 \nQ 21.484375 6.890625 26.703125 6.890625 \nQ 35.15625 6.890625 40.078125 11.328125 \nQ 45.015625 15.765625 45.015625 23.390625 \nQ 45.015625 31 40.078125 35.4375 \nQ 35.15625 39.890625 26.703125 39.890625 \nQ 22.75 39.890625 18.8125 39.015625 \nQ 14.890625 38.140625 10.796875 36.28125 \nz\n\" id=\"DejaVuSans-53\"/>\n      </defs>\n      <g transform=\"translate(66.455179 239.238437)scale(0.1 -0.1)\">\n       <use xlink:href=\"#DejaVuSans-53\"/>\n      </g>\n     </g>\n    </g>\n    <g id=\"xtick_3\">\n     <g id=\"line2d_3\">\n      <g>\n       <use style=\"stroke:#000000;stroke-width:0.8;\" x=\"108.465\" xlink:href=\"#m9eab7deb34\" y=\"224.64\"/>\n      </g>\n     </g>\n     <g id=\"text_3\">\n      <!-- 10 -->\n      <defs>\n       <path d=\"M 12.40625 8.296875 \nL 28.515625 8.296875 \nL 28.515625 63.921875 \nL 10.984375 60.40625 \nL 10.984375 69.390625 \nL 28.421875 72.90625 \nL 38.28125 72.90625 \nL 38.28125 8.296875 \nL 54.390625 8.296875 \nL 54.390625 0 \nL 12.40625 0 \nz\n\" id=\"DejaVuSans-49\"/>\n      </defs>\n      <g transform=\"translate(102.1025 239.238437)scale(0.1 -0.1)\">\n       <use xlink:href=\"#DejaVuSans-49\"/>\n       <use x=\"63.623047\" xlink:href=\"#DejaVuSans-48\"/>\n      </g>\n     </g>\n    </g>\n    <g id=\"xtick_4\">\n     <g id=\"line2d_4\">\n      <g>\n       <use style=\"stroke:#000000;stroke-width:0.8;\" x=\"147.293571\" xlink:href=\"#m9eab7deb34\" y=\"224.64\"/>\n      </g>\n     </g>\n     <g id=\"text_4\">\n      <!-- 15 -->\n      <g transform=\"translate(140.931071 239.238437)scale(0.1 -0.1)\">\n       <use xlink:href=\"#DejaVuSans-49\"/>\n       <use x=\"63.623047\" xlink:href=\"#DejaVuSans-53\"/>\n      </g>\n     </g>\n    </g>\n    <g id=\"xtick_5\">\n     <g id=\"line2d_5\">\n      <g>\n       <use style=\"stroke:#000000;stroke-width:0.8;\" x=\"186.122143\" xlink:href=\"#m9eab7deb34\" y=\"224.64\"/>\n      </g>\n     </g>\n     <g id=\"text_5\">\n      <!-- 20 -->\n      <defs>\n       <path d=\"M 19.1875 8.296875 \nL 53.609375 8.296875 \nL 53.609375 0 \nL 7.328125 0 \nL 7.328125 8.296875 \nQ 12.9375 14.109375 22.625 23.890625 \nQ 32.328125 33.6875 34.8125 36.53125 \nQ 39.546875 41.84375 41.421875 45.53125 \nQ 43.3125 49.21875 43.3125 52.78125 \nQ 43.3125 58.59375 39.234375 62.25 \nQ 35.15625 65.921875 28.609375 65.921875 \nQ 23.96875 65.921875 18.8125 64.3125 \nQ 13.671875 62.703125 7.8125 59.421875 \nL 7.8125 69.390625 \nQ 13.765625 71.78125 18.9375 73 \nQ 24.125 74.21875 28.421875 74.21875 \nQ 39.75 74.21875 46.484375 68.546875 \nQ 53.21875 62.890625 53.21875 53.421875 \nQ 53.21875 48.921875 51.53125 44.890625 \nQ 49.859375 40.875 45.40625 35.40625 \nQ 44.1875 33.984375 37.640625 27.21875 \nQ 31.109375 20.453125 19.1875 8.296875 \nz\n\" id=\"DejaVuSans-50\"/>\n      </defs>\n      <g transform=\"translate(179.759643 239.238437)scale(0.1 -0.1)\">\n       <use xlink:href=\"#DejaVuSans-50\"/>\n       <use x=\"63.623047\" xlink:href=\"#DejaVuSans-48\"/>\n      </g>\n     </g>\n    </g>\n    <g id=\"xtick_6\">\n     <g id=\"line2d_6\">\n      <g>\n       <use style=\"stroke:#000000;stroke-width:0.8;\" x=\"224.950714\" xlink:href=\"#m9eab7deb34\" y=\"224.64\"/>\n      </g>\n     </g>\n     <g id=\"text_6\">\n      <!-- 25 -->\n      <g transform=\"translate(218.588214 239.238437)scale(0.1 -0.1)\">\n       <use xlink:href=\"#DejaVuSans-50\"/>\n       <use x=\"63.623047\" xlink:href=\"#DejaVuSans-53\"/>\n      </g>\n     </g>\n    </g>\n   </g>\n   <g id=\"matplotlib.axis_2\">\n    <g id=\"ytick_1\">\n     <g id=\"line2d_7\">\n      <defs>\n       <path d=\"M 0 0 \nL -3.5 0 \n\" id=\"m2f59de5522\" style=\"stroke:#000000;stroke-width:0.8;\"/>\n      </defs>\n      <g>\n       <use style=\"stroke:#000000;stroke-width:0.8;\" x=\"26.925\" xlink:href=\"#m2f59de5522\" y=\"11.082857\"/>\n      </g>\n     </g>\n     <g id=\"text_7\">\n      <!-- 0 -->\n      <g transform=\"translate(13.5625 14.882076)scale(0.1 -0.1)\">\n       <use xlink:href=\"#DejaVuSans-48\"/>\n      </g>\n     </g>\n    </g>\n    <g id=\"ytick_2\">\n     <g id=\"line2d_8\">\n      <g>\n       <use style=\"stroke:#000000;stroke-width:0.8;\" x=\"26.925\" xlink:href=\"#m2f59de5522\" y=\"49.911429\"/>\n      </g>\n     </g>\n     <g id=\"text_8\">\n      <!-- 5 -->\n      <g transform=\"translate(13.5625 53.710647)scale(0.1 -0.1)\">\n       <use xlink:href=\"#DejaVuSans-53\"/>\n      </g>\n     </g>\n    </g>\n    <g id=\"ytick_3\">\n     <g id=\"line2d_9\">\n      <g>\n       <use style=\"stroke:#000000;stroke-width:0.8;\" x=\"26.925\" xlink:href=\"#m2f59de5522\" y=\"88.74\"/>\n      </g>\n     </g>\n     <g id=\"text_9\">\n      <!-- 10 -->\n      <g transform=\"translate(7.2 92.539219)scale(0.1 -0.1)\">\n       <use xlink:href=\"#DejaVuSans-49\"/>\n       <use x=\"63.623047\" xlink:href=\"#DejaVuSans-48\"/>\n      </g>\n     </g>\n    </g>\n    <g id=\"ytick_4\">\n     <g id=\"line2d_10\">\n      <g>\n       <use style=\"stroke:#000000;stroke-width:0.8;\" x=\"26.925\" xlink:href=\"#m2f59de5522\" y=\"127.568571\"/>\n      </g>\n     </g>\n     <g id=\"text_10\">\n      <!-- 15 -->\n      <g transform=\"translate(7.2 131.36779)scale(0.1 -0.1)\">\n       <use xlink:href=\"#DejaVuSans-49\"/>\n       <use x=\"63.623047\" xlink:href=\"#DejaVuSans-53\"/>\n      </g>\n     </g>\n    </g>\n    <g id=\"ytick_5\">\n     <g id=\"line2d_11\">\n      <g>\n       <use style=\"stroke:#000000;stroke-width:0.8;\" x=\"26.925\" xlink:href=\"#m2f59de5522\" y=\"166.397143\"/>\n      </g>\n     </g>\n     <g id=\"text_11\">\n      <!-- 20 -->\n      <g transform=\"translate(7.2 170.196362)scale(0.1 -0.1)\">\n       <use xlink:href=\"#DejaVuSans-50\"/>\n       <use x=\"63.623047\" xlink:href=\"#DejaVuSans-48\"/>\n      </g>\n     </g>\n    </g>\n    <g id=\"ytick_6\">\n     <g id=\"line2d_12\">\n      <g>\n       <use style=\"stroke:#000000;stroke-width:0.8;\" x=\"26.925\" xlink:href=\"#m2f59de5522\" y=\"205.225714\"/>\n      </g>\n     </g>\n     <g id=\"text_12\">\n      <!-- 25 -->\n      <g transform=\"translate(7.2 209.024933)scale(0.1 -0.1)\">\n       <use xlink:href=\"#DejaVuSans-50\"/>\n       <use x=\"63.623047\" xlink:href=\"#DejaVuSans-53\"/>\n      </g>\n     </g>\n    </g>\n   </g>\n   <g id=\"patch_3\">\n    <path d=\"M 26.925 224.64 \nL 26.925 7.2 \n\" style=\"fill:none;stroke:#000000;stroke-linecap:square;stroke-linejoin:miter;stroke-width:0.8;\"/>\n   </g>\n   <g id=\"patch_4\">\n    <path d=\"M 244.365 224.64 \nL 244.365 7.2 \n\" style=\"fill:none;stroke:#000000;stroke-linecap:square;stroke-linejoin:miter;stroke-width:0.8;\"/>\n   </g>\n   <g id=\"patch_5\">\n    <path d=\"M 26.925 224.64 \nL 244.365 224.64 \n\" style=\"fill:none;stroke:#000000;stroke-linecap:square;stroke-linejoin:miter;stroke-width:0.8;\"/>\n   </g>\n   <g id=\"patch_6\">\n    <path d=\"M 26.925 7.2 \nL 244.365 7.2 \n\" style=\"fill:none;stroke:#000000;stroke-linecap:square;stroke-linejoin:miter;stroke-width:0.8;\"/>\n   </g>\n  </g>\n </g>\n <defs>\n  <clipPath id=\"pcb4632d016\">\n   <rect height=\"217.44\" width=\"217.44\" x=\"26.925\" y=\"7.2\"/>\n  </clipPath>\n </defs>\n</svg>\n",
      "image/png": "[encoded data removed]"
     },
     "metadata": {
      "needs_background": "light"
     }
    }
   ],
   "source": [
    "plt.imshow(img.reshape(28,28), cmap='gray')"
   ]
  },
  {
   "cell_type": "code",
   "execution_count": 8,
   "metadata": {},
   "outputs": [
    {
     "output_type": "execute_result",
     "data": {
      "text/plain": [
       "torch.Size([1, 784])"
      ]
     },
     "metadata": {},
     "execution_count": 8
    }
   ],
   "source": [
    "\n",
    "img_train = img.view(-1).unsqueeze(0)\n",
    "img_train.size()"
   ]
  },
  {
   "source": [
    "## Model"
   ],
   "cell_type": "markdown",
   "metadata": {}
  },
  {
   "cell_type": "code",
   "execution_count": 11,
   "metadata": {},
   "outputs": [],
   "source": [
    "\n",
    "model = nn.Sequential(\n",
    "        nn.Linear(784, 100),\n",
    "        nn.ReLU(),\n",
    "        nn.Linear(100, 10),\n",
    "        nn.ReLU(),\n",
    "        nn.Softmax(dim=1))\n",
    "\n"
   ]
  },
  {
   "cell_type": "code",
   "execution_count": 12,
   "metadata": {},
   "outputs": [
    {
     "output_type": "stream",
     "name": "stdout",
     "text": [
      "tensor([[0.0990, 0.0953, 0.1106, 0.0953, 0.0953, 0.0953, 0.1010, 0.0953, 0.1176,\n         0.0953]], grad_fn=<SoftmaxBackward>)\n"
     ]
    },
    {
     "output_type": "execute_result",
     "data": {
      "text/plain": [
       "torch.Size([1, 10])"
      ]
     },
     "metadata": {},
     "execution_count": 12
    }
   ],
   "source": [
    "predict = model(img_train)\n",
    "\n",
    "print(predict)\n",
    "\n",
    "predict.size()"
   ]
  },
  {
   "source": [
    "## Loss"
   ],
   "cell_type": "markdown",
   "metadata": {}
  },
  {
   "source": [
    "### one-hot encoding"
   ],
   "cell_type": "markdown",
   "metadata": {}
  },
  {
   "cell_type": "code",
   "execution_count": 13,
   "metadata": {},
   "outputs": [
    {
     "output_type": "execute_result",
     "data": {
      "text/plain": [
       "(8, tensor([[0., 0., 0., 0., 0., 0., 0., 0., 1., 0.]]), torch.Size([1, 10]))"
      ]
     },
     "metadata": {},
     "execution_count": 13
    }
   ],
   "source": [
    "label_one_hot = torch.zeros(10).scatter_(0, torch.tensor(label), 1.0).unsqueeze(0)\n",
    "\n",
    "label, label_one_hot, label_one_hot.size()"
   ]
  },
  {
   "source": [
    "### Mean square loss"
   ],
   "cell_type": "markdown",
   "metadata": {}
  },
  {
   "cell_type": "code",
   "execution_count": 14,
   "metadata": {},
   "outputs": [
    {
     "output_type": "execute_result",
     "data": {
      "text/plain": [
       "tensor(0.0865, grad_fn=<MseLossBackward>)"
      ]
     },
     "metadata": {},
     "execution_count": 14
    }
   ],
   "source": [
    "loss = torch.nn.MSELoss()\n",
    "\n",
    "loss(predict, label_one_hot)"
   ]
  },
  {
   "source": [
    "## Train"
   ],
   "cell_type": "markdown",
   "metadata": {}
  },
  {
   "source": [
    "### Data loader"
   ],
   "cell_type": "markdown",
   "metadata": {}
  },
  {
   "cell_type": "code",
   "execution_count": 15,
   "metadata": {},
   "outputs": [],
   "source": [
    "batch_sz = 600\n",
    "train_loader = torch.utils.data.DataLoader(traindata, batch_size=batch_sz, shuffle=True)\n",
    "\n",
    "#img, label = next(iter(train_loader))"
   ]
  },
  {
   "source": [
    "### Learn rate"
   ],
   "cell_type": "markdown",
   "metadata": {}
  },
  {
   "cell_type": "code",
   "execution_count": 16,
   "metadata": {},
   "outputs": [],
   "source": [
    "learning_rate = 0.5"
   ]
  },
  {
   "source": [
    "### Optimizer"
   ],
   "cell_type": "markdown",
   "metadata": {}
  },
  {
   "cell_type": "code",
   "execution_count": 17,
   "metadata": {},
   "outputs": [],
   "source": [
    "optimizer = optim.SGD(model.parameters(), lr=learning_rate)"
   ]
  },
  {
   "source": [
    "### Batch training"
   ],
   "cell_type": "markdown",
   "metadata": {}
  },
  {
   "cell_type": "code",
   "execution_count": 18,
   "metadata": {},
   "outputs": [
    {
     "output_type": "stream",
     "name": "stdout",
     "text": [
      "Epoch: 0, Loss: 8.892522\n",
      "Epoch: 1, Loss: 8.330291\n",
      "Epoch: 2, Loss: 7.150600\n",
      "Epoch: 3, Loss: 5.739855\n",
      "Epoch: 4, Loss: 4.695155\n",
      "Epoch: 5, Loss: 3.956642\n",
      "Epoch: 6, Loss: 3.526677\n",
      "Epoch: 7, Loss: 3.265595\n",
      "Epoch: 8, Loss: 3.089252\n",
      "Epoch: 9, Loss: 2.958390\n",
      "Epoch: 10, Loss: 2.856035\n",
      "Epoch: 11, Loss: 2.773375\n",
      "Epoch: 12, Loss: 2.704956\n",
      "Epoch: 13, Loss: 2.647665\n",
      "Epoch: 14, Loss: 2.598173\n",
      "Epoch: 15, Loss: 2.554990\n",
      "Epoch: 16, Loss: 2.517343\n",
      "Epoch: 17, Loss: 2.482929\n",
      "Epoch: 18, Loss: 2.453019\n",
      "Epoch: 19, Loss: 2.425304\n",
      "Epoch: 20, Loss: 2.399795\n",
      "Epoch: 21, Loss: 2.377005\n",
      "Epoch: 22, Loss: 2.355065\n",
      "Epoch: 23, Loss: 2.335252\n",
      "Epoch: 24, Loss: 2.316506\n",
      "Epoch: 25, Loss: 2.298632\n",
      "Epoch: 26, Loss: 2.282248\n",
      "Epoch: 27, Loss: 2.266181\n",
      "Epoch: 28, Loss: 2.251186\n",
      "Epoch: 29, Loss: 2.237334\n",
      "Epoch: 30, Loss: 2.223519\n",
      "Epoch: 31, Loss: 2.210387\n",
      "Epoch: 32, Loss: 2.197921\n",
      "Epoch: 33, Loss: 2.185833\n",
      "Epoch: 34, Loss: 2.174633\n",
      "Epoch: 35, Loss: 2.163684\n",
      "Epoch: 36, Loss: 2.153166\n",
      "Epoch: 37, Loss: 2.142149\n",
      "Epoch: 38, Loss: 2.132279\n",
      "Epoch: 39, Loss: 2.122381\n",
      "Epoch: 40, Loss: 2.112922\n",
      "Epoch: 41, Loss: 2.103283\n",
      "Epoch: 42, Loss: 2.094436\n",
      "Epoch: 43, Loss: 2.085224\n",
      "Epoch: 44, Loss: 2.076564\n",
      "Epoch: 45, Loss: 2.068087\n",
      "Epoch: 46, Loss: 2.059827\n",
      "Epoch: 47, Loss: 2.051722\n",
      "Epoch: 48, Loss: 2.043404\n",
      "Epoch: 49, Loss: 2.035671\n",
      "Epoch: 50, Loss: 2.028342\n",
      "Epoch: 51, Loss: 2.020712\n",
      "Epoch: 52, Loss: 2.013073\n",
      "Epoch: 53, Loss: 2.005697\n",
      "Epoch: 54, Loss: 1.998220\n",
      "Epoch: 55, Loss: 1.991442\n",
      "Epoch: 56, Loss: 1.984343\n",
      "Epoch: 57, Loss: 1.977367\n",
      "Epoch: 58, Loss: 1.970677\n",
      "Epoch: 59, Loss: 1.963837\n",
      "Epoch: 60, Loss: 1.957290\n",
      "Epoch: 61, Loss: 1.950410\n",
      "Epoch: 62, Loss: 1.944162\n",
      "Epoch: 63, Loss: 1.937323\n",
      "Epoch: 64, Loss: 1.931154\n",
      "Epoch: 65, Loss: 1.925055\n",
      "Epoch: 66, Loss: 1.919039\n",
      "Epoch: 67, Loss: 1.912434\n",
      "Epoch: 68, Loss: 1.906413\n",
      "Epoch: 69, Loss: 1.900226\n",
      "Epoch: 70, Loss: 1.894413\n",
      "Epoch: 71, Loss: 1.888663\n",
      "Epoch: 72, Loss: 1.882706\n",
      "Epoch: 73, Loss: 1.876790\n",
      "Epoch: 74, Loss: 1.870936\n",
      "Epoch: 75, Loss: 1.865140\n",
      "Epoch: 76, Loss: 1.859316\n",
      "Epoch: 77, Loss: 1.853577\n",
      "Epoch: 78, Loss: 1.848063\n",
      "Epoch: 79, Loss: 1.842753\n",
      "Epoch: 80, Loss: 1.836934\n",
      "Epoch: 81, Loss: 1.831816\n",
      "Epoch: 82, Loss: 1.826056\n",
      "Epoch: 83, Loss: 1.821183\n",
      "Epoch: 84, Loss: 1.816045\n",
      "Epoch: 85, Loss: 1.810340\n",
      "Epoch: 86, Loss: 1.805579\n",
      "Epoch: 87, Loss: 1.800515\n",
      "Epoch: 88, Loss: 1.795340\n",
      "Epoch: 89, Loss: 1.790474\n",
      "Epoch: 90, Loss: 1.785865\n",
      "Epoch: 91, Loss: 1.780865\n",
      "Epoch: 92, Loss: 1.776238\n",
      "Epoch: 93, Loss: 1.771670\n",
      "Epoch: 94, Loss: 1.766923\n",
      "Epoch: 95, Loss: 1.762400\n",
      "Epoch: 96, Loss: 1.758091\n",
      "Epoch: 97, Loss: 1.753225\n",
      "Epoch: 98, Loss: 1.748952\n",
      "Epoch: 99, Loss: 1.744668\n"
     ]
    }
   ],
   "source": [
    "n_epochs = 100\n",
    "for epoch in range(n_epochs):\n",
    "    epoch_loss = 0\n",
    "    for img, label in train_loader:\n",
    "        label_one_hot = torch.zeros(batch_sz, 10).scatter_(1, label.view(batch_sz,1), 1.0)\n",
    "        predict = model(img.view(batch_sz, -1))\n",
    "        curr_loss = loss(predict, label_one_hot)\n",
    "    \n",
    "        optimizer.zero_grad()\n",
    "        curr_loss.backward() ## gradient\n",
    "        optimizer.step()\n",
    "        \n",
    "        epoch_loss += curr_loss\n",
    "    print(\"Epoch: %d, Loss: %f\" % (epoch, float(epoch_loss)))"
   ]
  },
  {
   "source": [
    "## Test accuracy"
   ],
   "cell_type": "markdown",
   "metadata": {}
  },
  {
   "source": [
    "### Test set"
   ],
   "cell_type": "markdown",
   "metadata": {}
  },
  {
   "cell_type": "code",
   "execution_count": 22,
   "metadata": {},
   "outputs": [
    {
     "output_type": "stream",
     "name": "stdout",
     "text": [
      "0\n"
     ]
    },
    {
     "output_type": "execute_result",
     "data": {
      "text/plain": [
       "<matplotlib.image.AxesImage at 0x1286b77d0>"
      ]
     },
     "metadata": {},
     "execution_count": 22
    },
    {
     "output_type": "display_data",
     "data": {
      "text/plain": "<Figure size 432x288 with 1 Axes>",
      "image/svg+xml": "<?xml version=\"1.0\" encoding=\"utf-8\" standalone=\"no\"?>\n<!DOCTYPE svg PUBLIC \"-//W3C//DTD SVG 1.1//EN\"\n  \"http://www.w3.org/Graphics/SVG/1.1/DTD/svg11.dtd\">\n<!-- Created with matplotlib (https://matplotlib.org/) -->\n<svg height=\"248.518125pt\" version=\"1.1\" viewBox=\"0 0 251.565 248.518125\" width=\"251.565pt\" xmlns=\"http://www.w3.org/2000/svg\" xmlns:xlink=\"http://www.w3.org/1999/xlink\">\n <defs>\n  <style type=\"text/css\">\n*{stroke-linecap:butt;stroke-linejoin:round;}\n  </style>\n </defs>\n <g id=\"figure_1\">\n  <g id=\"patch_1\">\n   <path d=\"M 0 248.518125 \nL 251.565 248.518125 \nL 251.565 0 \nL 0 0 \nz\n\" style=\"fill:none;\"/>\n  </g>\n  <g id=\"axes_1\">\n   <g id=\"patch_2\">\n    <path d=\"M 26.925 224.64 \nL 244.365 224.64 \nL 244.365 7.2 \nL 26.925 7.2 \nz\n\" style=\"fill:#ffffff;\"/>\n   </g>\n   <g clip-path=\"url(#p6d835d1b7a)\">\n    <image height=\"218\" id=\"imagead80661027\" transform=\"scale(1 -1)translate(0 -218)\" width=\"218\" x=\"26.925\" xlink:href=\"data:image/png;base64,\niVBORw0KGgoAAAANSUhEUgAAANoAAADaCAYAAADAHVzbAAAABHNCSVQICAgIfAhkiAAABR1JREFUeJzt3T9IlX0cxuGnl4aW2mtQCgwxiCSoIJQIm3KRhvagKXcXF6mWttYyyBaFcCna+oOz0ZRBY1NKpEM02/zy9nwPHXvvo+dc13rzO5zlww/Ow6OHmqbZbYD/1T+9/gIwCIQGAUKDAKFBgNAgQGgQIDQIEBoECA0ChAYBQoMAoUGA0CBAaBAgNAgQGgQIDQKEBgFCgwChQYDQIEBoEHC411+gVx4+fFjus7Oz5X7s2LFy//nz5x9/J/qXGw0ChAYBQoMAoUGA0CBAaBAgNAgY2Odoe7WwsFDu9+/fb912dnb+9tdhn3OjQYDQIEBoECA0CBAaBAgNAoQGAYeaptnt9ZfohampqXJ/+fJluR85cqTc5+fnW7fqGRv9yY0GAUKDAKFBgNAgQGgQIDQIEBoEDOz7aK9fvy73xcXFcr9z5065nzt3rnU7fvx4efbr16/lzsHjRoMAoUGA0CBAaBAgNAgQGgQIDQIG9jlaJ0tLS+V+6dKlcr9x40brtr29XZ6t3mVrmqb59u1bubP/uNEgQGgQIDQIEBoECA0ChAYBft5v8f79+3Lf3a3/Sl+1X7t2rTz77t27cl9ZWSl39h83GgQIDQKEBgFCgwChQYDQIEBoEOA5WpeePXtW7ufPn2/dhoeHy7N3794t906vybx586bcyXOjQYDQIEBoECA0CBAaBAgNAoQGAZ6jdenx48flfuLEidZtbm6uPHvq1KlyHx0dLXfP0fYfNxoECA0ChAYBQoMAoUGA0CBAaBBwqGma+g8U0pWhoaHWbXl5uTzb6V9CdXofbXp6utw7/c1K/j43GgQIDQKEBgFCgwChQYDQIMDP+z0wMzNT7qurq3v6/KdPn5b7rVu39vT5/Dk3GgQIDQKEBgFCgwChQYDQIEBoEOA52j709u3bcp+YmCj37e3tch8bG2vdvn//Xp6lO240CBAaBAgNAoQGAUKDAKFBgNAgwHO0fejMmTPl/uLFi3I/efJkuX/+/Ll1u3DhQnn2x48f5c7vudEgQGgQIDQIEBoECA0ChAYBQoOAw73+AvzXxsZGua+vr5d7p+dop0+fbt1u3rxZnl1cXCx3fs+NBgFCgwChQYDQIEBoECA0CBAaBHgf7QC6fv16uT948KDcR0dHW7ePHz+WZ69cuVLuOzs75T6o3GgQIDQIEBoECA0ChAYBQoMAP+/3oU6vuiwvL3f92bdv3y73J0+edP3Z/cyNBgFCgwChQYDQIEBoECA0CBAaBPhzc31oa2ur3D98+NC6jY+Pl2cvX75c7pubm+X+6tWrcu9XbjQIEBoECA0ChAYBQoMAoUGA0CDA+2gDaGpqqnV79OhReXZ4eLjc19bWyv3q1avl3q/caBAgNAgQGgQIDQKEBgFCgwChQYDnaAPo6NGjrdvs7Gx59t69e+X+5cuXcp+bm2vdnj9/Xp49yNxoECA0CBAaBAgNAoQGAUKDAKFBgOdo/Ev1jK1pmmZ9fb3cR0ZGyn1jY6N1O3v2bHn2IHOjQYDQIEBoECA0CBAaBAgNAvy8zx+ZnJws9738W6aLFy+W+6dPn7r+7F5zo0GA0CBAaBAgNAgQGgQIDQKEBgGeo0GAGw0ChAYBQoMAoUGA0CBAaBAgNAgQGgQIDQKEBgFCgwChQYDQIEBoECA0CBAaBAgNAoQGAUKDAKFBgNAgQGgQIDQIEBoECA0ChAYBQoMAoUGA0CBAaBAgNAgQGgQIDQKEBgFCgwChQYDQIEBoEPALD9ywDqDCYIwAAAAASUVORK5CYII=\" y=\"-6.64\"/>\n   </g>\n   <g id=\"matplotlib.axis_1\">\n    <g id=\"xtick_1\">\n     <g id=\"line2d_1\">\n      <defs>\n       <path d=\"M 0 0 \nL 0 3.5 \n\" id=\"mc28060144e\" style=\"stroke:#000000;stroke-width:0.8;\"/>\n      </defs>\n      <g>\n       <use style=\"stroke:#000000;stroke-width:0.8;\" x=\"30.807857\" xlink:href=\"#mc28060144e\" y=\"224.64\"/>\n      </g>\n     </g>\n     <g id=\"text_1\">\n      <!-- 0 -->\n      <defs>\n       <path d=\"M 31.78125 66.40625 \nQ 24.171875 66.40625 20.328125 58.90625 \nQ 16.5 51.421875 16.5 36.375 \nQ 16.5 21.390625 20.328125 13.890625 \nQ 24.171875 6.390625 31.78125 6.390625 \nQ 39.453125 6.390625 43.28125 13.890625 \nQ 47.125 21.390625 47.125 36.375 \nQ 47.125 51.421875 43.28125 58.90625 \nQ 39.453125 66.40625 31.78125 66.40625 \nz\nM 31.78125 74.21875 \nQ 44.046875 74.21875 50.515625 64.515625 \nQ 56.984375 54.828125 56.984375 36.375 \nQ 56.984375 17.96875 50.515625 8.265625 \nQ 44.046875 -1.421875 31.78125 -1.421875 \nQ 19.53125 -1.421875 13.0625 8.265625 \nQ 6.59375 17.96875 6.59375 36.375 \nQ 6.59375 54.828125 13.0625 64.515625 \nQ 19.53125 74.21875 31.78125 74.21875 \nz\n\" id=\"DejaVuSans-48\"/>\n      </defs>\n      <g transform=\"translate(27.626607 239.238437)scale(0.1 -0.1)\">\n       <use xlink:href=\"#DejaVuSans-48\"/>\n      </g>\n     </g>\n    </g>\n    <g id=\"xtick_2\">\n     <g id=\"line2d_2\">\n      <g>\n       <use style=\"stroke:#000000;stroke-width:0.8;\" x=\"69.636429\" xlink:href=\"#mc28060144e\" y=\"224.64\"/>\n      </g>\n     </g>\n     <g id=\"text_2\">\n      <!-- 5 -->\n      <defs>\n       <path d=\"M 10.796875 72.90625 \nL 49.515625 72.90625 \nL 49.515625 64.59375 \nL 19.828125 64.59375 \nL 19.828125 46.734375 \nQ 21.96875 47.46875 24.109375 47.828125 \nQ 26.265625 48.1875 28.421875 48.1875 \nQ 40.625 48.1875 47.75 41.5 \nQ 54.890625 34.8125 54.890625 23.390625 \nQ 54.890625 11.625 47.5625 5.09375 \nQ 40.234375 -1.421875 26.90625 -1.421875 \nQ 22.3125 -1.421875 17.546875 -0.640625 \nQ 12.796875 0.140625 7.71875 1.703125 \nL 7.71875 11.625 \nQ 12.109375 9.234375 16.796875 8.0625 \nQ 21.484375 6.890625 26.703125 6.890625 \nQ 35.15625 6.890625 40.078125 11.328125 \nQ 45.015625 15.765625 45.015625 23.390625 \nQ 45.015625 31 40.078125 35.4375 \nQ 35.15625 39.890625 26.703125 39.890625 \nQ 22.75 39.890625 18.8125 39.015625 \nQ 14.890625 38.140625 10.796875 36.28125 \nz\n\" id=\"DejaVuSans-53\"/>\n      </defs>\n      <g transform=\"translate(66.455179 239.238437)scale(0.1 -0.1)\">\n       <use xlink:href=\"#DejaVuSans-53\"/>\n      </g>\n     </g>\n    </g>\n    <g id=\"xtick_3\">\n     <g id=\"line2d_3\">\n      <g>\n       <use style=\"stroke:#000000;stroke-width:0.8;\" x=\"108.465\" xlink:href=\"#mc28060144e\" y=\"224.64\"/>\n      </g>\n     </g>\n     <g id=\"text_3\">\n      <!-- 10 -->\n      <defs>\n       <path d=\"M 12.40625 8.296875 \nL 28.515625 8.296875 \nL 28.515625 63.921875 \nL 10.984375 60.40625 \nL 10.984375 69.390625 \nL 28.421875 72.90625 \nL 38.28125 72.90625 \nL 38.28125 8.296875 \nL 54.390625 8.296875 \nL 54.390625 0 \nL 12.40625 0 \nz\n\" id=\"DejaVuSans-49\"/>\n      </defs>\n      <g transform=\"translate(102.1025 239.238437)scale(0.1 -0.1)\">\n       <use xlink:href=\"#DejaVuSans-49\"/>\n       <use x=\"63.623047\" xlink:href=\"#DejaVuSans-48\"/>\n      </g>\n     </g>\n    </g>\n    <g id=\"xtick_4\">\n     <g id=\"line2d_4\">\n      <g>\n       <use style=\"stroke:#000000;stroke-width:0.8;\" x=\"147.293571\" xlink:href=\"#mc28060144e\" y=\"224.64\"/>\n      </g>\n     </g>\n     <g id=\"text_4\">\n      <!-- 15 -->\n      <g transform=\"translate(140.931071 239.238437)scale(0.1 -0.1)\">\n       <use xlink:href=\"#DejaVuSans-49\"/>\n       <use x=\"63.623047\" xlink:href=\"#DejaVuSans-53\"/>\n      </g>\n     </g>\n    </g>\n    <g id=\"xtick_5\">\n     <g id=\"line2d_5\">\n      <g>\n       <use style=\"stroke:#000000;stroke-width:0.8;\" x=\"186.122143\" xlink:href=\"#mc28060144e\" y=\"224.64\"/>\n      </g>\n     </g>\n     <g id=\"text_5\">\n      <!-- 20 -->\n      <defs>\n       <path d=\"M 19.1875 8.296875 \nL 53.609375 8.296875 \nL 53.609375 0 \nL 7.328125 0 \nL 7.328125 8.296875 \nQ 12.9375 14.109375 22.625 23.890625 \nQ 32.328125 33.6875 34.8125 36.53125 \nQ 39.546875 41.84375 41.421875 45.53125 \nQ 43.3125 49.21875 43.3125 52.78125 \nQ 43.3125 58.59375 39.234375 62.25 \nQ 35.15625 65.921875 28.609375 65.921875 \nQ 23.96875 65.921875 18.8125 64.3125 \nQ 13.671875 62.703125 7.8125 59.421875 \nL 7.8125 69.390625 \nQ 13.765625 71.78125 18.9375 73 \nQ 24.125 74.21875 28.421875 74.21875 \nQ 39.75 74.21875 46.484375 68.546875 \nQ 53.21875 62.890625 53.21875 53.421875 \nQ 53.21875 48.921875 51.53125 44.890625 \nQ 49.859375 40.875 45.40625 35.40625 \nQ 44.1875 33.984375 37.640625 27.21875 \nQ 31.109375 20.453125 19.1875 8.296875 \nz\n\" id=\"DejaVuSans-50\"/>\n      </defs>\n      <g transform=\"translate(179.759643 239.238437)scale(0.1 -0.1)\">\n       <use xlink:href=\"#DejaVuSans-50\"/>\n       <use x=\"63.623047\" xlink:href=\"#DejaVuSans-48\"/>\n      </g>\n     </g>\n    </g>\n    <g id=\"xtick_6\">\n     <g id=\"line2d_6\">\n      <g>\n       <use style=\"stroke:#000000;stroke-width:0.8;\" x=\"224.950714\" xlink:href=\"#mc28060144e\" y=\"224.64\"/>\n      </g>\n     </g>\n     <g id=\"text_6\">\n      <!-- 25 -->\n      <g transform=\"translate(218.588214 239.238437)scale(0.1 -0.1)\">\n       <use xlink:href=\"#DejaVuSans-50\"/>\n       <use x=\"63.623047\" xlink:href=\"#DejaVuSans-53\"/>\n      </g>\n     </g>\n    </g>\n   </g>\n   <g id=\"matplotlib.axis_2\">\n    <g id=\"ytick_1\">\n     <g id=\"line2d_7\">\n      <defs>\n       <path d=\"M 0 0 \nL -3.5 0 \n\" id=\"m357ecb5967\" style=\"stroke:#000000;stroke-width:0.8;\"/>\n      </defs>\n      <g>\n       <use style=\"stroke:#000000;stroke-width:0.8;\" x=\"26.925\" xlink:href=\"#m357ecb5967\" y=\"11.082857\"/>\n      </g>\n     </g>\n     <g id=\"text_7\">\n      <!-- 0 -->\n      <g transform=\"translate(13.5625 14.882076)scale(0.1 -0.1)\">\n       <use xlink:href=\"#DejaVuSans-48\"/>\n      </g>\n     </g>\n    </g>\n    <g id=\"ytick_2\">\n     <g id=\"line2d_8\">\n      <g>\n       <use style=\"stroke:#000000;stroke-width:0.8;\" x=\"26.925\" xlink:href=\"#m357ecb5967\" y=\"49.911429\"/>\n      </g>\n     </g>\n     <g id=\"text_8\">\n      <!-- 5 -->\n      <g transform=\"translate(13.5625 53.710647)scale(0.1 -0.1)\">\n       <use xlink:href=\"#DejaVuSans-53\"/>\n      </g>\n     </g>\n    </g>\n    <g id=\"ytick_3\">\n     <g id=\"line2d_9\">\n      <g>\n       <use style=\"stroke:#000000;stroke-width:0.8;\" x=\"26.925\" xlink:href=\"#m357ecb5967\" y=\"88.74\"/>\n      </g>\n     </g>\n     <g id=\"text_9\">\n      <!-- 10 -->\n      <g transform=\"translate(7.2 92.539219)scale(0.1 -0.1)\">\n       <use xlink:href=\"#DejaVuSans-49\"/>\n       <use x=\"63.623047\" xlink:href=\"#DejaVuSans-48\"/>\n      </g>\n     </g>\n    </g>\n    <g id=\"ytick_4\">\n     <g id=\"line2d_10\">\n      <g>\n       <use style=\"stroke:#000000;stroke-width:0.8;\" x=\"26.925\" xlink:href=\"#m357ecb5967\" y=\"127.568571\"/>\n      </g>\n     </g>\n     <g id=\"text_10\">\n      <!-- 15 -->\n      <g transform=\"translate(7.2 131.36779)scale(0.1 -0.1)\">\n       <use xlink:href=\"#DejaVuSans-49\"/>\n       <use x=\"63.623047\" xlink:href=\"#DejaVuSans-53\"/>\n      </g>\n     </g>\n    </g>\n    <g id=\"ytick_5\">\n     <g id=\"line2d_11\">\n      <g>\n       <use style=\"stroke:#000000;stroke-width:0.8;\" x=\"26.925\" xlink:href=\"#m357ecb5967\" y=\"166.397143\"/>\n      </g>\n     </g>\n     <g id=\"text_11\">\n      <!-- 20 -->\n      <g transform=\"translate(7.2 170.196362)scale(0.1 -0.1)\">\n       <use xlink:href=\"#DejaVuSans-50\"/>\n       <use x=\"63.623047\" xlink:href=\"#DejaVuSans-48\"/>\n      </g>\n     </g>\n    </g>\n    <g id=\"ytick_6\">\n     <g id=\"line2d_12\">\n      <g>\n       <use style=\"stroke:#000000;stroke-width:0.8;\" x=\"26.925\" xlink:href=\"#m357ecb5967\" y=\"205.225714\"/>\n      </g>\n     </g>\n     <g id=\"text_12\">\n      <!-- 25 -->\n      <g transform=\"translate(7.2 209.024933)scale(0.1 -0.1)\">\n       <use xlink:href=\"#DejaVuSans-50\"/>\n       <use x=\"63.623047\" xlink:href=\"#DejaVuSans-53\"/>\n      </g>\n     </g>\n    </g>\n   </g>\n   <g id=\"patch_3\">\n    <path d=\"M 26.925 224.64 \nL 26.925 7.2 \n\" style=\"fill:none;stroke:#000000;stroke-linecap:square;stroke-linejoin:miter;stroke-width:0.8;\"/>\n   </g>\n   <g id=\"patch_4\">\n    <path d=\"M 244.365 224.64 \nL 244.365 7.2 \n\" style=\"fill:none;stroke:#000000;stroke-linecap:square;stroke-linejoin:miter;stroke-width:0.8;\"/>\n   </g>\n   <g id=\"patch_5\">\n    <path d=\"M 26.925 224.64 \nL 244.365 224.64 \n\" style=\"fill:none;stroke:#000000;stroke-linecap:square;stroke-linejoin:miter;stroke-width:0.8;\"/>\n   </g>\n   <g id=\"patch_6\">\n    <path d=\"M 26.925 7.2 \nL 244.365 7.2 \n\" style=\"fill:none;stroke:#000000;stroke-linecap:square;stroke-linejoin:miter;stroke-width:0.8;\"/>\n   </g>\n  </g>\n </g>\n <defs>\n  <clipPath id=\"p6d835d1b7a\">\n   <rect height=\"217.44\" width=\"217.44\" x=\"26.925\" y=\"7.2\"/>\n  </clipPath>\n </defs>\n</svg>\n",
      "image/png": "[encoded data removed]"
     },
     "metadata": {
      "needs_background": "light"
     }
    }
   ],
   "source": [
    "testdata = datasets.MNIST('data/mnist_test', train=False, download=False, transform=transforms.ToTensor()) # download=True to download, train=False means test set\n",
    "\n",
    "test_loader = torch.utils.data.DataLoader(testdata, batch_size=1, shuffle=True)\n",
    "\n",
    "img, label = next(iter(test_loader))\n",
    "\n",
    "predict = model(img.view(-1).unsqueeze(0))\n",
    "\n",
    "_, predicted_label = torch.max(predict, dim=1)\n",
    "\n",
    "print(predicted_label.item())\n",
    "\n",
    "plt.imshow(img.reshape(28,28), cmap='gray')\n"
   ]
  },
  {
   "source": [
    "## Visualization"
   ],
   "cell_type": "markdown",
   "metadata": {}
  },
  {
   "cell_type": "code",
   "execution_count": 23,
   "metadata": {},
   "outputs": [],
   "source": [
    "!rm -rf runs\n",
    "writer = SummaryWriter('runs/mnist')"
   ]
  },
  {
   "source": [
    "### add loss"
   ],
   "cell_type": "markdown",
   "metadata": {}
  },
  {
   "cell_type": "code",
   "execution_count": 24,
   "metadata": {},
   "outputs": [
    {
     "output_type": "stream",
     "name": "stdout",
     "text": [
      "Epoch: 0, Loss: 1.740267\n",
      "Epoch: 1, Loss: 1.736325\n",
      "Epoch: 2, Loss: 1.731875\n",
      "Epoch: 3, Loss: 1.727823\n",
      "Epoch: 4, Loss: 1.723512\n",
      "Epoch: 5, Loss: 1.719495\n",
      "Epoch: 6, Loss: 1.715571\n",
      "Epoch: 7, Loss: 1.711490\n",
      "Epoch: 8, Loss: 1.707280\n",
      "Epoch: 9, Loss: 1.703824\n"
     ]
    }
   ],
   "source": [
    "n_epochs = 10\n",
    "learning_rate = 0.1\n",
    "for epoch in range(n_epochs):\n",
    "    epoch_loss = 0\n",
    "    for img, label in train_loader:\n",
    "        label_one_hot = torch.zeros(batch_sz, 10).scatter_(1, label.view(batch_sz,1), 1.0)\n",
    "        predict = model(img.view(batch_sz, -1))\n",
    "        curr_loss = loss(predict, label_one_hot)\n",
    "    \n",
    "        optimizer.zero_grad()\n",
    "        curr_loss.backward()\n",
    "        optimizer.step()\n",
    "        \n",
    "        epoch_loss += curr_loss\n",
    "    \n",
    "    writer.add_scalar(\"Loss/train\", epoch_loss, epoch)\n",
    "    print(\"Epoch: %d, Loss: %f\" % (epoch, float(epoch_loss)))"
   ]
  },
  {
   "source": [
    "### add model"
   ],
   "cell_type": "markdown",
   "metadata": {}
  },
  {
   "cell_type": "code",
   "execution_count": 25,
   "metadata": {},
   "outputs": [],
   "source": [
    "img, _ = next(iter(train_loader))\n",
    "writer.add_graph(model, img.view(batch_sz,-1))"
   ]
  },
  {
   "cell_type": "code",
   "execution_count": 26,
   "metadata": {},
   "outputs": [],
   "source": [
    "writer.flush()\n",
    "writer.close()"
   ]
  },
  {
   "cell_type": "code",
   "execution_count": 62,
   "metadata": {},
   "outputs": [
    {
     "output_type": "stream",
     "name": "stdout",
     "text": [
      "TensorFlow installation not found - running with reduced feature set.\n",
      "Serving TensorBoard on localhost; to expose to the network, use a proxy or pass --bind_all\n",
      "TensorBoard 2.4.0 at http://localhost:6006/ (Press CTRL+C to quit)\n",
      "^C\n"
     ]
    }
   ],
   "source": [
    "!tensorboard --logdir=runs/mnist"
   ]
  },
  {
   "cell_type": "code",
   "execution_count": null,
   "metadata": {},
   "outputs": [],
   "source": []
  }
 ]
}